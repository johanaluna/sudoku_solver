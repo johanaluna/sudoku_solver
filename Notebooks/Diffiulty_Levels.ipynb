{
 "cells": [
  {
   "cell_type": "code",
   "execution_count": 13,
   "metadata": {},
   "outputs": [],
   "source": [
    "from main import *\n",
    "from ai import *\n",
    "import pandas as pd\n",
    "import numpy as np"
   ]
  },
  {
   "cell_type": "markdown",
   "metadata": {},
   "source": [
    "#### Test Solver"
   ]
  },
  {
   "cell_type": "code",
   "execution_count": 67,
   "metadata": {},
   "outputs": [
    {
     "data": {
      "text/plain": [
       "('Solved',\n",
       " '853946172917582364462137598145869237628375419739421856371298645294653781586714923')"
      ]
     },
     "execution_count": 67,
     "metadata": {},
     "output_type": "execute_result"
    }
   ],
   "source": [
    "test2 = '.5.....7.9......6...21.75.8.4..69.3...8...4...3.42..5.3.12.86...9......1.8.....2.'\n",
    "test3 = '8...74...1.........7.5.9.4....65.4..73.....296.8.......2.3.1.5.........8...9....2'\n",
    "solve(test2)"
   ]
  },
  {
   "cell_type": "code",
   "execution_count": 68,
   "metadata": {},
   "outputs": [
    {
     "name": "stdout",
     "output_type": "stream",
     "text": [
      "   8     569    2369 |   12     7      4   | 12359   1369   1356 \n",
      "   1     4569  23469 |   28    2368   236  | 235789 36789   3567 \n",
      "   23     7     236  |   5    12368    9   |  1238    4     136  \n",
      "---------------------+---------------------+---------------------\n",
      "   29     19    129  |   6      5     237  |   4     1378   137  \n",
      "   7      3      5   |   14     14     8   |   6      2      9   \n",
      "   6     149     8   |   27    239    237  |  1357   137    1357 \n",
      "---------------------+---------------------+---------------------\n",
      "   49     2     4679 |   3     468     1   |   79     5     467  \n",
      "  3459  14569  134679|  247    246    2567 |  1379  13679    8   \n",
      "  345   14568  13467 |   9     468    567  |  137    1367    2   \n",
      "\n"
     ]
    }
   ],
   "source": [
    "a=solve_technique(test3,\"naked_twins\")\n",
    "display(a[1])"
   ]
  },
  {
   "cell_type": "code",
   "execution_count": 25,
   "metadata": {},
   "outputs": [],
   "source": [
    "# import sys\n",
    "# sys.setrecursionlimit(1500)"
   ]
  },
  {
   "cell_type": "markdown",
   "metadata": {},
   "source": []
  },
  {
   "cell_type": "code",
   "execution_count": 14,
   "metadata": {},
   "outputs": [
    {
     "data": {
      "text/html": [
       "<div>\n",
       "<style scoped>\n",
       "    .dataframe tbody tr th:only-of-type {\n",
       "        vertical-align: middle;\n",
       "    }\n",
       "\n",
       "    .dataframe tbody tr th {\n",
       "        vertical-align: top;\n",
       "    }\n",
       "\n",
       "    .dataframe thead th {\n",
       "        text-align: right;\n",
       "    }\n",
       "</style>\n",
       "<table border=\"1\" class=\"dataframe\">\n",
       "  <thead>\n",
       "    <tr style=\"text-align: right;\">\n",
       "      <th></th>\n",
       "      <th>Id</th>\n",
       "      <th>Sudoku</th>\n",
       "      <th>Solution</th>\n",
       "      <th>Level</th>\n",
       "      <th>People</th>\n",
       "      <th>Average-Time</th>\n",
       "    </tr>\n",
       "  </thead>\n",
       "  <tbody>\n",
       "    <tr>\n",
       "      <th>0</th>\n",
       "      <td>0</td>\n",
       "      <td>8...74...1.........7.5.9.4....65.4..73.....296...</td>\n",
       "      <td>8591742361648325973725698412916574837354186296...</td>\n",
       "      <td>Diabolical</td>\n",
       "      <td>254</td>\n",
       "      <td>25</td>\n",
       "    </tr>\n",
       "    <tr>\n",
       "      <th>1</th>\n",
       "      <td>1</td>\n",
       "      <td>.5.....7.9......6...21.75.8.4..69.3...8...4......</td>\n",
       "      <td>8539461729175823644621375981458692376283754197...</td>\n",
       "      <td>Moderate</td>\n",
       "      <td>281</td>\n",
       "      <td>12</td>\n",
       "    </tr>\n",
       "    <tr>\n",
       "      <th>2</th>\n",
       "      <td>2</td>\n",
       "      <td>...45.2..3.........8....4..7...94.3.9..5.2.76....</td>\n",
       "      <td>6974532183248617955819274637186945329435128762...</td>\n",
       "      <td>Diabolical</td>\n",
       "      <td>265</td>\n",
       "      <td>22</td>\n",
       "    </tr>\n",
       "    <tr>\n",
       "      <th>3</th>\n",
       "      <td>3</td>\n",
       "      <td>9......31.3...8.....5.7.9..3...4...8.916..54.4...</td>\n",
       "      <td>9274568316341982758153729643527496187916835424...</td>\n",
       "      <td>Tough</td>\n",
       "      <td>279</td>\n",
       "      <td>19</td>\n",
       "    </tr>\n",
       "    <tr>\n",
       "      <th>4</th>\n",
       "      <td>4</td>\n",
       "      <td>9.......2784.1.5.....4.....2.53.1.7...7...8......</td>\n",
       "      <td>9615387427846125395234796182953814761479568236...</td>\n",
       "      <td>Moderate</td>\n",
       "      <td>301</td>\n",
       "      <td>14</td>\n",
       "    </tr>\n",
       "  </tbody>\n",
       "</table>\n",
       "</div>"
      ],
      "text/plain": [
       "   Id                                             Sudoku  \\\n",
       "0   0  8...74...1.........7.5.9.4....65.4..73.....296...   \n",
       "1   1  .5.....7.9......6...21.75.8.4..69.3...8...4......   \n",
       "2   2  ...45.2..3.........8....4..7...94.3.9..5.2.76....   \n",
       "3   3  9......31.3...8.....5.7.9..3...4...8.916..54.4...   \n",
       "4   4  9.......2784.1.5.....4.....2.53.1.7...7...8......   \n",
       "\n",
       "                                            Solution       Level  People  \\\n",
       "0  8591742361648325973725698412916574837354186296...  Diabolical     254   \n",
       "1  8539461729175823644621375981458692376283754197...    Moderate     281   \n",
       "2  6974532183248617955819274637186945329435128762...  Diabolical     265   \n",
       "3  9274568316341982758153729643527496187916835424...       Tough     279   \n",
       "4  9615387427846125395234796182953814761479568236...    Moderate     301   \n",
       "\n",
       "   Average-Time  \n",
       "0            25  \n",
       "1            12  \n",
       "2            22  \n",
       "3            19  \n",
       "4            14  "
      ]
     },
     "execution_count": 14,
     "metadata": {},
     "output_type": "execute_result"
    }
   ],
   "source": [
    "df = pd.read_csv('data/dataset.csv').drop('Unnamed: 0', axis=1)\n",
    "df.head()"
   ]
  },
  {
   "cell_type": "code",
   "execution_count": 15,
   "metadata": {},
   "outputs": [
    {
     "data": {
      "text/plain": [
       "'8...74...1.........7.5.9.4....65.4..73.....296.8.......2.3.1.5.........8...9....2'"
      ]
     },
     "execution_count": 15,
     "metadata": {},
     "output_type": "execute_result"
    }
   ],
   "source": [
    "df['Sudoku'][0]"
   ]
  },
  {
   "cell_type": "code",
   "execution_count": 16,
   "metadata": {},
   "outputs": [
    {
     "data": {
      "text/plain": [
       "'Not solved'"
      ]
     },
     "execution_count": 16,
     "metadata": {},
     "output_type": "execute_result"
    }
   ],
   "source": [
    "#solve(df['Sudoku'][0])\n",
    "solve_technique(df['Sudoku'][0],'single_position')[0]"
   ]
  },
  {
   "cell_type": "code",
   "execution_count": 17,
   "metadata": {},
   "outputs": [
    {
     "data": {
      "text/plain": [
       "'Not solved'"
      ]
     },
     "execution_count": 17,
     "metadata": {},
     "output_type": "execute_result"
    }
   ],
   "source": [
    "solve_technique(df['Sudoku'][0],'single_candidate')[0]"
   ]
  },
  {
   "cell_type": "code",
   "execution_count": 18,
   "metadata": {},
   "outputs": [
    {
     "data": {
      "text/plain": [
       "'Not solved'"
      ]
     },
     "execution_count": 18,
     "metadata": {},
     "output_type": "execute_result"
    }
   ],
   "source": [
    "solve_technique(df['Sudoku'][0],'naked_twins')[0]"
   ]
  },
  {
   "cell_type": "code",
   "execution_count": 19,
   "metadata": {},
   "outputs": [
    {
     "data": {
      "text/plain": [
       "('Solved',\n",
       " '859174236164832597372569841291657483735418629648293175926381754413725968587946312')"
      ]
     },
     "execution_count": 19,
     "metadata": {},
     "output_type": "execute_result"
    }
   ],
   "source": [
    "solve(df['Sudoku'][0])"
   ]
  },
  {
   "cell_type": "code",
   "execution_count": 4,
   "metadata": {},
   "outputs": [],
   "source": [
    "import json\n",
    "a =solve(df['Sudoku'][0])[1]"
   ]
  },
  {
   "cell_type": "code",
   "execution_count": 9,
   "metadata": {},
   "outputs": [
    {
     "data": {
      "text/plain": [
       "'859174236164832597372569841291657483735418629648293175926381754413725968587946312'"
      ]
     },
     "execution_count": 9,
     "metadata": {},
     "output_type": "execute_result"
    }
   ],
   "source": [
    "\"\".join([value if len(value) == 1 else \".\" for value in a.values()])"
   ]
  },
  {
   "cell_type": "code",
   "execution_count": 50,
   "metadata": {},
   "outputs": [],
   "source": [
    "# rows = 'ABCDEFGHI'\n",
    "# cols = '123456789'\n",
    "# boxes = [s+t for s in rows for t in cols]\n",
    "\n",
    "# def display(values):\n",
    "#     \"\"\"\n",
    "#     Display the values as a 2-D grid.\n",
    "#     Input: The sudoku in dictionary form\n",
    "#     Output: None\n",
    "#     \"\"\"\n",
    "#     width = 1+max(len(values[s]) for s in boxes)\n",
    "#     line = '+'.join(['-'*(width*3)]*3)\n",
    "#     for r in rows:\n",
    "#         print(''.join(values[r+c].center(width)+('|' if c in '36' else '')\n",
    "#                       for c in cols))\n",
    "#         if r in 'CF': print(line)\n",
    "#     print"
   ]
  },
  {
   "cell_type": "code",
   "execution_count": 11,
   "metadata": {},
   "outputs": [
    {
     "name": "stdout",
     "output_type": "stream",
     "text": [
      "8 5 9 |1 7 4 |2 3 6 \n",
      "1 6 4 |8 3 2 |5 9 7 \n",
      "3 7 2 |5 6 9 |8 4 1 \n",
      "------+------+------\n",
      "2 9 1 |6 5 7 |4 8 3 \n",
      "7 3 5 |4 1 8 |6 2 9 \n",
      "6 4 8 |2 9 3 |1 7 5 \n",
      "------+------+------\n",
      "9 2 6 |3 8 1 |7 5 4 \n",
      "4 1 3 |7 2 5 |9 6 8 \n",
      "5 8 7 |9 4 6 |3 1 2 \n"
     ]
    }
   ],
   "source": [
    "display(a)"
   ]
  },
  {
   "cell_type": "code",
   "execution_count": 60,
   "metadata": {},
   "outputs": [],
   "source": [
    "df['Solved_single_position'] = df['Sudoku'].apply(lambda x: solve_technique(x, 'single_position')[0])"
   ]
  },
  {
   "cell_type": "code",
   "execution_count": 61,
   "metadata": {},
   "outputs": [
    {
     "data": {
      "text/plain": [
       "Not solved    4813\n",
       "Solved         216\n",
       "Name: Solved_single_position, dtype: int64"
      ]
     },
     "execution_count": 61,
     "metadata": {},
     "output_type": "execute_result"
    }
   ],
   "source": [
    "df['Solved_single_position'].value_counts()"
   ]
  },
  {
   "cell_type": "code",
   "execution_count": 14,
   "metadata": {},
   "outputs": [],
   "source": [
    "df['Solved_single_candidate'] = df['Sudoku'].apply(lambda x: solve_technique(x, 'single_candidate')[0])"
   ]
  },
  {
   "cell_type": "code",
   "execution_count": 15,
   "metadata": {},
   "outputs": [
    {
     "data": {
      "text/plain": [
       "Not solved    5029\n",
       "Name: Solved_single_candidate, dtype: int64"
      ]
     },
     "execution_count": 15,
     "metadata": {},
     "output_type": "execute_result"
    }
   ],
   "source": [
    "df['Solved_single_candidate'].value_counts()"
   ]
  },
  {
   "cell_type": "code",
   "execution_count": 51,
   "metadata": {},
   "outputs": [],
   "source": [
    "df['Solved_naked_twins']= df['Sudoku'].apply(lambda x: solve_technique(x, 'naked_twins')[0])"
   ]
  },
  {
   "cell_type": "code",
   "execution_count": 52,
   "metadata": {},
   "outputs": [
    {
     "data": {
      "text/plain": [
       "Not solved    3658\n",
       "Solved        1371\n",
       "Name: Solved_naked_twins, dtype: int64"
      ]
     },
     "execution_count": 52,
     "metadata": {},
     "output_type": "execute_result"
    }
   ],
   "source": [
    "df['Solved_naked_twins'].value_counts()"
   ]
  },
  {
   "cell_type": "code",
   "execution_count": 62,
   "metadata": {},
   "outputs": [
    {
     "data": {
      "text/html": [
       "<div>\n",
       "<style scoped>\n",
       "    .dataframe tbody tr th:only-of-type {\n",
       "        vertical-align: middle;\n",
       "    }\n",
       "\n",
       "    .dataframe tbody tr th {\n",
       "        vertical-align: top;\n",
       "    }\n",
       "\n",
       "    .dataframe thead th {\n",
       "        text-align: right;\n",
       "    }\n",
       "</style>\n",
       "<table border=\"1\" class=\"dataframe\">\n",
       "  <thead>\n",
       "    <tr style=\"text-align: right;\">\n",
       "      <th></th>\n",
       "      <th>Id</th>\n",
       "      <th>Sudoku</th>\n",
       "      <th>Solution</th>\n",
       "      <th>Level</th>\n",
       "      <th>People</th>\n",
       "      <th>Average-Time</th>\n",
       "      <th>Solved_single_position</th>\n",
       "      <th>Solved_naked_twins</th>\n",
       "    </tr>\n",
       "  </thead>\n",
       "  <tbody>\n",
       "    <tr>\n",
       "      <th>1</th>\n",
       "      <td>1</td>\n",
       "      <td>.5.....7.9......6...21.75.8.4..69.3...8...4......</td>\n",
       "      <td>8539461729175823644621375981458692376283754197...</td>\n",
       "      <td>Moderate</td>\n",
       "      <td>281</td>\n",
       "      <td>12</td>\n",
       "      <td>Not solved</td>\n",
       "      <td>Solved</td>\n",
       "    </tr>\n",
       "    <tr>\n",
       "      <th>4</th>\n",
       "      <td>4</td>\n",
       "      <td>9.......2784.1.5.....4.....2.53.1.7...7...8......</td>\n",
       "      <td>9615387427846125395234796182953814761479568236...</td>\n",
       "      <td>Moderate</td>\n",
       "      <td>301</td>\n",
       "      <td>14</td>\n",
       "      <td>Not solved</td>\n",
       "      <td>Solved</td>\n",
       "    </tr>\n",
       "    <tr>\n",
       "      <th>8</th>\n",
       "      <td>8</td>\n",
       "      <td>...7....8..2.8.65.5.8.1.7.4.7...8.6..............</td>\n",
       "      <td>6347251987124896535983167243791485622865374191...</td>\n",
       "      <td>Moderate</td>\n",
       "      <td>272</td>\n",
       "      <td>15</td>\n",
       "      <td>Not solved</td>\n",
       "      <td>Solved</td>\n",
       "    </tr>\n",
       "    <tr>\n",
       "      <th>11</th>\n",
       "      <td>11</td>\n",
       "      <td>42....137...2.........17..8....85..4.76...9..5...</td>\n",
       "      <td>4289561377132486596593172482917853643761249855...</td>\n",
       "      <td>Moderate</td>\n",
       "      <td>261</td>\n",
       "      <td>15</td>\n",
       "      <td>Not solved</td>\n",
       "      <td>Solved</td>\n",
       "    </tr>\n",
       "    <tr>\n",
       "      <th>12</th>\n",
       "      <td>12</td>\n",
       "      <td>.96..3.4.8.....1..4....6.829....4.....4.5.3......</td>\n",
       "      <td>2961835478754291364315769829583642717149523683...</td>\n",
       "      <td>Moderate</td>\n",
       "      <td>292</td>\n",
       "      <td>14</td>\n",
       "      <td>Not solved</td>\n",
       "      <td>Solved</td>\n",
       "    </tr>\n",
       "    <tr>\n",
       "      <th>15</th>\n",
       "      <td>15</td>\n",
       "      <td>.54....8.....4..7.79...8.....26..1....35..2......</td>\n",
       "      <td>1547639823289456717962183459726341588435712965...</td>\n",
       "      <td>Moderate</td>\n",
       "      <td>274</td>\n",
       "      <td>14</td>\n",
       "      <td>Not solved</td>\n",
       "      <td>Solved</td>\n",
       "    </tr>\n",
       "    <tr>\n",
       "      <th>18</th>\n",
       "      <td>18</td>\n",
       "      <td>..3.8.4...2.....7.94...52.88..69....4.......7....</td>\n",
       "      <td>1637824595289436719471652388126975434362581977...</td>\n",
       "      <td>Moderate</td>\n",
       "      <td>264</td>\n",
       "      <td>15</td>\n",
       "      <td>Not solved</td>\n",
       "      <td>Solved</td>\n",
       "    </tr>\n",
       "    <tr>\n",
       "      <th>19</th>\n",
       "      <td>19</td>\n",
       "      <td>3.8..2....7.9.1.........48..61.9.2.74.......57...</td>\n",
       "      <td>3584621792749815636193754825618942374831276957...</td>\n",
       "      <td>Moderate</td>\n",
       "      <td>285</td>\n",
       "      <td>16</td>\n",
       "      <td>Not solved</td>\n",
       "      <td>Solved</td>\n",
       "    </tr>\n",
       "    <tr>\n",
       "      <th>26</th>\n",
       "      <td>26</td>\n",
       "      <td>...2.1.....5...2.3.8.57..1.7....8..9..86..1..9...</td>\n",
       "      <td>6742319581958462732835796147523184694386971259...</td>\n",
       "      <td>Moderate</td>\n",
       "      <td>277</td>\n",
       "      <td>15</td>\n",
       "      <td>Not solved</td>\n",
       "      <td>Solved</td>\n",
       "    </tr>\n",
       "    <tr>\n",
       "      <th>27</th>\n",
       "      <td>27</td>\n",
       "      <td>...8.31......2.3...27......85.....7.6..4.2..5....</td>\n",
       "      <td>9658431274186273593271594688513962746734129852...</td>\n",
       "      <td>Gentle</td>\n",
       "      <td>287</td>\n",
       "      <td>14</td>\n",
       "      <td>Not solved</td>\n",
       "      <td>Solved</td>\n",
       "    </tr>\n",
       "    <tr>\n",
       "      <th>33</th>\n",
       "      <td>33</td>\n",
       "      <td>87..93.4..........6.3.1..7...6..493....1.5.......</td>\n",
       "      <td>8756931422914576836432185791268749353891654277...</td>\n",
       "      <td>Moderate</td>\n",
       "      <td>289</td>\n",
       "      <td>14</td>\n",
       "      <td>Not solved</td>\n",
       "      <td>Solved</td>\n",
       "    </tr>\n",
       "    <tr>\n",
       "      <th>46</th>\n",
       "      <td>46</td>\n",
       "      <td>67.....9...5...7.......3845...139..7..6...9..3...</td>\n",
       "      <td>6738541928459217369217638452841395677562489133...</td>\n",
       "      <td>Moderate</td>\n",
       "      <td>279</td>\n",
       "      <td>14</td>\n",
       "      <td>Not solved</td>\n",
       "      <td>Solved</td>\n",
       "    </tr>\n",
       "    <tr>\n",
       "      <th>48</th>\n",
       "      <td>48</td>\n",
       "      <td>...9......5..4.16.713..........1.8723.......52...</td>\n",
       "      <td>4269317589582471637135689246453198723814726952...</td>\n",
       "      <td>Gentle</td>\n",
       "      <td>277</td>\n",
       "      <td>12</td>\n",
       "      <td>Not solved</td>\n",
       "      <td>Solved</td>\n",
       "    </tr>\n",
       "    <tr>\n",
       "      <th>61</th>\n",
       "      <td>61</td>\n",
       "      <td>7.4.......5.....3..31.7......51.48..9...5...2....</td>\n",
       "      <td>7248936516592417388316752492751348969467583121...</td>\n",
       "      <td>Moderate</td>\n",
       "      <td>271</td>\n",
       "      <td>18</td>\n",
       "      <td>Not solved</td>\n",
       "      <td>Solved</td>\n",
       "    </tr>\n",
       "    <tr>\n",
       "      <th>83</th>\n",
       "      <td>83</td>\n",
       "      <td>183.6......4.2.3..7.......6.9..43....72...84.....</td>\n",
       "      <td>1837649526549213787293854168952437613721568494...</td>\n",
       "      <td>Gentle</td>\n",
       "      <td>278</td>\n",
       "      <td>13</td>\n",
       "      <td>Not solved</td>\n",
       "      <td>Solved</td>\n",
       "    </tr>\n",
       "    <tr>\n",
       "      <th>89</th>\n",
       "      <td>89</td>\n",
       "      <td>..87.96......8..5.56.....9.....9.14.41.....8.....</td>\n",
       "      <td>3287596149746813525612438972568971434135627898...</td>\n",
       "      <td>Moderate</td>\n",
       "      <td>281</td>\n",
       "      <td>14</td>\n",
       "      <td>Not solved</td>\n",
       "      <td>Solved</td>\n",
       "    </tr>\n",
       "    <tr>\n",
       "      <th>90</th>\n",
       "      <td>90</td>\n",
       "      <td>.......8....2879..8.6..3..21..3....627......84...</td>\n",
       "      <td>9271463853452879618165937421583724962734691584...</td>\n",
       "      <td>Gentle</td>\n",
       "      <td>293</td>\n",
       "      <td>13</td>\n",
       "      <td>Not solved</td>\n",
       "      <td>Solved</td>\n",
       "    </tr>\n",
       "    <tr>\n",
       "      <th>99</th>\n",
       "      <td>99</td>\n",
       "      <td>.91..63..6..9.4..737......48..64.................</td>\n",
       "      <td>4915763826829345173752189648576431292648917351...</td>\n",
       "      <td>Moderate</td>\n",
       "      <td>278</td>\n",
       "      <td>14</td>\n",
       "      <td>Not solved</td>\n",
       "      <td>Solved</td>\n",
       "    </tr>\n",
       "    <tr>\n",
       "      <th>104</th>\n",
       "      <td>104</td>\n",
       "      <td>3..8.49.78...1.....25......95..82.......7........</td>\n",
       "      <td>3618549278972163544253971689561827431435796822...</td>\n",
       "      <td>Gentle</td>\n",
       "      <td>290</td>\n",
       "      <td>11</td>\n",
       "      <td>Not solved</td>\n",
       "      <td>Solved</td>\n",
       "    </tr>\n",
       "    <tr>\n",
       "      <th>106</th>\n",
       "      <td>106</td>\n",
       "      <td>.6.1...72.1..8..3.2.....9.....45.....23.9.46.....</td>\n",
       "      <td>5691438727142895362385769416974523181237984658...</td>\n",
       "      <td>Moderate</td>\n",
       "      <td>286</td>\n",
       "      <td>14</td>\n",
       "      <td>Not solved</td>\n",
       "      <td>Solved</td>\n",
       "    </tr>\n",
       "    <tr>\n",
       "      <th>113</th>\n",
       "      <td>113</td>\n",
       "      <td>.6.8.7..92.5...6.33..........4.68...67.....18....</td>\n",
       "      <td>4618372592854196733975264811549683276793425188...</td>\n",
       "      <td>Moderate</td>\n",
       "      <td>275</td>\n",
       "      <td>14</td>\n",
       "      <td>Not solved</td>\n",
       "      <td>Solved</td>\n",
       "    </tr>\n",
       "    <tr>\n",
       "      <th>120</th>\n",
       "      <td>120</td>\n",
       "      <td>.7...9.6......2...4.96..37..14...9.....578.......</td>\n",
       "      <td>1738495628567321944296513785143269876925784133...</td>\n",
       "      <td>Moderate</td>\n",
       "      <td>280</td>\n",
       "      <td>16</td>\n",
       "      <td>Not solved</td>\n",
       "      <td>Solved</td>\n",
       "    </tr>\n",
       "    <tr>\n",
       "      <th>127</th>\n",
       "      <td>127</td>\n",
       "      <td>.9..6.....7.1.8.251...3.4....9...6..5...8...1....</td>\n",
       "      <td>4927658136731489251582394678295716345649832713...</td>\n",
       "      <td>Moderate</td>\n",
       "      <td>277</td>\n",
       "      <td>15</td>\n",
       "      <td>Not solved</td>\n",
       "      <td>Solved</td>\n",
       "    </tr>\n",
       "    <tr>\n",
       "      <th>132</th>\n",
       "      <td>132</td>\n",
       "      <td>.....9.3..48...56.15.3.84.....1......7.....4.....</td>\n",
       "      <td>2675498313487215691593684276821549739732861454...</td>\n",
       "      <td>Gentle</td>\n",
       "      <td>288</td>\n",
       "      <td>13</td>\n",
       "      <td>Not solved</td>\n",
       "      <td>Solved</td>\n",
       "    </tr>\n",
       "    <tr>\n",
       "      <th>134</th>\n",
       "      <td>134</td>\n",
       "      <td>.....827...2...8.486.....5....7.5..3......68.5...</td>\n",
       "      <td>3451982767126538948692743514267859131973426855...</td>\n",
       "      <td>Moderate</td>\n",
       "      <td>278</td>\n",
       "      <td>16</td>\n",
       "      <td>Not solved</td>\n",
       "      <td>Solved</td>\n",
       "    </tr>\n",
       "    <tr>\n",
       "      <th>145</th>\n",
       "      <td>145</td>\n",
       "      <td>18..45..62.4.........13....9..6....5..34.71..7...</td>\n",
       "      <td>1897452362348697515671324989426183758534971627...</td>\n",
       "      <td>Moderate</td>\n",
       "      <td>292</td>\n",
       "      <td>16</td>\n",
       "      <td>Not solved</td>\n",
       "      <td>Solved</td>\n",
       "    </tr>\n",
       "    <tr>\n",
       "      <th>150</th>\n",
       "      <td>150</td>\n",
       "      <td>2....6....3.2...41.9..3..6..5.......6.17..3.2....</td>\n",
       "      <td>2749168358362579411958342673521486796417953829...</td>\n",
       "      <td>Tough</td>\n",
       "      <td>261</td>\n",
       "      <td>20</td>\n",
       "      <td>Not solved</td>\n",
       "      <td>Solved</td>\n",
       "    </tr>\n",
       "    <tr>\n",
       "      <th>155</th>\n",
       "      <td>155</td>\n",
       "      <td>..7...8...96..1.42..........1.82..3...8...1......</td>\n",
       "      <td>1476328598967513425234986719148275367389651242...</td>\n",
       "      <td>Moderate</td>\n",
       "      <td>276</td>\n",
       "      <td>16</td>\n",
       "      <td>Not solved</td>\n",
       "      <td>Solved</td>\n",
       "    </tr>\n",
       "    <tr>\n",
       "      <th>160</th>\n",
       "      <td>160</td>\n",
       "      <td>...58.1..9..31....7.......9..4...8916.......75...</td>\n",
       "      <td>4635891729283176457154623892347568916891245375...</td>\n",
       "      <td>Gentle</td>\n",
       "      <td>296</td>\n",
       "      <td>12</td>\n",
       "      <td>Not solved</td>\n",
       "      <td>Solved</td>\n",
       "    </tr>\n",
       "    <tr>\n",
       "      <th>165</th>\n",
       "      <td>165</td>\n",
       "      <td>45...7...9....16.2......9....4...5..5..4.8.......</td>\n",
       "      <td>4569278139783516421236849756147325895394681272...</td>\n",
       "      <td>Moderate</td>\n",
       "      <td>287</td>\n",
       "      <td>15</td>\n",
       "      <td>Not solved</td>\n",
       "      <td>Solved</td>\n",
       "    </tr>\n",
       "    <tr>\n",
       "      <th>...</th>\n",
       "      <td>...</td>\n",
       "      <td>...</td>\n",
       "      <td>...</td>\n",
       "      <td>...</td>\n",
       "      <td>...</td>\n",
       "      <td>...</td>\n",
       "      <td>...</td>\n",
       "      <td>...</td>\n",
       "    </tr>\n",
       "    <tr>\n",
       "      <th>4908</th>\n",
       "      <td>4908</td>\n",
       "      <td>.15.2.83.......9..........7.423.517..3.....5.....</td>\n",
       "      <td>9154278363748619252685394176423851798371926545...</td>\n",
       "      <td>Tough</td>\n",
       "      <td>1856</td>\n",
       "      <td>27</td>\n",
       "      <td>Not solved</td>\n",
       "      <td>Solved</td>\n",
       "    </tr>\n",
       "    <tr>\n",
       "      <th>4909</th>\n",
       "      <td>4909</td>\n",
       "      <td>...........28594...43..752..9..8..6.1.......9....</td>\n",
       "      <td>8514327967628594139431675282957813641386452796...</td>\n",
       "      <td>Moderate</td>\n",
       "      <td>2023</td>\n",
       "      <td>21</td>\n",
       "      <td>Not solved</td>\n",
       "      <td>Solved</td>\n",
       "    </tr>\n",
       "    <tr>\n",
       "      <th>4910</th>\n",
       "      <td>4910</td>\n",
       "      <td>.63.8..1.2..1.34.5.........74.....285...9...48...</td>\n",
       "      <td>4635892172981734651752648397493516285218963748...</td>\n",
       "      <td>Moderate</td>\n",
       "      <td>1701</td>\n",
       "      <td>24</td>\n",
       "      <td>Not solved</td>\n",
       "      <td>Solved</td>\n",
       "    </tr>\n",
       "    <tr>\n",
       "      <th>4911</th>\n",
       "      <td>4911</td>\n",
       "      <td>9.2.....87..1.9..4..4..71.....5.2.6..3.....8.....</td>\n",
       "      <td>9124567387831296545643871291985724632369415874...</td>\n",
       "      <td>Gentle</td>\n",
       "      <td>1732</td>\n",
       "      <td>21</td>\n",
       "      <td>Not solved</td>\n",
       "      <td>Solved</td>\n",
       "    </tr>\n",
       "    <tr>\n",
       "      <th>4913</th>\n",
       "      <td>4913</td>\n",
       "      <td>..4...1......28....364.527.1..9.3..2....7....4...</td>\n",
       "      <td>2846971355173289469364152781789534623621748594...</td>\n",
       "      <td>Moderate</td>\n",
       "      <td>1387</td>\n",
       "      <td>25</td>\n",
       "      <td>Not solved</td>\n",
       "      <td>Solved</td>\n",
       "    </tr>\n",
       "    <tr>\n",
       "      <th>4920</th>\n",
       "      <td>4920</td>\n",
       "      <td>..18.46...5..7..9...6.1.3......5...1.23...48.1...</td>\n",
       "      <td>2918346753546721987865193429684537215237914861...</td>\n",
       "      <td>Moderate</td>\n",
       "      <td>1463</td>\n",
       "      <td>24</td>\n",
       "      <td>Not solved</td>\n",
       "      <td>Solved</td>\n",
       "    </tr>\n",
       "    <tr>\n",
       "      <th>4923</th>\n",
       "      <td>4923</td>\n",
       "      <td>.38..645.5...4...8...8.5...3.5...8...9.....2.....</td>\n",
       "      <td>7389164525163427989428751363654298174976815232...</td>\n",
       "      <td>Moderate</td>\n",
       "      <td>1992</td>\n",
       "      <td>22</td>\n",
       "      <td>Not solved</td>\n",
       "      <td>Solved</td>\n",
       "    </tr>\n",
       "    <tr>\n",
       "      <th>4924</th>\n",
       "      <td>4924</td>\n",
       "      <td>.6.....9.2.39....4..96.38..7.......31.4...5.29...</td>\n",
       "      <td>8652143972739581644196738257261459831348695729...</td>\n",
       "      <td>Moderate</td>\n",
       "      <td>2008</td>\n",
       "      <td>22</td>\n",
       "      <td>Not solved</td>\n",
       "      <td>Solved</td>\n",
       "    </tr>\n",
       "    <tr>\n",
       "      <th>4927</th>\n",
       "      <td>4927</td>\n",
       "      <td>.6.....8..4..7..3....6.3..452..9..41..4...9..3...</td>\n",
       "      <td>1634295878425716399756831245268973417143529683...</td>\n",
       "      <td>Moderate</td>\n",
       "      <td>1423</td>\n",
       "      <td>26</td>\n",
       "      <td>Not solved</td>\n",
       "      <td>Solved</td>\n",
       "    </tr>\n",
       "    <tr>\n",
       "      <th>4930</th>\n",
       "      <td>4930</td>\n",
       "      <td>5.8.3.2.6.....8....39...71......61...6..2..3.....</td>\n",
       "      <td>5189372467261485934392657182943561878674219353...</td>\n",
       "      <td>Moderate</td>\n",
       "      <td>1955</td>\n",
       "      <td>24</td>\n",
       "      <td>Not solved</td>\n",
       "      <td>Solved</td>\n",
       "    </tr>\n",
       "    <tr>\n",
       "      <th>4932</th>\n",
       "      <td>4932</td>\n",
       "      <td>7..8.4....6.......8.56.24...1.4.9.2...7...9......</td>\n",
       "      <td>7218345699645712388356924175164897233872659414...</td>\n",
       "      <td>Gentle</td>\n",
       "      <td>1822</td>\n",
       "      <td>25</td>\n",
       "      <td>Not solved</td>\n",
       "      <td>Solved</td>\n",
       "    </tr>\n",
       "    <tr>\n",
       "      <th>4937</th>\n",
       "      <td>4937</td>\n",
       "      <td>.....2..4.2.8.5.7..4..3..121..2.4..5.........8...</td>\n",
       "      <td>3971628546218459735487396121692743854356812978...</td>\n",
       "      <td>Moderate</td>\n",
       "      <td>1996</td>\n",
       "      <td>24</td>\n",
       "      <td>Not solved</td>\n",
       "      <td>Solved</td>\n",
       "    </tr>\n",
       "    <tr>\n",
       "      <th>4939</th>\n",
       "      <td>4939</td>\n",
       "      <td>917...24.6.......8........9.5.3.7.2...84.65......</td>\n",
       "      <td>9178652436432791582851436794513978263284165977...</td>\n",
       "      <td>Gentle</td>\n",
       "      <td>2051</td>\n",
       "      <td>21</td>\n",
       "      <td>Not solved</td>\n",
       "      <td>Solved</td>\n",
       "    </tr>\n",
       "    <tr>\n",
       "      <th>4941</th>\n",
       "      <td>4941</td>\n",
       "      <td>.3.....4...74.59...24.9..1...3.4.6...9.....5.....</td>\n",
       "      <td>9351862471874259636243975185739416828962731544...</td>\n",
       "      <td>Moderate</td>\n",
       "      <td>1448</td>\n",
       "      <td>27</td>\n",
       "      <td>Not solved</td>\n",
       "      <td>Solved</td>\n",
       "    </tr>\n",
       "    <tr>\n",
       "      <th>4946</th>\n",
       "      <td>4946</td>\n",
       "      <td>4......23..84.37...15....9.9..5.2....3.....4.....</td>\n",
       "      <td>4978516236284937153152674989465128375316782498...</td>\n",
       "      <td>Gentle</td>\n",
       "      <td>1791</td>\n",
       "      <td>23</td>\n",
       "      <td>Not solved</td>\n",
       "      <td>Solved</td>\n",
       "    </tr>\n",
       "    <tr>\n",
       "      <th>4950</th>\n",
       "      <td>4950</td>\n",
       "      <td>...451..8..1...3...2.....9...96.85....6.7.8......</td>\n",
       "      <td>9374516286817923544253861971796385423462758198...</td>\n",
       "      <td>Tough</td>\n",
       "      <td>1963</td>\n",
       "      <td>31</td>\n",
       "      <td>Not solved</td>\n",
       "      <td>Solved</td>\n",
       "    </tr>\n",
       "    <tr>\n",
       "      <th>4966</th>\n",
       "      <td>4966</td>\n",
       "      <td>..74639.....8.2.......1.6..72.....46.5.....2.1...</td>\n",
       "      <td>5874639126198523744327196857283951463561748291...</td>\n",
       "      <td>Moderate</td>\n",
       "      <td>2387</td>\n",
       "      <td>24</td>\n",
       "      <td>Not solved</td>\n",
       "      <td>Solved</td>\n",
       "    </tr>\n",
       "    <tr>\n",
       "      <th>4969</th>\n",
       "      <td>4969</td>\n",
       "      <td>84.....71.6..1..3...58.64....2......5...8...6....</td>\n",
       "      <td>8493256712679145381358764924126573895934827167...</td>\n",
       "      <td>Moderate</td>\n",
       "      <td>1661</td>\n",
       "      <td>28</td>\n",
       "      <td>Not solved</td>\n",
       "      <td>Solved</td>\n",
       "    </tr>\n",
       "    <tr>\n",
       "      <th>4972</th>\n",
       "      <td>4972</td>\n",
       "      <td>.2.6.1.9.....2.....6.4385..8.4.....1....4....5...</td>\n",
       "      <td>4276513983859276149614385728347962511923457865...</td>\n",
       "      <td>Moderate</td>\n",
       "      <td>2315</td>\n",
       "      <td>28</td>\n",
       "      <td>Not solved</td>\n",
       "      <td>Solved</td>\n",
       "    </tr>\n",
       "    <tr>\n",
       "      <th>4973</th>\n",
       "      <td>4973</td>\n",
       "      <td>........4.2..4..53.6.3.9.7.1..5.2..8.5.....1.9...</td>\n",
       "      <td>5731289648297461534613598721365724987528943169...</td>\n",
       "      <td>Moderate</td>\n",
       "      <td>2359</td>\n",
       "      <td>25</td>\n",
       "      <td>Not solved</td>\n",
       "      <td>Solved</td>\n",
       "    </tr>\n",
       "    <tr>\n",
       "      <th>4978</th>\n",
       "      <td>4978</td>\n",
       "      <td>85...2.31...8..6...1..3..7.....5....54.....26....</td>\n",
       "      <td>8579624314938716526124358793261547985493871261...</td>\n",
       "      <td>Tough</td>\n",
       "      <td>2084</td>\n",
       "      <td>36</td>\n",
       "      <td>Not solved</td>\n",
       "      <td>Solved</td>\n",
       "    </tr>\n",
       "    <tr>\n",
       "      <th>4979</th>\n",
       "      <td>4979</td>\n",
       "      <td>...497..2...6.3...43.....5.9......836.3...1.92...</td>\n",
       "      <td>5164978327286534914391286579457612836732851492...</td>\n",
       "      <td>Moderate</td>\n",
       "      <td>2575</td>\n",
       "      <td>25</td>\n",
       "      <td>Not solved</td>\n",
       "      <td>Solved</td>\n",
       "    </tr>\n",
       "    <tr>\n",
       "      <th>4981</th>\n",
       "      <td>4981</td>\n",
       "      <td>56.....72...2.8.6..4.....9.1..6.2..9...187...7...</td>\n",
       "      <td>5689143729172384653427568911836427596591872347...</td>\n",
       "      <td>Gentle</td>\n",
       "      <td>2640</td>\n",
       "      <td>20</td>\n",
       "      <td>Not solved</td>\n",
       "      <td>Solved</td>\n",
       "    </tr>\n",
       "    <tr>\n",
       "      <th>4985</th>\n",
       "      <td>4985</td>\n",
       "      <td>.7.....2..8....56.1..5.6..9....8.....284.5.1.....</td>\n",
       "      <td>6758193242897345611435267897962814353284956174...</td>\n",
       "      <td>Tough</td>\n",
       "      <td>2427</td>\n",
       "      <td>31</td>\n",
       "      <td>Not solved</td>\n",
       "      <td>Solved</td>\n",
       "    </tr>\n",
       "    <tr>\n",
       "      <th>4986</th>\n",
       "      <td>4986</td>\n",
       "      <td>2...4...9.6.....5....1.67..63..9..75.8.....4.4...</td>\n",
       "      <td>2715486398639274519541367286328941751857629434...</td>\n",
       "      <td>Moderate</td>\n",
       "      <td>2762</td>\n",
       "      <td>22</td>\n",
       "      <td>Not solved</td>\n",
       "      <td>Solved</td>\n",
       "    </tr>\n",
       "    <tr>\n",
       "      <th>4990</th>\n",
       "      <td>4990</td>\n",
       "      <td>6.....1.37....8..2...1.3.....928.5..3.......4....</td>\n",
       "      <td>6289741537316589425941236874692875313875912642...</td>\n",
       "      <td>Moderate</td>\n",
       "      <td>1848</td>\n",
       "      <td>26</td>\n",
       "      <td>Not solved</td>\n",
       "      <td>Solved</td>\n",
       "    </tr>\n",
       "    <tr>\n",
       "      <th>4994</th>\n",
       "      <td>4994</td>\n",
       "      <td>.7.....3..24...1....34.65.....25....3.89.72.6....</td>\n",
       "      <td>9758216346245391878134765297612534983589472164...</td>\n",
       "      <td>Moderate</td>\n",
       "      <td>2846</td>\n",
       "      <td>22</td>\n",
       "      <td>Not solved</td>\n",
       "      <td>Solved</td>\n",
       "    </tr>\n",
       "    <tr>\n",
       "      <th>4997</th>\n",
       "      <td>4997</td>\n",
       "      <td>2.......79.4.2.5.8...5.3....1.....734..6.2..96...</td>\n",
       "      <td>2539681479641275381785432965124896734376528196...</td>\n",
       "      <td>Moderate</td>\n",
       "      <td>1843</td>\n",
       "      <td>30</td>\n",
       "      <td>Not solved</td>\n",
       "      <td>Solved</td>\n",
       "    </tr>\n",
       "    <tr>\n",
       "      <th>5014</th>\n",
       "      <td>5014</td>\n",
       "      <td>.92....5...76.93..5.......1.3.1.8.6..............</td>\n",
       "      <td>3924816571876593245642738917391284654285679136...</td>\n",
       "      <td>Moderate</td>\n",
       "      <td>2920</td>\n",
       "      <td>27</td>\n",
       "      <td>Not solved</td>\n",
       "      <td>Solved</td>\n",
       "    </tr>\n",
       "    <tr>\n",
       "      <th>5027</th>\n",
       "      <td>5027</td>\n",
       "      <td>.83...6..2..4.7..3.1.....5.6...2...7...765...3...</td>\n",
       "      <td>7835916242654879139146327586591238478417653923...</td>\n",
       "      <td>Tough</td>\n",
       "      <td>3214</td>\n",
       "      <td>30</td>\n",
       "      <td>Not solved</td>\n",
       "      <td>Solved</td>\n",
       "    </tr>\n",
       "  </tbody>\n",
       "</table>\n",
       "<p>1155 rows × 8 columns</p>\n",
       "</div>"
      ],
      "text/plain": [
       "        Id                                             Sudoku  \\\n",
       "1        1  .5.....7.9......6...21.75.8.4..69.3...8...4......   \n",
       "4        4  9.......2784.1.5.....4.....2.53.1.7...7...8......   \n",
       "8        8  ...7....8..2.8.65.5.8.1.7.4.7...8.6..............   \n",
       "11      11  42....137...2.........17..8....85..4.76...9..5...   \n",
       "12      12  .96..3.4.8.....1..4....6.829....4.....4.5.3......   \n",
       "15      15  .54....8.....4..7.79...8.....26..1....35..2......   \n",
       "18      18  ..3.8.4...2.....7.94...52.88..69....4.......7....   \n",
       "19      19  3.8..2....7.9.1.........48..61.9.2.74.......57...   \n",
       "26      26  ...2.1.....5...2.3.8.57..1.7....8..9..86..1..9...   \n",
       "27      27  ...8.31......2.3...27......85.....7.6..4.2..5....   \n",
       "33      33  87..93.4..........6.3.1..7...6..493....1.5.......   \n",
       "46      46  67.....9...5...7.......3845...139..7..6...9..3...   \n",
       "48      48  ...9......5..4.16.713..........1.8723.......52...   \n",
       "61      61  7.4.......5.....3..31.7......51.48..9...5...2....   \n",
       "83      83  183.6......4.2.3..7.......6.9..43....72...84.....   \n",
       "89      89  ..87.96......8..5.56.....9.....9.14.41.....8.....   \n",
       "90      90  .......8....2879..8.6..3..21..3....627......84...   \n",
       "99      99  .91..63..6..9.4..737......48..64.................   \n",
       "104    104  3..8.49.78...1.....25......95..82.......7........   \n",
       "106    106  .6.1...72.1..8..3.2.....9.....45.....23.9.46.....   \n",
       "113    113  .6.8.7..92.5...6.33..........4.68...67.....18....   \n",
       "120    120  .7...9.6......2...4.96..37..14...9.....578.......   \n",
       "127    127  .9..6.....7.1.8.251...3.4....9...6..5...8...1....   \n",
       "132    132  .....9.3..48...56.15.3.84.....1......7.....4.....   \n",
       "134    134  .....827...2...8.486.....5....7.5..3......68.5...   \n",
       "145    145  18..45..62.4.........13....9..6....5..34.71..7...   \n",
       "150    150  2....6....3.2...41.9..3..6..5.......6.17..3.2....   \n",
       "155    155  ..7...8...96..1.42..........1.82..3...8...1......   \n",
       "160    160  ...58.1..9..31....7.......9..4...8916.......75...   \n",
       "165    165  45...7...9....16.2......9....4...5..5..4.8.......   \n",
       "...    ...                                                ...   \n",
       "4908  4908  .15.2.83.......9..........7.423.517..3.....5.....   \n",
       "4909  4909  ...........28594...43..752..9..8..6.1.......9....   \n",
       "4910  4910  .63.8..1.2..1.34.5.........74.....285...9...48...   \n",
       "4911  4911  9.2.....87..1.9..4..4..71.....5.2.6..3.....8.....   \n",
       "4913  4913  ..4...1......28....364.527.1..9.3..2....7....4...   \n",
       "4920  4920  ..18.46...5..7..9...6.1.3......5...1.23...48.1...   \n",
       "4923  4923  .38..645.5...4...8...8.5...3.5...8...9.....2.....   \n",
       "4924  4924  .6.....9.2.39....4..96.38..7.......31.4...5.29...   \n",
       "4927  4927  .6.....8..4..7..3....6.3..452..9..41..4...9..3...   \n",
       "4930  4930  5.8.3.2.6.....8....39...71......61...6..2..3.....   \n",
       "4932  4932  7..8.4....6.......8.56.24...1.4.9.2...7...9......   \n",
       "4937  4937  .....2..4.2.8.5.7..4..3..121..2.4..5.........8...   \n",
       "4939  4939  917...24.6.......8........9.5.3.7.2...84.65......   \n",
       "4941  4941  .3.....4...74.59...24.9..1...3.4.6...9.....5.....   \n",
       "4946  4946  4......23..84.37...15....9.9..5.2....3.....4.....   \n",
       "4950  4950  ...451..8..1...3...2.....9...96.85....6.7.8......   \n",
       "4966  4966  ..74639.....8.2.......1.6..72.....46.5.....2.1...   \n",
       "4969  4969  84.....71.6..1..3...58.64....2......5...8...6....   \n",
       "4972  4972  .2.6.1.9.....2.....6.4385..8.4.....1....4....5...   \n",
       "4973  4973  ........4.2..4..53.6.3.9.7.1..5.2..8.5.....1.9...   \n",
       "4978  4978  85...2.31...8..6...1..3..7.....5....54.....26....   \n",
       "4979  4979  ...497..2...6.3...43.....5.9......836.3...1.92...   \n",
       "4981  4981  56.....72...2.8.6..4.....9.1..6.2..9...187...7...   \n",
       "4985  4985  .7.....2..8....56.1..5.6..9....8.....284.5.1.....   \n",
       "4986  4986  2...4...9.6.....5....1.67..63..9..75.8.....4.4...   \n",
       "4990  4990  6.....1.37....8..2...1.3.....928.5..3.......4....   \n",
       "4994  4994  .7.....3..24...1....34.65.....25....3.89.72.6....   \n",
       "4997  4997  2.......79.4.2.5.8...5.3....1.....734..6.2..96...   \n",
       "5014  5014  .92....5...76.93..5.......1.3.1.8.6..............   \n",
       "5027  5027  .83...6..2..4.7..3.1.....5.6...2...7...765...3...   \n",
       "\n",
       "                                               Solution     Level  People  \\\n",
       "1     8539461729175823644621375981458692376283754197...  Moderate     281   \n",
       "4     9615387427846125395234796182953814761479568236...  Moderate     301   \n",
       "8     6347251987124896535983167243791485622865374191...  Moderate     272   \n",
       "11    4289561377132486596593172482917853643761249855...  Moderate     261   \n",
       "12    2961835478754291364315769829583642717149523683...  Moderate     292   \n",
       "15    1547639823289456717962183459726341588435712965...  Moderate     274   \n",
       "18    1637824595289436719471652388126975434362581977...  Moderate     264   \n",
       "19    3584621792749815636193754825618942374831276957...  Moderate     285   \n",
       "26    6742319581958462732835796147523184694386971259...  Moderate     277   \n",
       "27    9658431274186273593271594688513962746734129852...    Gentle     287   \n",
       "33    8756931422914576836432185791268749353891654277...  Moderate     289   \n",
       "46    6738541928459217369217638452841395677562489133...  Moderate     279   \n",
       "48    4269317589582471637135689246453198723814726952...    Gentle     277   \n",
       "61    7248936516592417388316752492751348969467583121...  Moderate     271   \n",
       "83    1837649526549213787293854168952437613721568494...    Gentle     278   \n",
       "89    3287596149746813525612438972568971434135627898...  Moderate     281   \n",
       "90    9271463853452879618165937421583724962734691584...    Gentle     293   \n",
       "99    4915763826829345173752189648576431292648917351...  Moderate     278   \n",
       "104   3618549278972163544253971689561827431435796822...    Gentle     290   \n",
       "106   5691438727142895362385769416974523181237984658...  Moderate     286   \n",
       "113   4618372592854196733975264811549683276793425188...  Moderate     275   \n",
       "120   1738495628567321944296513785143269876925784133...  Moderate     280   \n",
       "127   4927658136731489251582394678295716345649832713...  Moderate     277   \n",
       "132   2675498313487215691593684276821549739732861454...    Gentle     288   \n",
       "134   3451982767126538948692743514267859131973426855...  Moderate     278   \n",
       "145   1897452362348697515671324989426183758534971627...  Moderate     292   \n",
       "150   2749168358362579411958342673521486796417953829...     Tough     261   \n",
       "155   1476328598967513425234986719148275367389651242...  Moderate     276   \n",
       "160   4635891729283176457154623892347568916891245375...    Gentle     296   \n",
       "165   4569278139783516421236849756147325895394681272...  Moderate     287   \n",
       "...                                                 ...       ...     ...   \n",
       "4908  9154278363748619252685394176423851798371926545...     Tough    1856   \n",
       "4909  8514327967628594139431675282957813641386452796...  Moderate    2023   \n",
       "4910  4635892172981734651752648397493516285218963748...  Moderate    1701   \n",
       "4911  9124567387831296545643871291985724632369415874...    Gentle    1732   \n",
       "4913  2846971355173289469364152781789534623621748594...  Moderate    1387   \n",
       "4920  2918346753546721987865193429684537215237914861...  Moderate    1463   \n",
       "4923  7389164525163427989428751363654298174976815232...  Moderate    1992   \n",
       "4924  8652143972739581644196738257261459831348695729...  Moderate    2008   \n",
       "4927  1634295878425716399756831245268973417143529683...  Moderate    1423   \n",
       "4930  5189372467261485934392657182943561878674219353...  Moderate    1955   \n",
       "4932  7218345699645712388356924175164897233872659414...    Gentle    1822   \n",
       "4937  3971628546218459735487396121692743854356812978...  Moderate    1996   \n",
       "4939  9178652436432791582851436794513978263284165977...    Gentle    2051   \n",
       "4941  9351862471874259636243975185739416828962731544...  Moderate    1448   \n",
       "4946  4978516236284937153152674989465128375316782498...    Gentle    1791   \n",
       "4950  9374516286817923544253861971796385423462758198...     Tough    1963   \n",
       "4966  5874639126198523744327196857283951463561748291...  Moderate    2387   \n",
       "4969  8493256712679145381358764924126573895934827167...  Moderate    1661   \n",
       "4972  4276513983859276149614385728347962511923457865...  Moderate    2315   \n",
       "4973  5731289648297461534613598721365724987528943169...  Moderate    2359   \n",
       "4978  8579624314938716526124358793261547985493871261...     Tough    2084   \n",
       "4979  5164978327286534914391286579457612836732851492...  Moderate    2575   \n",
       "4981  5689143729172384653427568911836427596591872347...    Gentle    2640   \n",
       "4985  6758193242897345611435267897962814353284956174...     Tough    2427   \n",
       "4986  2715486398639274519541367286328941751857629434...  Moderate    2762   \n",
       "4990  6289741537316589425941236874692875313875912642...  Moderate    1848   \n",
       "4994  9758216346245391878134765297612534983589472164...  Moderate    2846   \n",
       "4997  2539681479641275381785432965124896734376528196...  Moderate    1843   \n",
       "5014  3924816571876593245642738917391284654285679136...  Moderate    2920   \n",
       "5027  7835916242654879139146327586591238478417653923...     Tough    3214   \n",
       "\n",
       "      Average-Time Solved_single_position Solved_naked_twins  \n",
       "1               12             Not solved             Solved  \n",
       "4               14             Not solved             Solved  \n",
       "8               15             Not solved             Solved  \n",
       "11              15             Not solved             Solved  \n",
       "12              14             Not solved             Solved  \n",
       "15              14             Not solved             Solved  \n",
       "18              15             Not solved             Solved  \n",
       "19              16             Not solved             Solved  \n",
       "26              15             Not solved             Solved  \n",
       "27              14             Not solved             Solved  \n",
       "33              14             Not solved             Solved  \n",
       "46              14             Not solved             Solved  \n",
       "48              12             Not solved             Solved  \n",
       "61              18             Not solved             Solved  \n",
       "83              13             Not solved             Solved  \n",
       "89              14             Not solved             Solved  \n",
       "90              13             Not solved             Solved  \n",
       "99              14             Not solved             Solved  \n",
       "104             11             Not solved             Solved  \n",
       "106             14             Not solved             Solved  \n",
       "113             14             Not solved             Solved  \n",
       "120             16             Not solved             Solved  \n",
       "127             15             Not solved             Solved  \n",
       "132             13             Not solved             Solved  \n",
       "134             16             Not solved             Solved  \n",
       "145             16             Not solved             Solved  \n",
       "150             20             Not solved             Solved  \n",
       "155             16             Not solved             Solved  \n",
       "160             12             Not solved             Solved  \n",
       "165             15             Not solved             Solved  \n",
       "...            ...                    ...                ...  \n",
       "4908            27             Not solved             Solved  \n",
       "4909            21             Not solved             Solved  \n",
       "4910            24             Not solved             Solved  \n",
       "4911            21             Not solved             Solved  \n",
       "4913            25             Not solved             Solved  \n",
       "4920            24             Not solved             Solved  \n",
       "4923            22             Not solved             Solved  \n",
       "4924            22             Not solved             Solved  \n",
       "4927            26             Not solved             Solved  \n",
       "4930            24             Not solved             Solved  \n",
       "4932            25             Not solved             Solved  \n",
       "4937            24             Not solved             Solved  \n",
       "4939            21             Not solved             Solved  \n",
       "4941            27             Not solved             Solved  \n",
       "4946            23             Not solved             Solved  \n",
       "4950            31             Not solved             Solved  \n",
       "4966            24             Not solved             Solved  \n",
       "4969            28             Not solved             Solved  \n",
       "4972            28             Not solved             Solved  \n",
       "4973            25             Not solved             Solved  \n",
       "4978            36             Not solved             Solved  \n",
       "4979            25             Not solved             Solved  \n",
       "4981            20             Not solved             Solved  \n",
       "4985            31             Not solved             Solved  \n",
       "4986            22             Not solved             Solved  \n",
       "4990            26             Not solved             Solved  \n",
       "4994            22             Not solved             Solved  \n",
       "4997            30             Not solved             Solved  \n",
       "5014            27             Not solved             Solved  \n",
       "5027            30             Not solved             Solved  \n",
       "\n",
       "[1155 rows x 8 columns]"
      ]
     },
     "execution_count": 62,
     "metadata": {},
     "output_type": "execute_result"
    }
   ],
   "source": [
    "df[(df['Solved_naked_twins']=='Solved')& (df['Solved_single_position']=='Not solved')]"
   ]
  },
  {
   "cell_type": "code",
   "execution_count": 18,
   "metadata": {},
   "outputs": [],
   "source": [
    "df['Solved']= df['Sudoku'].apply(lambda x: solve(x)[0])"
   ]
  },
  {
   "cell_type": "code",
   "execution_count": 19,
   "metadata": {},
   "outputs": [
    {
     "data": {
      "text/plain": [
       "Solved    5029\n",
       "Name: Solved, dtype: int64"
      ]
     },
     "execution_count": 19,
     "metadata": {},
     "output_type": "execute_result"
    }
   ],
   "source": [
    "df['Solved'].value_counts()"
   ]
  },
  {
   "cell_type": "code",
   "execution_count": 20,
   "metadata": {},
   "outputs": [
    {
     "data": {
      "text/html": [
       "<div>\n",
       "<style scoped>\n",
       "    .dataframe tbody tr th:only-of-type {\n",
       "        vertical-align: middle;\n",
       "    }\n",
       "\n",
       "    .dataframe tbody tr th {\n",
       "        vertical-align: top;\n",
       "    }\n",
       "\n",
       "    .dataframe thead th {\n",
       "        text-align: right;\n",
       "    }\n",
       "</style>\n",
       "<table border=\"1\" class=\"dataframe\">\n",
       "  <thead>\n",
       "    <tr style=\"text-align: right;\">\n",
       "      <th></th>\n",
       "      <th>Id</th>\n",
       "      <th>Sudoku</th>\n",
       "      <th>Solution</th>\n",
       "      <th>Level</th>\n",
       "      <th>People</th>\n",
       "      <th>Average-Time</th>\n",
       "      <th>Solved_single_position</th>\n",
       "      <th>Solved_single_candidate</th>\n",
       "      <th>Solved_naked_twins</th>\n",
       "      <th>Solved</th>\n",
       "    </tr>\n",
       "  </thead>\n",
       "  <tbody>\n",
       "    <tr>\n",
       "      <th>0</th>\n",
       "      <td>0</td>\n",
       "      <td>8...74...1.........7.5.9.4....65.4..73.....296...</td>\n",
       "      <td>8591742361648325973725698412916574837354186296...</td>\n",
       "      <td>Diabolical</td>\n",
       "      <td>254</td>\n",
       "      <td>25</td>\n",
       "      <td>Not solved</td>\n",
       "      <td>Not solved</td>\n",
       "      <td>Not solved</td>\n",
       "      <td>Solved</td>\n",
       "    </tr>\n",
       "    <tr>\n",
       "      <th>1</th>\n",
       "      <td>1</td>\n",
       "      <td>.5.....7.9......6...21.75.8.4..69.3...8...4......</td>\n",
       "      <td>8539461729175823644621375981458692376283754197...</td>\n",
       "      <td>Moderate</td>\n",
       "      <td>281</td>\n",
       "      <td>12</td>\n",
       "      <td>Not solved</td>\n",
       "      <td>Not solved</td>\n",
       "      <td>Not solved</td>\n",
       "      <td>Solved</td>\n",
       "    </tr>\n",
       "    <tr>\n",
       "      <th>2</th>\n",
       "      <td>2</td>\n",
       "      <td>...45.2..3.........8....4..7...94.3.9..5.2.76....</td>\n",
       "      <td>6974532183248617955819274637186945329435128762...</td>\n",
       "      <td>Diabolical</td>\n",
       "      <td>265</td>\n",
       "      <td>22</td>\n",
       "      <td>Not solved</td>\n",
       "      <td>Not solved</td>\n",
       "      <td>Not solved</td>\n",
       "      <td>Solved</td>\n",
       "    </tr>\n",
       "    <tr>\n",
       "      <th>3</th>\n",
       "      <td>3</td>\n",
       "      <td>9......31.3...8.....5.7.9..3...4...8.916..54.4...</td>\n",
       "      <td>9274568316341982758153729643527496187916835424...</td>\n",
       "      <td>Tough</td>\n",
       "      <td>279</td>\n",
       "      <td>19</td>\n",
       "      <td>Not solved</td>\n",
       "      <td>Not solved</td>\n",
       "      <td>Not solved</td>\n",
       "      <td>Solved</td>\n",
       "    </tr>\n",
       "    <tr>\n",
       "      <th>4</th>\n",
       "      <td>4</td>\n",
       "      <td>9.......2784.1.5.....4.....2.53.1.7...7...8......</td>\n",
       "      <td>9615387427846125395234796182953814761479568236...</td>\n",
       "      <td>Moderate</td>\n",
       "      <td>301</td>\n",
       "      <td>14</td>\n",
       "      <td>Not solved</td>\n",
       "      <td>Not solved</td>\n",
       "      <td>Not solved</td>\n",
       "      <td>Solved</td>\n",
       "    </tr>\n",
       "  </tbody>\n",
       "</table>\n",
       "</div>"
      ],
      "text/plain": [
       "   Id                                             Sudoku  \\\n",
       "0   0  8...74...1.........7.5.9.4....65.4..73.....296...   \n",
       "1   1  .5.....7.9......6...21.75.8.4..69.3...8...4......   \n",
       "2   2  ...45.2..3.........8....4..7...94.3.9..5.2.76....   \n",
       "3   3  9......31.3...8.....5.7.9..3...4...8.916..54.4...   \n",
       "4   4  9.......2784.1.5.....4.....2.53.1.7...7...8......   \n",
       "\n",
       "                                            Solution       Level  People  \\\n",
       "0  8591742361648325973725698412916574837354186296...  Diabolical     254   \n",
       "1  8539461729175823644621375981458692376283754197...    Moderate     281   \n",
       "2  6974532183248617955819274637186945329435128762...  Diabolical     265   \n",
       "3  9274568316341982758153729643527496187916835424...       Tough     279   \n",
       "4  9615387427846125395234796182953814761479568236...    Moderate     301   \n",
       "\n",
       "   Average-Time Solved_single_position Solved_single_candidate  \\\n",
       "0            25             Not solved              Not solved   \n",
       "1            12             Not solved              Not solved   \n",
       "2            22             Not solved              Not solved   \n",
       "3            19             Not solved              Not solved   \n",
       "4            14             Not solved              Not solved   \n",
       "\n",
       "  Solved_naked_twins  Solved  \n",
       "0         Not solved  Solved  \n",
       "1         Not solved  Solved  \n",
       "2         Not solved  Solved  \n",
       "3         Not solved  Solved  \n",
       "4         Not solved  Solved  "
      ]
     },
     "execution_count": 20,
     "metadata": {},
     "output_type": "execute_result"
    }
   ],
   "source": [
    "df.head()"
   ]
  },
  {
   "cell_type": "code",
   "execution_count": 21,
   "metadata": {},
   "outputs": [
    {
     "name": "stdout",
     "output_type": "stream",
     "text": [
      "8 5 9 |1 7 4 |2 3 6 \n",
      "1 6 4 |8 3 2 |5 9 7 \n",
      "3 7 2 |5 6 9 |8 4 1 \n",
      "------+------+------\n",
      "2 9 1 |6 5 7 |4 8 3 \n",
      "7 3 5 |4 1 8 |6 2 9 \n",
      "6 4 8 |2 9 3 |1 7 5 \n",
      "------+------+------\n",
      "9 2 6 |3 8 1 |7 5 4 \n",
      "4 1 3 |7 2 5 |9 6 8 \n",
      "5 8 7 |9 4 6 |3 1 2 \n"
     ]
    }
   ],
   "source": [
    "display(solve(df['Sudoku'][0])[1])"
   ]
  },
  {
   "cell_type": "code",
   "execution_count": 22,
   "metadata": {},
   "outputs": [
    {
     "name": "stdout",
     "output_type": "stream",
     "text": [
      "8 5 3 |9 4 6 |1 7 2 \n",
      "9 1 7 |5 8 2 |3 6 4 \n",
      "4 6 2 |1 3 7 |5 9 8 \n",
      "------+------+------\n",
      "1 4 5 |8 6 9 |2 3 7 \n",
      "6 2 8 |3 7 5 |4 1 9 \n",
      "7 3 9 |4 2 1 |8 5 6 \n",
      "------+------+------\n",
      "3 7 1 |2 9 8 |6 4 5 \n",
      "2 9 4 |6 5 3 |7 8 1 \n",
      "5 8 6 |7 1 4 |9 2 3 \n"
     ]
    }
   ],
   "source": [
    "display(solve(df['Sudoku'][1])[1])"
   ]
  },
  {
   "cell_type": "code",
   "execution_count": 23,
   "metadata": {},
   "outputs": [
    {
     "data": {
      "text/plain": [
       "'.5.....7.9......6...21.75.8.4..69.3...8...4...3.42..5.3.12.86...9......1.8.....2.'"
      ]
     },
     "execution_count": 23,
     "metadata": {},
     "output_type": "execute_result"
    }
   ],
   "source": [
    "df['Sudoku'][1]"
   ]
  },
  {
   "cell_type": "code",
   "execution_count": 28,
   "metadata": {},
   "outputs": [],
   "source": [
    "test='.5.....7.9......6...21.75.8.4..69.3...8...4...3.42..5.3.12.86...9......1.8.....2.'"
   ]
  },
  {
   "cell_type": "code",
   "execution_count": 30,
   "metadata": {},
   "outputs": [
    {
     "data": {
      "text/plain": [
       "'853946172917582364462137598145869237628375419739421856371298645294653781586714923'"
      ]
     },
     "execution_count": 30,
     "metadata": {},
     "output_type": "execute_result"
    }
   ],
   "source": [
    "solve(test)[1]"
   ]
  },
  {
   "cell_type": "code",
   "execution_count": 34,
   "metadata": {},
   "outputs": [],
   "source": [
    "a=solve(test)[1]"
   ]
  },
  {
   "cell_type": "code",
   "execution_count": 35,
   "metadata": {},
   "outputs": [
    {
     "name": "stdout",
     "output_type": "stream",
     "text": [
      "8 5 3 |9 4 6 |1 7 2 \n",
      "9 1 7 |5 8 2 |3 6 4 \n",
      "4 6 2 |1 3 7 |5 9 8 \n",
      "------+------+------\n",
      "1 4 5 |8 6 9 |2 3 7 \n",
      "6 2 8 |3 7 5 |4 1 9 \n",
      "7 3 9 |4 2 1 |8 5 6 \n",
      "------+------+------\n",
      "3 7 1 |2 9 8 |6 4 5 \n",
      "2 9 4 |6 5 3 |7 8 1 \n",
      "5 8 6 |7 1 4 |9 2 3 \n",
      "\n"
     ]
    }
   ],
   "source": [
    "display(a)"
   ]
  },
  {
   "cell_type": "code",
   "execution_count": 65,
   "metadata": {},
   "outputs": [],
   "source": [
    "df['Sudoku'][4]\n",
    "#test2 = '.5.....7.9......6...21.75.8.4..69.3...8...4...3.42..5.3.12.86...9......1.8.....2.'\n",
    "test2='9.......2784.1.5.....4.....2.53.1.7...7...8...3.2.79.1.....3.....2.6.1958.......4'"
   ]
  },
  {
   "cell_type": "code",
   "execution_count": 70,
   "metadata": {},
   "outputs": [],
   "source": [
    "rows = 'ABCDEFGHI'\n",
    "cols = '123456789'\n",
    "\n",
    "boxes = [s+t for s in rows for t in cols]\n",
    "row_units = [[s+t for s in r for t in cols] for r in rows]\n",
    "column_units = [[s+t for s in rows for t in c] for c in cols]\n",
    "square_units = [[s+t for s in rs for t in cs]for rs in ('ABC','DEF','GHI') for cs in ('123','456','789')]\n",
    "unitlist = row_units + column_units + square_units\n",
    "units = dict((s, [u for u in unitlist if s in u]) for s in boxes)\n",
    "peers = dict((s, set(sum(units[s],[]))-set([s])) for s in boxes)\n",
    "valuesg = dict(zip(boxes,[\".\" if element == \".\" else element for element in test3]))             "
   ]
  },
  {
   "cell_type": "code",
   "execution_count": 73,
   "metadata": {},
   "outputs": [
    {
     "name": "stdout",
     "output_type": "stream",
     "text": [
      "[]\n",
      "[]\n",
      "[]\n",
      "[]\n",
      "['14', '14']\n",
      "[]\n",
      "[]\n",
      "[]\n",
      "[]\n",
      "[]\n",
      "[]\n",
      "[]\n",
      "[]\n",
      "[]\n",
      "[]\n",
      "[]\n",
      "[]\n",
      "[]\n",
      "[]\n",
      "[]\n",
      "[]\n",
      "[]\n",
      "['14', '14']\n",
      "[]\n",
      "[]\n",
      "[]\n",
      "[]\n"
     ]
    }
   ],
   "source": [
    "values = solve_technique(test3,\"naked_twins\")[1]\n",
    "for unit in unitlist:\n",
    "    twins = [v for v in [values[box] for box in unit] if [values[box] for box in unit].count(v) == 2 and len(v) == 2]\n",
    "    print(twins)"
   ]
  },
  {
   "cell_type": "code",
   "execution_count": 75,
   "metadata": {},
   "outputs": [
    {
     "name": "stdout",
     "output_type": "stream",
     "text": [
      "   8     569    2369 |   12     7      4   | 12359   1369   1356 \n",
      "   1     4569  23469 |   28    2368   236  | 235789 36789   3567 \n",
      "   23     7     236  |   5    12368    9   |  1238    4     136  \n",
      "---------------------+---------------------+---------------------\n",
      "   29     19    129  |   6      5     237  |   4     1378   137  \n",
      "   7      3      5   |   14     14     8   |   6      2      9   \n",
      "   6     149     8   |   27    239    237  |  1357   137    1357 \n",
      "---------------------+---------------------+---------------------\n",
      "   49     2     4679 |   3     468     1   |   79     5     467  \n",
      "  3459  14569  134679|  247    246    2567 |  1379  13679    8   \n",
      "  345   14568  13467 |   9     468    567  |  137    1367    2   \n",
      "\n"
     ]
    }
   ],
   "source": [
    "display(values)"
   ]
  },
  {
   "cell_type": "code",
   "execution_count": 124,
   "metadata": {},
   "outputs": [
    {
     "name": "stdout",
     "output_type": "stream",
     "text": [
      "['A4', 'B4', 'C1', 'D1', 'D2', 'E4', 'E5', 'F4', 'G1', 'G7']\n"
     ]
    }
   ],
   "source": [
    "parejas=[]\n",
    "for box in boxes:\n",
    "    if len(values[box]) is 2:\n",
    "        parejas.append(box)\n",
    "print(parejas)"
   ]
  },
  {
   "cell_type": "code",
   "execution_count": 95,
   "metadata": {},
   "outputs": [
    {
     "name": "stdout",
     "output_type": "stream",
     "text": [
      "['A4', 'B4', 'C4', 'D4', 'E4', 'F4', 'G4', 'H4', 'I4']\n"
     ]
    }
   ],
   "source": [
    "for column in column_units:\n",
    "    if 'A4' in column:\n",
    "        print(column)"
   ]
  },
  {
   "cell_type": "code",
   "execution_count": 3,
   "metadata": {},
   "outputs": [
    {
     "data": {
      "text/plain": [
       "('Ivalid Sudoku, check these values:', [False, '2', 'I9'])"
      ]
     },
     "execution_count": 3,
     "metadata": {},
     "output_type": "execute_result"
    }
   ],
   "source": [
    "# len(validator(valuesg))\n",
    "solve(test2)"
   ]
  },
  {
   "cell_type": "code",
   "execution_count": 203,
   "metadata": {},
   "outputs": [
    {
     "name": "stdout",
     "output_type": "stream",
     "text": [
      ". 5 5 |. . . |. 7 . \n",
      "9 . . |. . . |. 6 . \n",
      ". . 2 |1 . 7 |5 . 8 \n",
      "------+------+------\n",
      ". 4 . |. 6 9 |. 3 . \n",
      ". . 8 |. . . |4 . . \n",
      ". 3 . |4 2 . |. 5 . \n",
      "------+------+------\n",
      "3 . 1 |2 . 8 |6 . . \n",
      ". 9 . |. . . |. . 1 \n",
      ". 8 . |. . . |. 2 . \n"
     ]
    }
   ],
   "source": [
    "display(values)"
   ]
  },
  {
   "cell_type": "code",
   "execution_count": 59,
   "metadata": {},
   "outputs": [],
   "source": [
    "# def checker(grid):\n",
    "    \n",
    "#     rows = 'ABCDEFGHI'\n",
    "#     cols = '123456789'\n",
    "\n",
    "#     boxes = [s+t for s in rows for t in cols]\n",
    "#     values_grid = dict(zip(boxes, [\".\" if element == \".\" else element for element in grid]))\n",
    "#     row_units = [[s+t for s in r for t in cols] for r in rows]\n",
    "#     column_units = [[s+t for s in rows for t in c] for c in cols]\n",
    "#     square_units = [[s+t for s in rs for t in cs]for rs in ('ABC','DEF','GHI') for cs in ('123','456','789')]\n",
    "#     unitlist = row_units + column_units + square_units\n",
    "#     units = dict((s, [u for u in unitlist if s in u]) for s in boxes)\n",
    "#     peers = dict((s, set(sum(units[s],[]))-set([s])) for s in boxes)\n",
    "    \n",
    "# #     print(values_grid.keys())\n",
    "# #     print('hiiiiiiiii',row_units)\n",
    "#     if 'A1' in row_units:\n",
    "#         print(row_units)\n",
    "\n",
    "# #     for a in values_grid.values():\n",
    "# #         if a == '.':\n",
    "# #             print('no')\n",
    "# #         else:\n",
    "# #             if a in values_grid[a]:\n",
    "# #                 print('yes')\n"
   ]
  },
  {
   "cell_type": "code",
   "execution_count": 34,
   "metadata": {},
   "outputs": [],
   "source": [
    "def split(element): \n",
    "    return [char for char in element]  \n",
    "\n",
    "def transform_matrix(element):\n",
    "  return np.reshape(split(element), (-1, 9))"
   ]
  },
  {
   "cell_type": "code",
   "execution_count": 48,
   "metadata": {},
   "outputs": [
    {
     "data": {
      "text/plain": [
       "array([['.', '5', '.', '.', '.', '.', '.', '7', '.'],\n",
       "       ['9', '.', '.', '.', '.', '.', '.', '6', '.'],\n",
       "       ['.', '.', '2', '1', '.', '7', '5', '.', '8'],\n",
       "       ['.', '4', '.', '.', '6', '9', '.', '3', '.'],\n",
       "       ['.', '.', '8', '.', '.', '.', '4', '.', '.'],\n",
       "       ['.', '3', '.', '4', '2', '.', '.', '5', '.'],\n",
       "       ['3', '.', '1', '2', '.', '8', '6', '.', '.'],\n",
       "       ['.', '9', '.', '.', '.', '.', '.', '.', '1'],\n",
       "       ['.', '8', '.', '.', '.', '.', '.', '2', '.']], dtype='<U1')"
      ]
     },
     "execution_count": 48,
     "metadata": {},
     "output_type": "execute_result"
    }
   ],
   "source": [
    "transform_matrix(test_wrong)"
   ]
  },
  {
   "cell_type": "code",
   "execution_count": 35,
   "metadata": {},
   "outputs": [
    {
     "data": {
      "text/plain": [
       "array([['.', '5', '.', '.', '.', '.', '.', '7', '.'],\n",
       "       ['9', '.', '.', '.', '.', '.', '.', '6', '.'],\n",
       "       ['.', '.', '2', '1', '.', '7', '5', '.', '8'],\n",
       "       ['.', '4', '.', '.', '6', '9', '.', '3', '.'],\n",
       "       ['.', '.', '8', '.', '.', '.', '4', '.', '.'],\n",
       "       ['.', '3', '.', '4', '2', '.', '.', '5', '.'],\n",
       "       ['3', '.', '1', '2', '.', '8', '6', '.', '.'],\n",
       "       ['.', '9', '.', '.', '.', '.', '.', '.', '1'],\n",
       "       ['.', '8', '.', '.', '.', '.', '.', '2', '.']], dtype='<U1')"
      ]
     },
     "execution_count": 35,
     "metadata": {},
     "output_type": "execute_result"
    }
   ],
   "source": [
    "transform_matrix(test2)"
   ]
  },
  {
   "cell_type": "code",
   "execution_count": null,
   "metadata": {},
   "outputs": [],
   "source": []
  }
 ],
 "metadata": {
  "kernelspec": {
   "display_name": "conda_tensorflow_p36",
   "language": "python",
   "name": "conda_tensorflow_p36"
  },
  "language_info": {
   "codemirror_mode": {
    "name": "ipython",
    "version": 3
   },
   "file_extension": ".py",
   "mimetype": "text/x-python",
   "name": "python",
   "nbconvert_exporter": "python",
   "pygments_lexer": "ipython3",
   "version": "3.6.5"
  }
 },
 "nbformat": 4,
 "nbformat_minor": 4
}
