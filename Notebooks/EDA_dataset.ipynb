{
 "cells": [
  {
   "cell_type": "markdown",
   "metadata": {},
   "source": [
    "#### Loading Data Set"
   ]
  },
  {
   "cell_type": "code",
   "execution_count": 1,
   "metadata": {},
   "outputs": [],
   "source": [
    "# Importing Libraries\n",
    "import pandas as pd\n",
    "import numpy as np\n",
    "import seaborn as sns\n",
    "import matplotlib.pyplot as plt\n",
    "import sklearn"
   ]
  },
  {
   "cell_type": "code",
   "execution_count": 2,
   "metadata": {},
   "outputs": [],
   "source": [
    "df = pd.read_csv('data/dataset.csv').drop('Unnamed: 0', axis=1)"
   ]
  },
  {
   "cell_type": "code",
   "execution_count": 3,
   "metadata": {},
   "outputs": [],
   "source": [
    "df = df.replace({'Gentle': 'Gentle-1', 'Moderate': 'Moderate-2', 'Tough': 'Tough-3','Diabolical': 'Diabolical-4'})"
   ]
  },
  {
   "cell_type": "code",
   "execution_count": 6,
   "metadata": {},
   "outputs": [
    {
     "data": {
      "text/plain": [
       "(5029, 6)"
      ]
     },
     "execution_count": 6,
     "metadata": {},
     "output_type": "execute_result"
    }
   ],
   "source": [
    "# check size\n",
    "df.shape"
   ]
  },
  {
   "cell_type": "code",
   "execution_count": 7,
   "metadata": {},
   "outputs": [
    {
     "data": {
      "text/html": [
       "<div>\n",
       "<style scoped>\n",
       "    .dataframe tbody tr th:only-of-type {\n",
       "        vertical-align: middle;\n",
       "    }\n",
       "\n",
       "    .dataframe tbody tr th {\n",
       "        vertical-align: top;\n",
       "    }\n",
       "\n",
       "    .dataframe thead th {\n",
       "        text-align: right;\n",
       "    }\n",
       "</style>\n",
       "<table border=\"1\" class=\"dataframe\">\n",
       "  <thead>\n",
       "    <tr style=\"text-align: right;\">\n",
       "      <th></th>\n",
       "      <th>Id</th>\n",
       "      <th>Sudoku</th>\n",
       "      <th>Solution</th>\n",
       "      <th>Level</th>\n",
       "      <th>People</th>\n",
       "      <th>Average-Time</th>\n",
       "    </tr>\n",
       "  </thead>\n",
       "  <tbody>\n",
       "    <tr>\n",
       "      <th>0</th>\n",
       "      <td>0</td>\n",
       "      <td>8...74...1.........7.5.9.4....65.4..73.....296...</td>\n",
       "      <td>8591742361648325973725698412916574837354186296...</td>\n",
       "      <td>Diabolical-4</td>\n",
       "      <td>254</td>\n",
       "      <td>25</td>\n",
       "    </tr>\n",
       "    <tr>\n",
       "      <th>1</th>\n",
       "      <td>1</td>\n",
       "      <td>.5.....7.9......6...21.75.8.4..69.3...8...4......</td>\n",
       "      <td>8539461729175823644621375981458692376283754197...</td>\n",
       "      <td>Moderate-2</td>\n",
       "      <td>281</td>\n",
       "      <td>12</td>\n",
       "    </tr>\n",
       "    <tr>\n",
       "      <th>2</th>\n",
       "      <td>2</td>\n",
       "      <td>...45.2..3.........8....4..7...94.3.9..5.2.76....</td>\n",
       "      <td>6974532183248617955819274637186945329435128762...</td>\n",
       "      <td>Diabolical-4</td>\n",
       "      <td>265</td>\n",
       "      <td>22</td>\n",
       "    </tr>\n",
       "    <tr>\n",
       "      <th>3</th>\n",
       "      <td>3</td>\n",
       "      <td>9......31.3...8.....5.7.9..3...4...8.916..54.4...</td>\n",
       "      <td>9274568316341982758153729643527496187916835424...</td>\n",
       "      <td>Tough-3</td>\n",
       "      <td>279</td>\n",
       "      <td>19</td>\n",
       "    </tr>\n",
       "    <tr>\n",
       "      <th>4</th>\n",
       "      <td>4</td>\n",
       "      <td>9.......2784.1.5.....4.....2.53.1.7...7...8......</td>\n",
       "      <td>9615387427846125395234796182953814761479568236...</td>\n",
       "      <td>Moderate-2</td>\n",
       "      <td>301</td>\n",
       "      <td>14</td>\n",
       "    </tr>\n",
       "  </tbody>\n",
       "</table>\n",
       "</div>"
      ],
      "text/plain": [
       "   Id                                             Sudoku  \\\n",
       "0   0  8...74...1.........7.5.9.4....65.4..73.....296...   \n",
       "1   1  .5.....7.9......6...21.75.8.4..69.3...8...4......   \n",
       "2   2  ...45.2..3.........8....4..7...94.3.9..5.2.76....   \n",
       "3   3  9......31.3...8.....5.7.9..3...4...8.916..54.4...   \n",
       "4   4  9.......2784.1.5.....4.....2.53.1.7...7...8......   \n",
       "\n",
       "                                            Solution         Level  People  \\\n",
       "0  8591742361648325973725698412916574837354186296...  Diabolical-4     254   \n",
       "1  8539461729175823644621375981458692376283754197...    Moderate-2     281   \n",
       "2  6974532183248617955819274637186945329435128762...  Diabolical-4     265   \n",
       "3  9274568316341982758153729643527496187916835424...       Tough-3     279   \n",
       "4  9615387427846125395234796182953814761479568236...    Moderate-2     301   \n",
       "\n",
       "   Average-Time  \n",
       "0            25  \n",
       "1            12  \n",
       "2            22  \n",
       "3            19  \n",
       "4            14  "
      ]
     },
     "execution_count": 7,
     "metadata": {},
     "output_type": "execute_result"
    }
   ],
   "source": [
    "df.head()"
   ]
  },
  {
   "cell_type": "code",
   "execution_count": 8,
   "metadata": {},
   "outputs": [
    {
     "data": {
      "text/plain": [
       "81"
      ]
     },
     "execution_count": 8,
     "metadata": {},
     "output_type": "execute_result"
    }
   ],
   "source": [
    "len(df['Sudoku'][0])"
   ]
  },
  {
   "cell_type": "code",
   "execution_count": 9,
   "metadata": {},
   "outputs": [
    {
     "data": {
      "text/plain": [
       "Id              0\n",
       "Sudoku          0\n",
       "Solution        0\n",
       "Level           0\n",
       "People          0\n",
       "Average-Time    0\n",
       "dtype: int64"
      ]
     },
     "execution_count": 9,
     "metadata": {},
     "output_type": "execute_result"
    }
   ],
   "source": [
    "## Check null values\n",
    "df.isnull().sum()"
   ]
  },
  {
   "cell_type": "markdown",
   "metadata": {},
   "source": [
    "### Who many levels are there?"
   ]
  },
  {
   "cell_type": "code",
   "execution_count": 10,
   "metadata": {},
   "outputs": [
    {
     "data": {
      "text/plain": [
       "['Moderate-2', 'Diabolical-4', 'Tough-3', 'Gentle-1']"
      ]
     },
     "execution_count": 10,
     "metadata": {},
     "output_type": "execute_result"
    }
   ],
   "source": [
    "list(df['Level'].value_counts().index)"
   ]
  },
  {
   "cell_type": "markdown",
   "metadata": {},
   "source": [
    "##### On the website they rank the levels in this way from the easiest to the most difficult:\n",
    "##### 1. Gentle \n",
    "##### 2. Moderate \n",
    "##### 3. Tough \n",
    "##### 4. Diabolical\n"
   ]
  },
  {
   "cell_type": "markdown",
   "metadata": {},
   "source": [
    "### QUESTION / HYPTHESIS /RESULTS"
   ]
  },
  {
   "cell_type": "markdown",
   "metadata": {},
   "source": [
    "#### 1) Is the number of people who solve easy Sudoku greater than those who solve difficult?\n",
    "#### Hypothesis: the total of players fro the level \"Gentle\" is bigger than the leven \"Diabolical\" \n",
    "#### Results:"
   ]
  },
  {
   "cell_type": "code",
   "execution_count": 11,
   "metadata": {},
   "outputs": [
    {
     "data": {
      "text/html": [
       "<div>\n",
       "<style scoped>\n",
       "    .dataframe tbody tr th:only-of-type {\n",
       "        vertical-align: middle;\n",
       "    }\n",
       "\n",
       "    .dataframe tbody tr th {\n",
       "        vertical-align: top;\n",
       "    }\n",
       "\n",
       "    .dataframe thead th {\n",
       "        text-align: right;\n",
       "    }\n",
       "</style>\n",
       "<table border=\"1\" class=\"dataframe\">\n",
       "  <thead>\n",
       "    <tr style=\"text-align: right;\">\n",
       "      <th></th>\n",
       "      <th>Level</th>\n",
       "      <th>People</th>\n",
       "      <th>%</th>\n",
       "    </tr>\n",
       "  </thead>\n",
       "  <tbody>\n",
       "    <tr>\n",
       "      <th>2</th>\n",
       "      <td>Moderate-2</td>\n",
       "      <td>1699004</td>\n",
       "      <td>0.448928</td>\n",
       "    </tr>\n",
       "    <tr>\n",
       "      <th>0</th>\n",
       "      <td>Diabolical-4</td>\n",
       "      <td>955867</td>\n",
       "      <td>0.252569</td>\n",
       "    </tr>\n",
       "    <tr>\n",
       "      <th>1</th>\n",
       "      <td>Gentle-1</td>\n",
       "      <td>595112</td>\n",
       "      <td>0.157247</td>\n",
       "    </tr>\n",
       "    <tr>\n",
       "      <th>3</th>\n",
       "      <td>Tough-3</td>\n",
       "      <td>534597</td>\n",
       "      <td>0.141257</td>\n",
       "    </tr>\n",
       "  </tbody>\n",
       "</table>\n",
       "</div>"
      ],
      "text/plain": [
       "          Level   People         %\n",
       "2    Moderate-2  1699004  0.448928\n",
       "0  Diabolical-4   955867  0.252569\n",
       "1      Gentle-1   595112  0.157247\n",
       "3       Tough-3   534597  0.141257"
      ]
     },
     "execution_count": 11,
     "metadata": {},
     "output_type": "execute_result"
    }
   ],
   "source": [
    "gb1 = df.groupby('Level', as_index=False).agg({\"People\": \"sum\"}).sort_values(by='People', ascending=False)\n",
    "total= gb1.People.sum()\n",
    "gb1['%'] = gb1['People']/total\n",
    "gb1.head()"
   ]
  },
  {
   "cell_type": "code",
   "execution_count": 12,
   "metadata": {},
   "outputs": [],
   "source": [
    "diabolical = gb1[gb1['Level']=='Diabolical-4'].values[0,1]\n",
    "gentle = gb1[gb1['Level']=='Gentle-1'].values[0,1]\n"
   ]
  },
  {
   "cell_type": "code",
   "execution_count": 13,
   "metadata": {},
   "outputs": [
    {
     "name": "stdout",
     "output_type": "stream",
     "text": [
      "The hypothesis is False , more people plays diabolical than Gentle\n"
     ]
    }
   ],
   "source": [
    "if gentle > diabolical:\n",
    "    print('Hyphothesis is True')\n",
    "else: \n",
    "    print('The hypothesis is False , more people plays diabolical than Gentle')"
   ]
  },
  {
   "cell_type": "code",
   "execution_count": 14,
   "metadata": {},
   "outputs": [
    {
     "data": {
      "image/png": "[encoded data removed]",
      "text/plain": [
       "<Figure size 360x360 with 1 Axes>"
      ]
     },
     "metadata": {},
     "output_type": "display_data"
    }
   ],
   "source": [
    "### Plot \n",
    "plt.figure(figsize=(5, 5))\n",
    "plt.bar(gb1['Level'], gb1['%'])\n",
    "plt.show();"
   ]
  },
  {
   "cell_type": "markdown",
   "metadata": {},
   "source": [
    "#### 2) Does it take more time for people to solve the most difficult  ?\n",
    "#### Hypothesis: The average time to solve Sudoku in a \"Diabolical\" level is bigger than \"Thought\" level\n",
    "#### Results:"
   ]
  },
  {
   "cell_type": "code",
   "execution_count": 15,
   "metadata": {},
   "outputs": [
    {
     "data": {
      "text/html": [
       "<div>\n",
       "<style scoped>\n",
       "    .dataframe tbody tr th:only-of-type {\n",
       "        vertical-align: middle;\n",
       "    }\n",
       "\n",
       "    .dataframe tbody tr th {\n",
       "        vertical-align: top;\n",
       "    }\n",
       "\n",
       "    .dataframe thead th {\n",
       "        text-align: right;\n",
       "    }\n",
       "</style>\n",
       "<table border=\"1\" class=\"dataframe\">\n",
       "  <thead>\n",
       "    <tr style=\"text-align: right;\">\n",
       "      <th></th>\n",
       "      <th>Level</th>\n",
       "      <th>Average-Time</th>\n",
       "    </tr>\n",
       "  </thead>\n",
       "  <tbody>\n",
       "    <tr>\n",
       "      <th>0</th>\n",
       "      <td>Diabolical-4</td>\n",
       "      <td>31.026462</td>\n",
       "    </tr>\n",
       "    <tr>\n",
       "      <th>3</th>\n",
       "      <td>Tough-3</td>\n",
       "      <td>24.022253</td>\n",
       "    </tr>\n",
       "    <tr>\n",
       "      <th>2</th>\n",
       "      <td>Moderate-2</td>\n",
       "      <td>17.204082</td>\n",
       "    </tr>\n",
       "    <tr>\n",
       "      <th>1</th>\n",
       "      <td>Gentle-1</td>\n",
       "      <td>13.916435</td>\n",
       "    </tr>\n",
       "  </tbody>\n",
       "</table>\n",
       "</div>"
      ],
      "text/plain": [
       "          Level  Average-Time\n",
       "0  Diabolical-4     31.026462\n",
       "3       Tough-3     24.022253\n",
       "2    Moderate-2     17.204082\n",
       "1      Gentle-1     13.916435"
      ]
     },
     "execution_count": 15,
     "metadata": {},
     "output_type": "execute_result"
    }
   ],
   "source": [
    "gb2 = df.groupby('Level', as_index=False).agg({\"Average-Time\": \"mean\"}).sort_values(by='Average-Time', ascending=False)\n",
    "gb2.head()"
   ]
  },
  {
   "cell_type": "code",
   "execution_count": 16,
   "metadata": {},
   "outputs": [
    {
     "data": {
      "image/png": "[encoded data removed]",
      "text/plain": [
       "<Figure size 360x360 with 1 Axes>"
      ]
     },
     "metadata": {},
     "output_type": "display_data"
    }
   ],
   "source": [
    "plt.figure(figsize=(5, 5))\n",
    "plt.bar(gb2['Level'], gb2['Average-Time'])\n",
    "plt.show();"
   ]
  },
  {
   "cell_type": "markdown",
   "metadata": {},
   "source": [
    "#### 3) Is the difficulty of a level defined by the amound of numbers given in the initial Sudoku?\n",
    "#### Hypothesis: Each Level has a range of numbers given in the initial Sudoku\n",
    "#### Results:"
   ]
  },
  {
   "cell_type": "code",
   "execution_count": 17,
   "metadata": {},
   "outputs": [
    {
     "name": "stderr",
     "output_type": "stream",
     "text": [
      "/home/ec2-user/anaconda3/envs/tensorflow_p36/lib/python3.6/site-packages/ipykernel/__main__.py:3: SettingWithCopyWarning: \n",
      "A value is trying to be set on a copy of a slice from a DataFrame\n",
      "\n",
      "See the caveats in the documentation: http://pandas.pydata.org/pandas-docs/stable/indexing.html#indexing-view-versus-copy\n",
      "  app.launch_new_instance()\n"
     ]
    }
   ],
   "source": [
    "df['number_given']= 0\n",
    "for i in range(len(df)):\n",
    "    df['number_given'][i] = sum(c.isdigit() for c in df['Sudoku'][i])"
   ]
  },
  {
   "cell_type": "code",
   "execution_count": 18,
   "metadata": {},
   "outputs": [
    {
     "data": {
      "text/plain": [
       "24"
      ]
     },
     "execution_count": 18,
     "metadata": {},
     "output_type": "execute_result"
    }
   ],
   "source": [
    "sum(c.isdigit() for c in df['Sudoku'][0])"
   ]
  },
  {
   "cell_type": "code",
   "execution_count": 19,
   "metadata": {},
   "outputs": [
    {
     "data": {
      "text/plain": [
       "24"
      ]
     },
     "execution_count": 19,
     "metadata": {},
     "output_type": "execute_result"
    }
   ],
   "source": [
    "df['number_given'][0]"
   ]
  },
  {
   "cell_type": "code",
   "execution_count": 20,
   "metadata": {},
   "outputs": [
    {
     "data": {
      "text/html": [
       "<div>\n",
       "<style scoped>\n",
       "    .dataframe tbody tr th:only-of-type {\n",
       "        vertical-align: middle;\n",
       "    }\n",
       "\n",
       "    .dataframe tbody tr th {\n",
       "        vertical-align: top;\n",
       "    }\n",
       "\n",
       "    .dataframe thead th {\n",
       "        text-align: right;\n",
       "    }\n",
       "</style>\n",
       "<table border=\"1\" class=\"dataframe\">\n",
       "  <thead>\n",
       "    <tr style=\"text-align: right;\">\n",
       "      <th></th>\n",
       "      <th>Id</th>\n",
       "      <th>Sudoku</th>\n",
       "      <th>Solution</th>\n",
       "      <th>Level</th>\n",
       "      <th>People</th>\n",
       "      <th>Average-Time</th>\n",
       "      <th>number_given</th>\n",
       "    </tr>\n",
       "  </thead>\n",
       "  <tbody>\n",
       "    <tr>\n",
       "      <th>0</th>\n",
       "      <td>0</td>\n",
       "      <td>8...74...1.........7.5.9.4....65.4..73.....296...</td>\n",
       "      <td>8591742361648325973725698412916574837354186296...</td>\n",
       "      <td>Diabolical-4</td>\n",
       "      <td>254</td>\n",
       "      <td>25</td>\n",
       "      <td>24</td>\n",
       "    </tr>\n",
       "    <tr>\n",
       "      <th>1</th>\n",
       "      <td>1</td>\n",
       "      <td>.5.....7.9......6...21.75.8.4..69.3...8...4......</td>\n",
       "      <td>8539461729175823644621375981458692376283754197...</td>\n",
       "      <td>Moderate-2</td>\n",
       "      <td>281</td>\n",
       "      <td>12</td>\n",
       "      <td>28</td>\n",
       "    </tr>\n",
       "    <tr>\n",
       "      <th>2</th>\n",
       "      <td>2</td>\n",
       "      <td>...45.2..3.........8....4..7...94.3.9..5.2.76....</td>\n",
       "      <td>6974532183248617955819274637186945329435128762...</td>\n",
       "      <td>Diabolical-4</td>\n",
       "      <td>265</td>\n",
       "      <td>22</td>\n",
       "      <td>24</td>\n",
       "    </tr>\n",
       "    <tr>\n",
       "      <th>3</th>\n",
       "      <td>3</td>\n",
       "      <td>9......31.3...8.....5.7.9..3...4...8.916..54.4...</td>\n",
       "      <td>9274568316341982758153729643527496187916835424...</td>\n",
       "      <td>Tough-3</td>\n",
       "      <td>279</td>\n",
       "      <td>19</td>\n",
       "      <td>26</td>\n",
       "    </tr>\n",
       "    <tr>\n",
       "      <th>4</th>\n",
       "      <td>4</td>\n",
       "      <td>9.......2784.1.5.....4.....2.53.1.7...7...8......</td>\n",
       "      <td>9615387427846125395234796182953814761479568236...</td>\n",
       "      <td>Moderate-2</td>\n",
       "      <td>301</td>\n",
       "      <td>14</td>\n",
       "      <td>28</td>\n",
       "    </tr>\n",
       "  </tbody>\n",
       "</table>\n",
       "</div>"
      ],
      "text/plain": [
       "   Id                                             Sudoku  \\\n",
       "0   0  8...74...1.........7.5.9.4....65.4..73.....296...   \n",
       "1   1  .5.....7.9......6...21.75.8.4..69.3...8...4......   \n",
       "2   2  ...45.2..3.........8....4..7...94.3.9..5.2.76....   \n",
       "3   3  9......31.3...8.....5.7.9..3...4...8.916..54.4...   \n",
       "4   4  9.......2784.1.5.....4.....2.53.1.7...7...8......   \n",
       "\n",
       "                                            Solution         Level  People  \\\n",
       "0  8591742361648325973725698412916574837354186296...  Diabolical-4     254   \n",
       "1  8539461729175823644621375981458692376283754197...    Moderate-2     281   \n",
       "2  6974532183248617955819274637186945329435128762...  Diabolical-4     265   \n",
       "3  9274568316341982758153729643527496187916835424...       Tough-3     279   \n",
       "4  9615387427846125395234796182953814761479568236...    Moderate-2     301   \n",
       "\n",
       "   Average-Time  number_given  \n",
       "0            25            24  \n",
       "1            12            28  \n",
       "2            22            24  \n",
       "3            19            26  \n",
       "4            14            28  "
      ]
     },
     "execution_count": 20,
     "metadata": {},
     "output_type": "execute_result"
    }
   ],
   "source": [
    "df.head()"
   ]
  },
  {
   "cell_type": "code",
   "execution_count": 21,
   "metadata": {},
   "outputs": [],
   "source": [
    "number_gentle = df['number_given'][df['Level']=='Gentle-1'].unique()\n",
    "number_moderate = df['number_given'][df['Level']=='Moderate-2'].unique()\n",
    "number_tough = df['number_given'][df['Level']=='Tough-3'].unique()\n",
    "number_diabolical = df['number_given'][df['Level']=='Diabolical-4'].unique()"
   ]
  },
  {
   "cell_type": "code",
   "execution_count": 22,
   "metadata": {},
   "outputs": [
    {
     "name": "stdout",
     "output_type": "stream",
     "text": [
      "Gentle: [23 24 25 26 27 28 29]\n",
      "Moderate: [22 23 24 25 26 27 28 29]\n",
      "Tough:  [22 23 24 25 26 27 28 29]\n",
      "Diabolical:  [21 22 23 24 25 26 27 28 29]\n"
     ]
    }
   ],
   "source": [
    "print('Gentle:',np.sort(number_gentle))\n",
    "print('Moderate:',np.sort(number_moderate))\n",
    "print('Tough: ',np.sort(number_tough))\n",
    "print('Diabolical: ',np.sort(number_diabolical))"
   ]
  },
  {
   "cell_type": "markdown",
   "metadata": {},
   "source": [
    "# PREDICT difficulty level base on the position of a number"
   ]
  },
  {
   "cell_type": "code",
   "execution_count": 23,
   "metadata": {},
   "outputs": [],
   "source": [
    "df['new_Sudoku'] = df['Sudoku']"
   ]
  },
  {
   "cell_type": "code",
   "execution_count": 24,
   "metadata": {},
   "outputs": [
    {
     "data": {
      "text/plain": [
       "5029"
      ]
     },
     "execution_count": 24,
     "metadata": {},
     "output_type": "execute_result"
    }
   ],
   "source": [
    "len(df['new_Sudoku'])"
   ]
  },
  {
   "cell_type": "code",
   "execution_count": 25,
   "metadata": {},
   "outputs": [],
   "source": [
    "def split(element): \n",
    "    return [char for char in element]"
   ]
  },
  {
   "cell_type": "code",
   "execution_count": 26,
   "metadata": {},
   "outputs": [
    {
     "name": "stderr",
     "output_type": "stream",
     "text": [
      "/home/ec2-user/anaconda3/envs/tensorflow_p36/lib/python3.6/site-packages/ipykernel/__main__.py:3: SettingWithCopyWarning: \n",
      "A value is trying to be set on a copy of a slice from a DataFrame\n",
      "\n",
      "See the caveats in the documentation: http://pandas.pydata.org/pandas-docs/stable/indexing.html#indexing-view-versus-copy\n",
      "  app.launch_new_instance()\n"
     ]
    }
   ],
   "source": [
    "for i in range(len(df['new_Sudoku'])):\n",
    "\n",
    "    df['new_Sudoku'][i] = [int(x.replace('.','0')) for x in df['new_Sudoku'][i]]\n"
   ]
  },
  {
   "cell_type": "code",
   "execution_count": 27,
   "metadata": {},
   "outputs": [
    {
     "data": {
      "text/html": [
       "<div>\n",
       "<style scoped>\n",
       "    .dataframe tbody tr th:only-of-type {\n",
       "        vertical-align: middle;\n",
       "    }\n",
       "\n",
       "    .dataframe tbody tr th {\n",
       "        vertical-align: top;\n",
       "    }\n",
       "\n",
       "    .dataframe thead th {\n",
       "        text-align: right;\n",
       "    }\n",
       "</style>\n",
       "<table border=\"1\" class=\"dataframe\">\n",
       "  <thead>\n",
       "    <tr style=\"text-align: right;\">\n",
       "      <th></th>\n",
       "      <th>Id</th>\n",
       "      <th>Sudoku</th>\n",
       "      <th>Solution</th>\n",
       "      <th>Level</th>\n",
       "      <th>People</th>\n",
       "      <th>Average-Time</th>\n",
       "      <th>number_given</th>\n",
       "      <th>new_Sudoku</th>\n",
       "    </tr>\n",
       "  </thead>\n",
       "  <tbody>\n",
       "    <tr>\n",
       "      <th>0</th>\n",
       "      <td>0</td>\n",
       "      <td>8...74...1.........7.5.9.4....65.4..73.....296...</td>\n",
       "      <td>8591742361648325973725698412916574837354186296...</td>\n",
       "      <td>Diabolical-4</td>\n",
       "      <td>254</td>\n",
       "      <td>25</td>\n",
       "      <td>24</td>\n",
       "      <td>[8, 0, 0, 0, 7, 4, 0, 0, 0, 1, 0, 0, 0, 0, 0, ...</td>\n",
       "    </tr>\n",
       "    <tr>\n",
       "      <th>1</th>\n",
       "      <td>1</td>\n",
       "      <td>.5.....7.9......6...21.75.8.4..69.3...8...4......</td>\n",
       "      <td>8539461729175823644621375981458692376283754197...</td>\n",
       "      <td>Moderate-2</td>\n",
       "      <td>281</td>\n",
       "      <td>12</td>\n",
       "      <td>28</td>\n",
       "      <td>[0, 5, 0, 0, 0, 0, 0, 7, 0, 9, 0, 0, 0, 0, 0, ...</td>\n",
       "    </tr>\n",
       "    <tr>\n",
       "      <th>2</th>\n",
       "      <td>2</td>\n",
       "      <td>...45.2..3.........8....4..7...94.3.9..5.2.76....</td>\n",
       "      <td>6974532183248617955819274637186945329435128762...</td>\n",
       "      <td>Diabolical-4</td>\n",
       "      <td>265</td>\n",
       "      <td>22</td>\n",
       "      <td>24</td>\n",
       "      <td>[0, 0, 0, 4, 5, 0, 2, 0, 0, 3, 0, 0, 0, 0, 0, ...</td>\n",
       "    </tr>\n",
       "    <tr>\n",
       "      <th>3</th>\n",
       "      <td>3</td>\n",
       "      <td>9......31.3...8.....5.7.9..3...4...8.916..54.4...</td>\n",
       "      <td>9274568316341982758153729643527496187916835424...</td>\n",
       "      <td>Tough-3</td>\n",
       "      <td>279</td>\n",
       "      <td>19</td>\n",
       "      <td>26</td>\n",
       "      <td>[9, 0, 0, 0, 0, 0, 0, 3, 1, 0, 3, 0, 0, 0, 8, ...</td>\n",
       "    </tr>\n",
       "    <tr>\n",
       "      <th>4</th>\n",
       "      <td>4</td>\n",
       "      <td>9.......2784.1.5.....4.....2.53.1.7...7...8......</td>\n",
       "      <td>9615387427846125395234796182953814761479568236...</td>\n",
       "      <td>Moderate-2</td>\n",
       "      <td>301</td>\n",
       "      <td>14</td>\n",
       "      <td>28</td>\n",
       "      <td>[9, 0, 0, 0, 0, 0, 0, 0, 2, 7, 8, 4, 0, 1, 0, ...</td>\n",
       "    </tr>\n",
       "  </tbody>\n",
       "</table>\n",
       "</div>"
      ],
      "text/plain": [
       "   Id                                             Sudoku  \\\n",
       "0   0  8...74...1.........7.5.9.4....65.4..73.....296...   \n",
       "1   1  .5.....7.9......6...21.75.8.4..69.3...8...4......   \n",
       "2   2  ...45.2..3.........8....4..7...94.3.9..5.2.76....   \n",
       "3   3  9......31.3...8.....5.7.9..3...4...8.916..54.4...   \n",
       "4   4  9.......2784.1.5.....4.....2.53.1.7...7...8......   \n",
       "\n",
       "                                            Solution         Level  People  \\\n",
       "0  8591742361648325973725698412916574837354186296...  Diabolical-4     254   \n",
       "1  8539461729175823644621375981458692376283754197...    Moderate-2     281   \n",
       "2  6974532183248617955819274637186945329435128762...  Diabolical-4     265   \n",
       "3  9274568316341982758153729643527496187916835424...       Tough-3     279   \n",
       "4  9615387427846125395234796182953814761479568236...    Moderate-2     301   \n",
       "\n",
       "   Average-Time  number_given  \\\n",
       "0            25            24   \n",
       "1            12            28   \n",
       "2            22            24   \n",
       "3            19            26   \n",
       "4            14            28   \n",
       "\n",
       "                                          new_Sudoku  \n",
       "0  [8, 0, 0, 0, 7, 4, 0, 0, 0, 1, 0, 0, 0, 0, 0, ...  \n",
       "1  [0, 5, 0, 0, 0, 0, 0, 7, 0, 9, 0, 0, 0, 0, 0, ...  \n",
       "2  [0, 0, 0, 4, 5, 0, 2, 0, 0, 3, 0, 0, 0, 0, 0, ...  \n",
       "3  [9, 0, 0, 0, 0, 0, 0, 3, 1, 0, 3, 0, 0, 0, 8, ...  \n",
       "4  [9, 0, 0, 0, 0, 0, 0, 0, 2, 7, 8, 4, 0, 1, 0, ...  "
      ]
     },
     "execution_count": 27,
     "metadata": {},
     "output_type": "execute_result"
    }
   ],
   "source": [
    "df.head()"
   ]
  },
  {
   "cell_type": "markdown",
   "metadata": {},
   "source": [
    "### PREDICT LEVEL"
   ]
  },
  {
   "cell_type": "code",
   "execution_count": 28,
   "metadata": {},
   "outputs": [],
   "source": [
    "from sklearn.model_selection import train_test_split"
   ]
  },
  {
   "cell_type": "code",
   "execution_count": 29,
   "metadata": {},
   "outputs": [],
   "source": [
    "y = df['Level']\n",
    "x = df['new_Sudoku']"
   ]
  },
  {
   "cell_type": "code",
   "execution_count": 30,
   "metadata": {},
   "outputs": [],
   "source": [
    "y = y.replace({'Gentle-1': '1', 'Moderate-2': '2', 'Tough-3': '3','Diabolical-4': '4'})\n"
   ]
  },
  {
   "cell_type": "code",
   "execution_count": 31,
   "metadata": {},
   "outputs": [
    {
     "data": {
      "text/plain": [
       "0    4\n",
       "1    2\n",
       "2    4\n",
       "3    3\n",
       "4    2\n",
       "Name: Level, dtype: object"
      ]
     },
     "execution_count": 31,
     "metadata": {},
     "output_type": "execute_result"
    }
   ],
   "source": [
    "y.head()"
   ]
  },
  {
   "cell_type": "code",
   "execution_count": 32,
   "metadata": {},
   "outputs": [
    {
     "data": {
      "text/plain": [
       "((4023,), (4023,), (1006,), (1006,))"
      ]
     },
     "execution_count": 32,
     "metadata": {},
     "output_type": "execute_result"
    }
   ],
   "source": [
    "X_train, X_test, y_train, y_test = train_test_split(x, y, test_size=0.2)\n",
    "X_train.shape, y_train.shape, X_test.shape, y_test.shape"
   ]
  },
  {
   "cell_type": "code",
   "execution_count": 33,
   "metadata": {},
   "outputs": [],
   "source": [
    "from sklearn.linear_model import LogisticRegression\n",
    "from sklearn.ensemble import RandomForestClassifier\n",
    "lr = LogisticRegression()\n",
    "rf = RandomForestClassifier(n_estimators=25,max_depth=10)"
   ]
  },
  {
   "cell_type": "code",
   "execution_count": 34,
   "metadata": {},
   "outputs": [
    {
     "data": {
      "text/plain": [
       "RandomForestClassifier(bootstrap=True, class_weight=None, criterion='gini',\n",
       "                       max_depth=10, max_features='auto', max_leaf_nodes=None,\n",
       "                       min_impurity_decrease=0.0, min_impurity_split=None,\n",
       "                       min_samples_leaf=1, min_samples_split=2,\n",
       "                       min_weight_fraction_leaf=0.0, n_estimators=25,\n",
       "                       n_jobs=None, oob_score=False, random_state=None,\n",
       "                       verbose=0, warm_start=False)"
      ]
     },
     "execution_count": 34,
     "metadata": {},
     "output_type": "execute_result"
    }
   ],
   "source": [
    "rf.fit(list(X_train),y_train)"
   ]
  },
  {
   "cell_type": "code",
   "execution_count": 35,
   "metadata": {},
   "outputs": [],
   "source": [
    "y_pred =rf.predict(list(X_test))"
   ]
  },
  {
   "cell_type": "code",
   "execution_count": 36,
   "metadata": {},
   "outputs": [
    {
     "data": {
      "text/plain": [
       "0.41749502982107356"
      ]
     },
     "execution_count": 36,
     "metadata": {},
     "output_type": "execute_result"
    }
   ],
   "source": [
    "from sklearn.metrics import accuracy_score\n",
    "accuracy_score(y_test,y_pred)"
   ]
  },
  {
   "cell_type": "code",
   "execution_count": null,
   "metadata": {},
   "outputs": [],
   "source": []
  },
  {
   "cell_type": "markdown",
   "metadata": {},
   "source": [
    "#### CNN"
   ]
  },
  {
   "cell_type": "code",
   "execution_count": 94,
   "metadata": {},
   "outputs": [],
   "source": [
    "def transform_matrix(element):\n",
    "  return np.reshape(element, (-1, 9))"
   ]
  },
  {
   "cell_type": "code",
   "execution_count": 164,
   "metadata": {},
   "outputs": [
    {
     "data": {
      "text/plain": [
       "(4023,)"
      ]
     },
     "execution_count": 164,
     "metadata": {},
     "output_type": "execute_result"
    }
   ],
   "source": [
    "X_train.shape"
   ]
  },
  {
   "cell_type": "code",
   "execution_count": 174,
   "metadata": {},
   "outputs": [],
   "source": [
    "X_train_new = []\n",
    "\n",
    "for i in X_train:\n",
    "    X_train_new.append(np.array(transform_matrix(i).astype(np.float)))\n"
   ]
  },
  {
   "cell_type": "code",
   "execution_count": 175,
   "metadata": {},
   "outputs": [
    {
     "data": {
      "text/plain": [
       "4023"
      ]
     },
     "execution_count": 175,
     "metadata": {},
     "output_type": "execute_result"
    }
   ],
   "source": [
    "len(X_train_new)"
   ]
  },
  {
   "cell_type": "code",
   "execution_count": 176,
   "metadata": {},
   "outputs": [
    {
     "data": {
      "text/plain": [
       "(9, 9)"
      ]
     },
     "execution_count": 176,
     "metadata": {},
     "output_type": "execute_result"
    }
   ],
   "source": [
    "X_train_new[0].shape\n"
   ]
  },
  {
   "cell_type": "code",
   "execution_count": 110,
   "metadata": {},
   "outputs": [
    {
     "data": {
      "text/plain": [
       "(3, 4)"
      ]
     },
     "execution_count": 110,
     "metadata": {},
     "output_type": "execute_result"
    }
   ],
   "source": [
    "# np.array(A).shape"
   ]
  },
  {
   "cell_type": "code",
   "execution_count": 116,
   "metadata": {},
   "outputs": [
    {
     "data": {
      "image/png": "[encoded data removed]",
      "text/plain": [
       "<Figure size 432x288 with 1 Axes>"
      ]
     },
     "metadata": {},
     "output_type": "display_data"
    }
   ],
   "source": [
    "plt.gray()\n",
    "plt.imshow(X_train_new[1])\n",
    "plt.show()"
   ]
  },
  {
   "cell_type": "code",
   "execution_count": 117,
   "metadata": {},
   "outputs": [
    {
     "data": {
      "text/plain": [
       "(4023,)"
      ]
     },
     "execution_count": 117,
     "metadata": {},
     "output_type": "execute_result"
    }
   ],
   "source": [
    "y_train.shape"
   ]
  },
  {
   "cell_type": "code",
   "execution_count": null,
   "metadata": {},
   "outputs": [],
   "source": [
    "X_train.shape,"
   ]
  },
  {
   "cell_type": "code",
   "execution_count": 100,
   "metadata": {},
   "outputs": [
    {
     "name": "stderr",
     "output_type": "stream",
     "text": [
      "Using TensorFlow backend.\n"
     ]
    }
   ],
   "source": [
    "# Create a model \n",
    "from keras.models import Sequential\n",
    "from keras.layers import Dense, Conv2D, Flatten\n"
   ]
  },
  {
   "cell_type": "code",
   "execution_count": 101,
   "metadata": {},
   "outputs": [
    {
     "name": "stdout",
     "output_type": "stream",
     "text": [
      "WARNING:tensorflow:From /home/ec2-user/anaconda3/envs/tensorflow_p36/lib/python3.6/site-packages/keras/backend/tensorflow_backend.py:74: The name tf.get_default_graph is deprecated. Please use tf.compat.v1.get_default_graph instead.\n",
      "\n",
      "WARNING:tensorflow:From /home/ec2-user/anaconda3/envs/tensorflow_p36/lib/python3.6/site-packages/keras/backend/tensorflow_backend.py:517: The name tf.placeholder is deprecated. Please use tf.compat.v1.placeholder instead.\n",
      "\n",
      "WARNING:tensorflow:From /home/ec2-user/anaconda3/envs/tensorflow_p36/lib/python3.6/site-packages/keras/backend/tensorflow_backend.py:4138: The name tf.random_uniform is deprecated. Please use tf.random.uniform instead.\n",
      "\n",
      "WARNING:tensorflow:From /home/ec2-user/anaconda3/envs/tensorflow_p36/lib/python3.6/site-packages/keras/optimizers.py:790: The name tf.train.Optimizer is deprecated. Please use tf.compat.v1.train.Optimizer instead.\n",
      "\n",
      "_________________________________________________________________\n",
      "Layer (type)                 Output Shape              Param #   \n",
      "=================================================================\n",
      "dense_1 (Dense)              (None, 9)                 90        \n",
      "_________________________________________________________________\n",
      "dense_2 (Dense)              (None, 6)                 60        \n",
      "_________________________________________________________________\n",
      "dense_3 (Dense)              (None, 3)                 21        \n",
      "_________________________________________________________________\n",
      "dense_4 (Dense)              (None, 1)                 4         \n",
      "=================================================================\n",
      "Total params: 175\n",
      "Trainable params: 175\n",
      "Non-trainable params: 0\n",
      "_________________________________________________________________\n"
     ]
    }
   ],
   "source": [
    "model = Sequential()\n",
    "# Input => Hidden\n",
    "model.add(Dense(9, input_dim=9, activation='relu'))\n",
    "# Hiddens\n",
    "model.add(Dense(6, activation='sigmoid'))\n",
    "model.add(Dense(3, activation='relu'))\n",
    "# Output\n",
    "model.add(Dense(1, activation='relu'))\n",
    "\n",
    "\n",
    "model.compile(loss='mse', optimizer='adam', metrics=['mse'])\n",
    "model.summary()\n",
    "# model.compile(loss='binary_crossentropy', optimizer='adam', metrics=['accuracy'])"
   ]
  },
  {
   "cell_type": "code",
   "execution_count": 37,
   "metadata": {},
   "outputs": [],
   "source": [
    "# model.fit(X_train.values,y_train.values, epochs=150)"
   ]
  },
  {
   "cell_type": "code",
   "execution_count": null,
   "metadata": {},
   "outputs": [],
   "source": []
  }
 ],
 "metadata": {
  "kernelspec": {
   "display_name": "conda_tensorflow_p36",
   "language": "python",
   "name": "conda_tensorflow_p36"
  },
  "language_info": {
   "codemirror_mode": {
    "name": "ipython",
    "version": 3
   },
   "file_extension": ".py",
   "mimetype": "text/x-python",
   "name": "python",
   "nbconvert_exporter": "python",
   "pygments_lexer": "ipython3",
   "version": "3.6.5"
  }
 },
 "nbformat": 4,
 "nbformat_minor": 4
}
