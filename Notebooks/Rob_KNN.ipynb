{
 "cells": [
  {
   "cell_type": "code",
   "execution_count": 1,
   "metadata": {},
   "outputs": [],
   "source": [
    "from sklearn import datasets, svm, metrics\n",
    "from sklearn.metrics import classification_report\n",
    "from sklearn.neighbors import KNeighborsClassifier\n",
    "from sklearn.model_selection import train_test_split\n",
    "import numpy as np\n",
    "import pickle\n",
    "from PIL import Image\n",
    "import cv2"
   ]
  },
  {
   "cell_type": "code",
   "execution_count": 18,
   "metadata": {},
   "outputs": [],
   "source": [
    "class KNN:\n",
    "    def __init__(self,k):\n",
    "        self.k = k\n",
    "        self.mnist = datasets.fetch_openml('mnist_784', data_home='mnist_dataset/')\n",
    "        nonzero_indexes = []\n",
    "        for i in range(len(self.mnist['target'])):\n",
    "            if int(self.mnist['target'][i]) > 0:\n",
    "                nonzero_indexes.append(i)\n",
    "            else:\n",
    "                pass\n",
    "        \n",
    "        self.digits = self.mnist['data'][nonzero_indexes]\n",
    "        self.target = self.mnist['target'][nonzero_indexes]\n",
    "        self.classifier = KNeighborsClassifier(n_neighbors=k)\n",
    "        \n",
    "        share_of_values = int(len(self.digits)//9)\n",
    "        blank_img = np.zeros((share_of_values,784))\n",
    "        test_dig = self.digits\n",
    "        test_dig = np.append(blank_img, test_dig)\n",
    "        test_dig = test_dig.reshape((len(self.digits)+share_of_values),784)\n",
    "        \n",
    "        blank_class = np.repeat(str(999),share_of_values)\n",
    "        class_targets = self.target\n",
    "        class_targets = np.append(blank_class,class_targets)\n",
    "        \n",
    "        self.digits = test_dig\n",
    "        self.target = class_targets\n",
    "        \n",
    "        \n",
    "    def mk_dataset(self, test_size=0.20):\n",
    "        X_Train, X_Test, y_train, y_test = train_test_split(self.digits, self.target, test_size=test_size, random_state=1337)\n",
    "        return np.array(X_Train), np.array(X_Test), np.array(y_train), np.array(y_test)\n",
    "    \n",
    "    def skl_knn(self):\n",
    "        X_Train, X_Test, y_train, y_test = KNN.mk_dataset(self)\n",
    "        self.classifier.fit(X_Train,y_train)\n",
    "        y_pred = self.classifier.predict(X_Test)\n",
    "        report = classification_report(y_test,y_pred)\n",
    "        filename = str(self.k)+\"_\"+'knn.sav'\n",
    "        pickle.dump(self.classifier, open(filename, 'wb'))\n",
    "        print(report)\n",
    "    \n",
    "    def load_knn (self,modelpath):\n",
    "        self.modelpath = modelpath\n",
    "        self.model = pickle.load(open(self.modelpath, 'rb'))\n",
    "    \n",
    "    def predict(self,imgpath):\n",
    "        img = Image.open( imgpath )\n",
    "        img.load()\n",
    "        data = np.asarray(img, dtype=\"int32\")\n",
    "        img_array = data.reshape(1,-1)\n",
    "        pred = self.model.predict(img_array)\n",
    "        return pred\n",
    "        "
   ]
  },
  {
   "cell_type": "code",
   "execution_count": null,
   "metadata": {},
   "outputs": [],
   "source": []
  },
  {
   "cell_type": "code",
   "execution_count": 85,
   "metadata": {},
   "outputs": [],
   "source": [
    "share_of_values = int(len(knn.digits)//9)\n",
    "blank_img = np.zeros((share_of_values,784))\n",
    "test_dig = knn.digits\n",
    "test_dig = np.append(blank_img, test_dig)\n",
    "test_dig = test_dig.reshape((len(knn.digits)+share_of_values-1),784)\n"
   ]
  },
  {
   "cell_type": "code",
   "execution_count": 96,
   "metadata": {},
   "outputs": [
    {
     "data": {
      "text/plain": [
       "(70107, 784)"
      ]
     },
     "execution_count": 96,
     "metadata": {},
     "output_type": "execute_result"
    }
   ],
   "source": [
    "test_dig.shape"
   ]
  },
  {
   "cell_type": "code",
   "execution_count": 93,
   "metadata": {},
   "outputs": [],
   "source": [
    "blank_class = np.repeat(999,share_of_values)\n",
    "class_targets = knn.target\n",
    "class_targets = np.append(blank_class,class_targets)"
   ]
  },
  {
   "cell_type": "code",
   "execution_count": 97,
   "metadata": {},
   "outputs": [
    {
     "data": {
      "text/plain": [
       "7010"
      ]
     },
     "execution_count": 97,
     "metadata": {},
     "output_type": "execute_result"
    }
   ],
   "source": [
    "share_of_values"
   ]
  },
  {
   "cell_type": "code",
   "execution_count": 9,
   "metadata": {},
   "outputs": [],
   "source": [
    "knn = KNN(3)"
   ]
  },
  {
   "cell_type": "code",
   "execution_count": 16,
   "metadata": {},
   "outputs": [],
   "source": [
    "def pre_process_image(img_array, skip_dilate=False):\n",
    "    \"\"\"Uses a blurring function, adaptive thresholding and dilation to expose the main features of an image.\"\"\"\n",
    "    \n",
    "    img_cv = cv2.resize(img_array,(28,28))\n",
    "    proc = cv2.GaussianBlur(img_cv.copy(), (1, 1), 0)\n",
    "    #cv2.imshow(\"output\",proc)\n",
    "    #cv2.waitKey(0)\n",
    "    #cv2.destroyAllWindows()\n",
    "\n",
    "    #proc = cv2.adaptiveThreshold(img_cv, 255, cv2.ADAPTIVE_THRESH_GAUSSIAN_C, cv2.THRESH_BINARY, 11, 2)\n",
    "    # Invert colours, so gridlines have non-zero pixel values.\n",
    "    # Necessary to dilate the image, otherwise will look like erosion instead.\n",
    "    #proc = cv2.bitwise_not(proc, proc)\n",
    "    \n",
    "    #cv2.imshow(\"output\",proc)\n",
    "    #cv2.waitKey(0)\n",
    "    #cv2.destroyAllWindows()\n",
    "    proc.flatten()\n",
    "    return proc"
   ]
  },
  {
   "cell_type": "code",
   "execution_count": 17,
   "metadata": {},
   "outputs": [],
   "source": [
    "testout = pre_process_image(test)"
   ]
  },
  {
   "cell_type": "code",
   "execution_count": 18,
   "metadata": {},
   "outputs": [
    {
     "data": {
      "text/plain": [
       "(784,)"
      ]
     },
     "execution_count": 18,
     "metadata": {},
     "output_type": "execute_result"
    }
   ],
   "source": [
    "testout.shape"
   ]
  },
  {
   "cell_type": "code",
   "execution_count": 21,
   "metadata": {},
   "outputs": [],
   "source": [
    "blankimg = "
   ]
  },
  {
   "cell_type": "code",
   "execution_count": 43,
   "metadata": {},
   "outputs": [
    {
     "data": {
      "text/plain": [
       "str"
      ]
     },
     "execution_count": 43,
     "metadata": {},
     "output_type": "execute_result"
    }
   ],
   "source": [
    "type(knn.target[0])"
   ]
  },
  {
   "cell_type": "code",
   "execution_count": 29,
   "metadata": {},
   "outputs": [
    {
     "data": {
      "text/plain": [
       "(784,)"
      ]
     },
     "execution_count": 29,
     "metadata": {},
     "output_type": "execute_result"
    }
   ],
   "source": [
    "blankimg.shape"
   ]
  },
  {
   "cell_type": "code",
   "execution_count": 4,
   "metadata": {},
   "outputs": [],
   "source": [
    "knn = KNN(3)"
   ]
  },
  {
   "cell_type": "code",
   "execution_count": 5,
   "metadata": {},
   "outputs": [],
   "source": [
    "test = knn.digits[0]"
   ]
  },
  {
   "cell_type": "code",
   "execution_count": 36,
   "metadata": {},
   "outputs": [
    {
     "data": {
      "text/plain": [
       "(63097, 784)"
      ]
     },
     "execution_count": 36,
     "metadata": {},
     "output_type": "execute_result"
    }
   ],
   "source": [
    "knn.digits.shape"
   ]
  },
  {
   "cell_type": "code",
   "execution_count": 40,
   "metadata": {},
   "outputs": [
    {
     "data": {
      "text/plain": [
       "(63097,)"
      ]
     },
     "execution_count": 40,
     "metadata": {},
     "output_type": "execute_result"
    }
   ],
   "source": [
    "knn.target.shape"
   ]
  },
  {
   "cell_type": "code",
   "execution_count": 41,
   "metadata": {},
   "outputs": [
    {
     "data": {
      "text/plain": [
       "'5'"
      ]
     },
     "execution_count": 41,
     "metadata": {},
     "output_type": "execute_result"
    }
   ],
   "source": []
  },
  {
   "cell_type": "code",
   "execution_count": 22,
   "metadata": {},
   "outputs": [
    {
     "data": {
      "image/png": "[encoded data removed]",
      "text/plain": [
       "<Figure size 432x288 with 1 Axes>"
      ]
     },
     "metadata": {
      "needs_background": "light"
     },
     "output_type": "display_data"
    }
   ],
   "source": [
    "from matplotlib import pyplot as plt\n",
    "test = blankimg.reshape(28,28)\n",
    "test = test.astype(np.uint8)\n",
    "plt.imshow(test)\n",
    "plt.show()"
   ]
  },
  {
   "cell_type": "code",
   "execution_count": null,
   "metadata": {},
   "outputs": [],
   "source": [
    "cv2.destroyAllWindows()"
   ]
  },
  {
   "cell_type": "code",
   "execution_count": 8,
   "metadata": {},
   "outputs": [
    {
     "data": {
      "text/plain": [
       "numpy.ndarray"
      ]
     },
     "execution_count": 8,
     "metadata": {},
     "output_type": "execute_result"
    }
   ],
   "source": [
    "type(test)"
   ]
  },
  {
   "cell_type": "code",
   "execution_count": 34,
   "metadata": {},
   "outputs": [
    {
     "ename": "AttributeError",
     "evalue": "'KNN' object has no attribute 'predict_proba'",
     "output_type": "error",
     "traceback": [
      "\u001b[0;31m---------------------------------------------------------------------------\u001b[0m",
      "\u001b[0;31mAttributeError\u001b[0m                            Traceback (most recent call last)",
      "\u001b[0;32m<ipython-input-34-1cb8501629dd>\u001b[0m in \u001b[0;36m<module>\u001b[0;34m\u001b[0m\n\u001b[0;32m----> 1\u001b[0;31m \u001b[0mknn\u001b[0m\u001b[0;34m.\u001b[0m\u001b[0mpredict_proba\u001b[0m\u001b[0;34m(\u001b[0m\u001b[0;34m'test_cell.png'\u001b[0m\u001b[0;34m)\u001b[0m\u001b[0;34m\u001b[0m\u001b[0;34m\u001b[0m\u001b[0m\n\u001b[0m",
      "\u001b[0;31mAttributeError\u001b[0m: 'KNN' object has no attribute 'predict_proba'"
     ]
    }
   ],
   "source": [
    "knn.predict('test_cell.png')"
   ]
  },
  {
   "cell_type": "code",
   "execution_count": 33,
   "metadata": {},
   "outputs": [
    {
     "data": {
      "text/plain": [
       "9013"
      ]
     },
     "execution_count": 33,
     "metadata": {},
     "output_type": "execute_result"
    }
   ],
   "source": [
    "len(knn.digits)//7"
   ]
  },
  {
   "cell_type": "code",
   "execution_count": 19,
   "metadata": {},
   "outputs": [
    {
     "name": "stdout",
     "output_type": "stream",
     "text": [
      "              precision    recall  f1-score   support\n",
      "\n",
      "           1       0.97      1.00      0.98      1567\n",
      "           2       0.98      0.98      0.98      1407\n",
      "           3       0.97      0.97      0.97      1402\n",
      "           4       0.98      0.97      0.97      1310\n",
      "           5       0.98      0.97      0.97      1258\n",
      "           6       0.98      0.99      0.99      1429\n",
      "           7       0.97      0.98      0.97      1481\n",
      "           8       0.99      0.94      0.97      1324\n",
      "           9       0.96      0.97      0.96      1429\n",
      "         999       1.00      1.00      1.00      1415\n",
      "\n",
      "    accuracy                           0.98     14022\n",
      "   macro avg       0.98      0.98      0.98     14022\n",
      "weighted avg       0.98      0.98      0.98     14022\n",
      "\n",
      "None\n"
     ]
    }
   ],
   "source": [
    "knn = KNN(3)\n",
    "report_3 = knn.skl_knn()\n",
    "print(report_3)"
   ]
  },
  {
   "cell_type": "code",
   "execution_count": 10,
   "metadata": {},
   "outputs": [
    {
     "name": "stdout",
     "output_type": "stream",
     "text": [
      "              precision    recall  f1-score   support\n",
      "\n",
      "           1       0.96      0.99      0.97      1575\n",
      "           2       0.98      0.97      0.97      1444\n",
      "           3       0.96      0.97      0.97      1439\n",
      "           4       0.97      0.98      0.98      1379\n",
      "           5       0.96      0.96      0.96      1304\n",
      "           6       0.99      0.99      0.99      1331\n",
      "           7       0.96      0.97      0.96      1453\n",
      "           8       0.99      0.93      0.96      1331\n",
      "           9       0.96      0.95      0.96      1364\n",
      "\n",
      "    accuracy                           0.97     12620\n",
      "   macro avg       0.97      0.97      0.97     12620\n",
      "weighted avg       0.97      0.97      0.97     12620\n",
      "\n",
      "None\n"
     ]
    }
   ],
   "source": [
    "knn = KNN(4)\n",
    "report_4 = knn.skl_knn()\n",
    "print(report_4)"
   ]
  },
  {
   "cell_type": "code",
   "execution_count": 11,
   "metadata": {},
   "outputs": [
    {
     "name": "stdout",
     "output_type": "stream",
     "text": [
      "              precision    recall  f1-score   support\n",
      "\n",
      "           1       0.96      0.99      0.98      1575\n",
      "           2       0.98      0.97      0.97      1444\n",
      "           3       0.97      0.97      0.97      1439\n",
      "           4       0.98      0.97      0.97      1379\n",
      "           5       0.96      0.97      0.96      1304\n",
      "           6       0.98      0.99      0.99      1331\n",
      "           7       0.96      0.97      0.97      1453\n",
      "           8       0.99      0.94      0.96      1331\n",
      "           9       0.95      0.96      0.96      1364\n",
      "\n",
      "    accuracy                           0.97     12620\n",
      "   macro avg       0.97      0.97      0.97     12620\n",
      "weighted avg       0.97      0.97      0.97     12620\n",
      "\n",
      "None\n"
     ]
    }
   ],
   "source": [
    "knn = KNN(5)\n",
    "report_5 = knn.skl_knn()\n",
    "print(report_5)"
   ]
  },
  {
   "cell_type": "code",
   "execution_count": 12,
   "metadata": {},
   "outputs": [
    {
     "name": "stdout",
     "output_type": "stream",
     "text": [
      "              precision    recall  f1-score   support\n",
      "\n",
      "           1       0.95      0.99      0.97      1575\n",
      "           2       0.98      0.96      0.97      1444\n",
      "           3       0.96      0.97      0.97      1439\n",
      "           4       0.98      0.97      0.98      1379\n",
      "           5       0.97      0.96      0.96      1304\n",
      "           6       0.99      0.99      0.99      1331\n",
      "           7       0.95      0.97      0.96      1453\n",
      "           8       0.99      0.93      0.96      1331\n",
      "           9       0.96      0.96      0.96      1364\n",
      "\n",
      "    accuracy                           0.97     12620\n",
      "   macro avg       0.97      0.97      0.97     12620\n",
      "weighted avg       0.97      0.97      0.97     12620\n",
      "\n",
      "None\n"
     ]
    }
   ],
   "source": [
    "knn = KNN(6)\n",
    "report_6 = knn.skl_knn()\n",
    "print(report_6)"
   ]
  },
  {
   "cell_type": "code",
   "execution_count": 100,
   "metadata": {},
   "outputs": [
    {
     "data": {
      "text/plain": [
       "array([[0., 0., 0., ..., 0., 0., 0.],\n",
       "       [0., 0., 0., ..., 0., 0., 0.],\n",
       "       [0., 0., 0., ..., 0., 0., 0.],\n",
       "       ...,\n",
       "       [0., 0., 0., ..., 0., 0., 0.],\n",
       "       [0., 0., 0., ..., 0., 0., 0.],\n",
       "       [0., 0., 0., ..., 0., 0., 0.]])"
      ]
     },
     "execution_count": 100,
     "metadata": {},
     "output_type": "execute_result"
    }
   ],
   "source": [
    "X_Train"
   ]
  },
  {
   "cell_type": "code",
   "execution_count": 40,
   "metadata": {},
   "outputs": [],
   "source": [
    "nonzero_indexes = []\n",
    "for i in range(len(KNN.mnist['target'])):\n",
    "    if int(KNN.mnist['target'][i]) > 0:\n",
    "        nonzero_indexes.append(i)\n",
    "    else:\n",
    "        pass"
   ]
  },
  {
   "cell_type": "code",
   "execution_count": 42,
   "metadata": {},
   "outputs": [
    {
     "data": {
      "text/plain": [
       "63097"
      ]
     },
     "execution_count": 42,
     "metadata": {},
     "output_type": "execute_result"
    }
   ],
   "source": [
    "nonzero_indexes"
   ]
  },
  {
   "cell_type": "code",
   "execution_count": 44,
   "metadata": {},
   "outputs": [
    {
     "data": {
      "text/plain": [
       "63097"
      ]
     },
     "execution_count": 44,
     "metadata": {},
     "output_type": "execute_result"
    }
   ],
   "source": [
    "KNN.mnist['data'][nonzero_indexes]"
   ]
  },
  {
   "cell_type": "code",
   "execution_count": 13,
   "metadata": {},
   "outputs": [
    {
     "ename": "ModuleNotFoundError",
     "evalue": "No module named 'tensorflow'",
     "output_type": "error",
     "traceback": [
      "\u001b[0;31m---------------------------------------------------------------------------\u001b[0m",
      "\u001b[0;31mModuleNotFoundError\u001b[0m                       Traceback (most recent call last)",
      "\u001b[0;32m<ipython-input-13-e3bfed4ed687>\u001b[0m in \u001b[0;36m<module>\u001b[0;34m\u001b[0m\n\u001b[0;32m----> 1\u001b[0;31m \u001b[0;32mfrom\u001b[0m \u001b[0mtensorflow\u001b[0m\u001b[0;34m.\u001b[0m\u001b[0mcontrib\u001b[0m\u001b[0;34m.\u001b[0m\u001b[0mmemory_stats\u001b[0m\u001b[0;34m.\u001b[0m\u001b[0mpython\u001b[0m\u001b[0;34m.\u001b[0m\u001b[0mops\u001b[0m\u001b[0;34m.\u001b[0m\u001b[0mmemory_stats_ops\u001b[0m \u001b[0;32mimport\u001b[0m \u001b[0mBytesInUse\u001b[0m\u001b[0;34m\u001b[0m\u001b[0;34m\u001b[0m\u001b[0m\n\u001b[0m\u001b[1;32m      2\u001b[0m \u001b[0;32mwith\u001b[0m \u001b[0mtf\u001b[0m\u001b[0;34m.\u001b[0m\u001b[0mdevice\u001b[0m\u001b[0;34m(\u001b[0m\u001b[0;34m'/device:GPU:0'\u001b[0m\u001b[0;34m)\u001b[0m\u001b[0;34m:\u001b[0m  \u001b[0;31m# Replace with device you are interested in\u001b[0m\u001b[0;34m\u001b[0m\u001b[0;34m\u001b[0m\u001b[0m\n\u001b[1;32m      3\u001b[0m   \u001b[0mbytes_in_use\u001b[0m \u001b[0;34m=\u001b[0m \u001b[0mBytesInUse\u001b[0m\u001b[0;34m(\u001b[0m\u001b[0;34m)\u001b[0m\u001b[0;34m\u001b[0m\u001b[0;34m\u001b[0m\u001b[0m\n\u001b[1;32m      4\u001b[0m \u001b[0;32mwith\u001b[0m \u001b[0mtf\u001b[0m\u001b[0;34m.\u001b[0m\u001b[0mSession\u001b[0m\u001b[0;34m(\u001b[0m\u001b[0;34m)\u001b[0m \u001b[0;32mas\u001b[0m \u001b[0msess\u001b[0m\u001b[0;34m:\u001b[0m\u001b[0;34m\u001b[0m\u001b[0;34m\u001b[0m\u001b[0m\n\u001b[1;32m      5\u001b[0m   \u001b[0mprint\u001b[0m\u001b[0;34m(\u001b[0m\u001b[0msess\u001b[0m\u001b[0;34m.\u001b[0m\u001b[0mrun\u001b[0m\u001b[0;34m(\u001b[0m\u001b[0mbytes_in_use\u001b[0m\u001b[0;34m)\u001b[0m\u001b[0;34m)\u001b[0m\u001b[0;34m\u001b[0m\u001b[0;34m\u001b[0m\u001b[0m\n",
      "\u001b[0;31mModuleNotFoundError\u001b[0m: No module named 'tensorflow'"
     ]
    }
   ],
   "source": []
  },
  {
   "cell_type": "code",
   "execution_count": null,
   "metadata": {},
   "outputs": [],
   "source": []
  },
  {
   "cell_type": "code",
   "execution_count": null,
   "metadata": {},
   "outputs": [],
   "source": []
  }
 ],
 "metadata": {
  "kernelspec": {
   "display_name": "Omega 2020",
   "language": "python",
   "name": "omega2020"
  },
  "language_info": {
   "codemirror_mode": {
    "name": "ipython",
    "version": 3
   },
   "file_extension": ".py",
   "mimetype": "text/x-python",
   "name": "python",
   "nbconvert_exporter": "python",
   "pygments_lexer": "ipython3",
   "version": "3.7.4"
  }
 },
 "nbformat": 4,
 "nbformat_minor": 4
}
