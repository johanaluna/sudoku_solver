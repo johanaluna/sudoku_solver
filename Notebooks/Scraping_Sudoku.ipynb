{
 "cells": [
  {
   "cell_type": "markdown",
   "metadata": {
    "colab_type": "text",
    "id": "umL15HBo5AUd"
   },
   "source": [
    "### Final version Scrapping Sudoku UK\n"
   ]
  },
  {
   "cell_type": "code",
   "execution_count": 12,
   "metadata": {
    "colab": {},
    "colab_type": "code",
    "id": "_QG2jmswOkHm"
   },
   "outputs": [],
   "source": [
    "from bs4 import BeautifulSoup\n",
    "import urllib3\n",
    "import requests \n",
    "import datetime\n",
    "import numpy as np\n",
    "import pandas as pd\n",
    "from urllib.request import urlopen \n",
    "from urllib.error import HTTPError \n",
    "from urllib.error import URLError\n",
    "from tqdm import tqdm"
   ]
  },
  {
   "cell_type": "markdown",
   "metadata": {
    "colab_type": "text",
    "id": "VApKMQxns-oj"
   },
   "source": [
    "## FUNCTIONS"
   ]
  },
  {
   "cell_type": "markdown",
   "metadata": {},
   "source": [
    "## Total_sudoku()\n",
    "Find the total Sudoku to scrape"
   ]
  },
  {
   "cell_type": "code",
   "execution_count": 3,
   "metadata": {},
   "outputs": [],
   "source": [
    "def total_sudoku():\n",
    "    r = requests.get(\"http://www.sudoku.org.uk/Daily.asp\")\n",
    "    soup = BeautifulSoup(r.content, 'html5lib')\n",
    "    return(soup.find('span', attrs={'class': 'newtitle'}\n",
    "                     ).get_text().split(\",\")[0].replace(\"#\", \"\"))\n"
   ]
  },
  {
   "cell_type": "markdown",
   "metadata": {
    "colab_type": "text",
    "id": "FmyZphEBtCow"
   },
   "source": [
    "## List_dates():\n",
    "\n",
    "To extract all the data we need to open each website that correspond an a diffrente day in which the solutions have been posted during the time and check if the website is workin or not and save the link in a list. "
   ]
  },
  {
   "cell_type": "code",
   "execution_count": 4,
   "metadata": {
    "colab": {},
    "colab_type": "code",
    "id": "O3YA5wgC4_zI"
   },
   "outputs": [],
   "source": [
    "def list_dates(total):\n",
    "  dates = []\n",
    "  dates_error = []\n",
    "  urls = []\n",
    "  for i in tqdm(range(2,total)):\n",
    "    d = datetime.date.today()- datetime.timedelta(days = i)\n",
    "    d_format = str(d.day)+'/'+str(d.month) +'/'+ str(d.year)\n",
    "    URL = \"http://www.sudoku.org.uk/DailySudoku.asp?solution=please&day=\"+d_format\n",
    "    try:\n",
    "      urlopen(URL)\n",
    "    except HTTPError as e:\n",
    "        pass\n",
    "#       dates_error.append(d_format)\n",
    "    except URLError as e:\n",
    "        pass\n",
    "#       dates_error.append(d_format)\n",
    "    else:\n",
    "#       dates.append(d_format)\n",
    "      urls.append(URL)\n",
    "  return urls\n"
   ]
  },
  {
   "cell_type": "markdown",
   "metadata": {
    "colab_type": "text",
    "id": "glu191x9tpmH"
   },
   "source": [
    "## Get_html()\n",
    "Using the list of the days we're going to open each URL and extract all the HTML code."
   ]
  },
  {
   "cell_type": "code",
   "execution_count": 5,
   "metadata": {
    "colab": {},
    "colab_type": "code",
    "id": "2FdF6AfD4-VX"
   },
   "outputs": [],
   "source": [
    "def get_html(url):\n",
    "  r = requests.get(url) \n",
    "  return BeautifulSoup(r.content,'html.parser')"
   ]
  },
  {
   "cell_type": "markdown",
   "metadata": {
    "colab_type": "text",
    "id": "ssT4VJMuuCjm"
   },
   "source": [
    "## Consolidate()\n",
    "extract all the sudokus and their solutions, the level of difficulty, number of people that solved the soduku and the average time in minutes."
   ]
  },
  {
   "cell_type": "code",
   "execution_count": 6,
   "metadata": {
    "colab": {},
    "colab_type": "code",
    "id": "yuwVP45yOoiz"
   },
   "outputs": [],
   "source": [
    "def consolidate(urls):\n",
    "    solution, sudoku, level, people,av_time, unit = ([] for i in range(6))\n",
    "\n",
    "    for url in tqdm(urls):\n",
    "        a, b = ([] for i in range(2))\n",
    "        soup = get_html(url)\n",
    "        for link in soup.find_all('td', attrs={'class': ['InnerTDone2','InnerTDone'] }):\n",
    "            if link.attrs['class'] == ['InnerTDone2']:\n",
    "              b.append(link.text)\n",
    "            else:\n",
    "              b.append('.')\n",
    "            a.append(link.text)\n",
    "            \n",
    "        sudoku.append(''.join(b))\n",
    "        solution.append(''.join(a))\n",
    "             \n",
    "        p = list(list(soup.table.td)[2])\n",
    "        level.append(str(p[1].get_text()).split(\", \")[1].split()[0])\n",
    "        people.append(str(p[3]).split()[0])\n",
    "        av_time.append(str(p[3]).split()[6])\n",
    "        unit.append(str(p[3]).split()[7])\n",
    "        \n",
    "    return  urls, level, people, av_time, unit, sudoku, solution "
   ]
  },
  {
   "cell_type": "markdown",
   "metadata": {
    "colab_type": "text",
    "id": "KvyA16N-GyEK"
   },
   "source": [
    "# Extract Data"
   ]
  },
  {
   "cell_type": "code",
   "execution_count": 7,
   "metadata": {
    "colab": {},
    "colab_type": "code",
    "id": "0_ubcNKjOrAo"
   },
   "outputs": [
    {
     "name": "stderr",
     "output_type": "stream",
     "text": [
      "100%|██████████| 5270/5270 [19:00<00:00,  4.62it/s]\n"
     ]
    }
   ],
   "source": [
    "## Extract list urls\n",
    "urls = list_dates(pd.to_numeric(total_sudoku()))"
   ]
  },
  {
   "cell_type": "markdown",
   "metadata": {},
   "source": [
    "#### However in the website says that they have 5270 puzzles (that means that the first post of a Sudoku was Feb 2006) but before March 7 of 2006 there are not registers about the players or the average time in the website, for this reason we're going to cut this urls."
   ]
  },
  {
   "cell_type": "code",
   "execution_count": 8,
   "metadata": {},
   "outputs": [],
   "source": [
    "## Select just the urls that have information that we need\n",
    "index = urls.index([x for x in urls if '=7/3/2006' in x][0])"
   ]
  },
  {
   "cell_type": "code",
   "execution_count": 9,
   "metadata": {},
   "outputs": [],
   "source": [
    "new_urls = urls[:index]"
   ]
  },
  {
   "cell_type": "code",
   "execution_count": 10,
   "metadata": {},
   "outputs": [
    {
     "name": "stderr",
     "output_type": "stream",
     "text": [
      "100%|██████████| 5029/5029 [19:06<00:00,  4.39it/s]  \n"
     ]
    }
   ],
   "source": [
    "## Extract data\n",
    "urls, level, people,av_time, unit, sudoku, solution = consolidate(new_urls)"
   ]
  },
  {
   "cell_type": "markdown",
   "metadata": {
    "colab_type": "text",
    "id": "gTxohNqsG1f8"
   },
   "source": [
    "# Create Dataframe"
   ]
  },
  {
   "cell_type": "code",
   "execution_count": 11,
   "metadata": {
    "colab": {},
    "colab_type": "code",
    "id": "ktdQd4jGxv-m"
   },
   "outputs": [],
   "source": [
    "df = pd.DataFrame(list(zip(urls, level, people,av_time, unit, sudoku, solution)), \n",
    "               columns =['URL', 'Level','People','Average-Time', 'Unit-Time', 'Sudoku', 'Solution']) "
   ]
  },
  {
   "cell_type": "code",
   "execution_count": 12,
   "metadata": {
    "colab": {
     "base_uri": "https://localhost:8080/",
     "height": 326
    },
    "colab_type": "code",
    "id": "B4MmhMSmzSv8",
    "outputId": "721dd156-3889-4590-b0db-671c0b32547c"
   },
   "outputs": [
    {
     "data": {
      "text/html": [
       "<div>\n",
       "<style scoped>\n",
       "    .dataframe tbody tr th:only-of-type {\n",
       "        vertical-align: middle;\n",
       "    }\n",
       "\n",
       "    .dataframe tbody tr th {\n",
       "        vertical-align: top;\n",
       "    }\n",
       "\n",
       "    .dataframe thead th {\n",
       "        text-align: right;\n",
       "    }\n",
       "</style>\n",
       "<table border=\"1\" class=\"dataframe\">\n",
       "  <thead>\n",
       "    <tr style=\"text-align: right;\">\n",
       "      <th></th>\n",
       "      <th>URL</th>\n",
       "      <th>Level</th>\n",
       "      <th>People</th>\n",
       "      <th>Average-Time</th>\n",
       "      <th>Unit-Time</th>\n",
       "      <th>Sudoku</th>\n",
       "      <th>Solution</th>\n",
       "    </tr>\n",
       "  </thead>\n",
       "  <tbody>\n",
       "    <tr>\n",
       "      <th>0</th>\n",
       "      <td>http://www.sudoku.org.uk/DailySudoku.asp?solut...</td>\n",
       "      <td>Diabolical</td>\n",
       "      <td>254</td>\n",
       "      <td>25</td>\n",
       "      <td>minutes</td>\n",
       "      <td>8...74...1.........7.5.9.4....65.4..73.....296...</td>\n",
       "      <td>8591742361648325973725698412916574837354186296...</td>\n",
       "    </tr>\n",
       "    <tr>\n",
       "      <th>1</th>\n",
       "      <td>http://www.sudoku.org.uk/DailySudoku.asp?solut...</td>\n",
       "      <td>Moderate</td>\n",
       "      <td>281</td>\n",
       "      <td>12</td>\n",
       "      <td>minutes</td>\n",
       "      <td>.5.....7.9......6...21.75.8.4..69.3...8...4......</td>\n",
       "      <td>8539461729175823644621375981458692376283754197...</td>\n",
       "    </tr>\n",
       "    <tr>\n",
       "      <th>2</th>\n",
       "      <td>http://www.sudoku.org.uk/DailySudoku.asp?solut...</td>\n",
       "      <td>Diabolical</td>\n",
       "      <td>265</td>\n",
       "      <td>22</td>\n",
       "      <td>minutes</td>\n",
       "      <td>...45.2..3.........8....4..7...94.3.9..5.2.76....</td>\n",
       "      <td>6974532183248617955819274637186945329435128762...</td>\n",
       "    </tr>\n",
       "    <tr>\n",
       "      <th>3</th>\n",
       "      <td>http://www.sudoku.org.uk/DailySudoku.asp?solut...</td>\n",
       "      <td>Tough</td>\n",
       "      <td>279</td>\n",
       "      <td>19</td>\n",
       "      <td>minutes</td>\n",
       "      <td>9......31.3...8.....5.7.9..3...4...8.916..54.4...</td>\n",
       "      <td>9274568316341982758153729643527496187916835424...</td>\n",
       "    </tr>\n",
       "    <tr>\n",
       "      <th>4</th>\n",
       "      <td>http://www.sudoku.org.uk/DailySudoku.asp?solut...</td>\n",
       "      <td>Moderate</td>\n",
       "      <td>301</td>\n",
       "      <td>14</td>\n",
       "      <td>minutes</td>\n",
       "      <td>9.......2784.1.5.....4.....2.53.1.7...7...8......</td>\n",
       "      <td>9615387427846125395234796182953814761479568236...</td>\n",
       "    </tr>\n",
       "  </tbody>\n",
       "</table>\n",
       "</div>"
      ],
      "text/plain": [
       "                                                 URL       Level People  \\\n",
       "0  http://www.sudoku.org.uk/DailySudoku.asp?solut...  Diabolical    254   \n",
       "1  http://www.sudoku.org.uk/DailySudoku.asp?solut...    Moderate    281   \n",
       "2  http://www.sudoku.org.uk/DailySudoku.asp?solut...  Diabolical    265   \n",
       "3  http://www.sudoku.org.uk/DailySudoku.asp?solut...       Tough    279   \n",
       "4  http://www.sudoku.org.uk/DailySudoku.asp?solut...    Moderate    301   \n",
       "\n",
       "  Average-Time Unit-Time                                             Sudoku  \\\n",
       "0           25   minutes  8...74...1.........7.5.9.4....65.4..73.....296...   \n",
       "1           12   minutes  .5.....7.9......6...21.75.8.4..69.3...8...4......   \n",
       "2           22   minutes  ...45.2..3.........8....4..7...94.3.9..5.2.76....   \n",
       "3           19   minutes  9......31.3...8.....5.7.9..3...4...8.916..54.4...   \n",
       "4           14   minutes  9.......2784.1.5.....4.....2.53.1.7...7...8......   \n",
       "\n",
       "                                            Solution  \n",
       "0  8591742361648325973725698412916574837354186296...  \n",
       "1  8539461729175823644621375981458692376283754197...  \n",
       "2  6974532183248617955819274637186945329435128762...  \n",
       "3  9274568316341982758153729643527496187916835424...  \n",
       "4  9615387427846125395234796182953814761479568236...  "
      ]
     },
     "execution_count": 12,
     "metadata": {},
     "output_type": "execute_result"
    }
   ],
   "source": [
    "df.head()"
   ]
  },
  {
   "cell_type": "code",
   "execution_count": 13,
   "metadata": {},
   "outputs": [
    {
     "data": {
      "text/plain": [
       "(5029, 7)"
      ]
     },
     "execution_count": 13,
     "metadata": {},
     "output_type": "execute_result"
    }
   ],
   "source": [
    "df.shape"
   ]
  },
  {
   "cell_type": "markdown",
   "metadata": {},
   "source": [
    "## Create Index\n"
   ]
  },
  {
   "cell_type": "code",
   "execution_count": 14,
   "metadata": {},
   "outputs": [],
   "source": [
    "df['Id'] = df.index"
   ]
  },
  {
   "cell_type": "code",
   "execution_count": 15,
   "metadata": {},
   "outputs": [
    {
     "data": {
      "text/html": [
       "<div>\n",
       "<style scoped>\n",
       "    .dataframe tbody tr th:only-of-type {\n",
       "        vertical-align: middle;\n",
       "    }\n",
       "\n",
       "    .dataframe tbody tr th {\n",
       "        vertical-align: top;\n",
       "    }\n",
       "\n",
       "    .dataframe thead th {\n",
       "        text-align: right;\n",
       "    }\n",
       "</style>\n",
       "<table border=\"1\" class=\"dataframe\">\n",
       "  <thead>\n",
       "    <tr style=\"text-align: right;\">\n",
       "      <th></th>\n",
       "      <th>URL</th>\n",
       "      <th>Level</th>\n",
       "      <th>People</th>\n",
       "      <th>Average-Time</th>\n",
       "      <th>Unit-Time</th>\n",
       "      <th>Sudoku</th>\n",
       "      <th>Solution</th>\n",
       "      <th>Id</th>\n",
       "    </tr>\n",
       "  </thead>\n",
       "  <tbody>\n",
       "    <tr>\n",
       "      <th>0</th>\n",
       "      <td>http://www.sudoku.org.uk/DailySudoku.asp?solut...</td>\n",
       "      <td>Diabolical</td>\n",
       "      <td>254</td>\n",
       "      <td>25</td>\n",
       "      <td>minutes</td>\n",
       "      <td>8...74...1.........7.5.9.4....65.4..73.....296...</td>\n",
       "      <td>8591742361648325973725698412916574837354186296...</td>\n",
       "      <td>0</td>\n",
       "    </tr>\n",
       "    <tr>\n",
       "      <th>1</th>\n",
       "      <td>http://www.sudoku.org.uk/DailySudoku.asp?solut...</td>\n",
       "      <td>Moderate</td>\n",
       "      <td>281</td>\n",
       "      <td>12</td>\n",
       "      <td>minutes</td>\n",
       "      <td>.5.....7.9......6...21.75.8.4..69.3...8...4......</td>\n",
       "      <td>8539461729175823644621375981458692376283754197...</td>\n",
       "      <td>1</td>\n",
       "    </tr>\n",
       "    <tr>\n",
       "      <th>2</th>\n",
       "      <td>http://www.sudoku.org.uk/DailySudoku.asp?solut...</td>\n",
       "      <td>Diabolical</td>\n",
       "      <td>265</td>\n",
       "      <td>22</td>\n",
       "      <td>minutes</td>\n",
       "      <td>...45.2..3.........8....4..7...94.3.9..5.2.76....</td>\n",
       "      <td>6974532183248617955819274637186945329435128762...</td>\n",
       "      <td>2</td>\n",
       "    </tr>\n",
       "    <tr>\n",
       "      <th>3</th>\n",
       "      <td>http://www.sudoku.org.uk/DailySudoku.asp?solut...</td>\n",
       "      <td>Tough</td>\n",
       "      <td>279</td>\n",
       "      <td>19</td>\n",
       "      <td>minutes</td>\n",
       "      <td>9......31.3...8.....5.7.9..3...4...8.916..54.4...</td>\n",
       "      <td>9274568316341982758153729643527496187916835424...</td>\n",
       "      <td>3</td>\n",
       "    </tr>\n",
       "    <tr>\n",
       "      <th>4</th>\n",
       "      <td>http://www.sudoku.org.uk/DailySudoku.asp?solut...</td>\n",
       "      <td>Moderate</td>\n",
       "      <td>301</td>\n",
       "      <td>14</td>\n",
       "      <td>minutes</td>\n",
       "      <td>9.......2784.1.5.....4.....2.53.1.7...7...8......</td>\n",
       "      <td>9615387427846125395234796182953814761479568236...</td>\n",
       "      <td>4</td>\n",
       "    </tr>\n",
       "  </tbody>\n",
       "</table>\n",
       "</div>"
      ],
      "text/plain": [
       "                                                 URL       Level People  \\\n",
       "0  http://www.sudoku.org.uk/DailySudoku.asp?solut...  Diabolical    254   \n",
       "1  http://www.sudoku.org.uk/DailySudoku.asp?solut...    Moderate    281   \n",
       "2  http://www.sudoku.org.uk/DailySudoku.asp?solut...  Diabolical    265   \n",
       "3  http://www.sudoku.org.uk/DailySudoku.asp?solut...       Tough    279   \n",
       "4  http://www.sudoku.org.uk/DailySudoku.asp?solut...    Moderate    301   \n",
       "\n",
       "  Average-Time Unit-Time                                             Sudoku  \\\n",
       "0           25   minutes  8...74...1.........7.5.9.4....65.4..73.....296...   \n",
       "1           12   minutes  .5.....7.9......6...21.75.8.4..69.3...8...4......   \n",
       "2           22   minutes  ...45.2..3.........8....4..7...94.3.9..5.2.76....   \n",
       "3           19   minutes  9......31.3...8.....5.7.9..3...4...8.916..54.4...   \n",
       "4           14   minutes  9.......2784.1.5.....4.....2.53.1.7...7...8......   \n",
       "\n",
       "                                            Solution  Id  \n",
       "0  8591742361648325973725698412916574837354186296...   0  \n",
       "1  8539461729175823644621375981458692376283754197...   1  \n",
       "2  6974532183248617955819274637186945329435128762...   2  \n",
       "3  9274568316341982758153729643527496187916835424...   3  \n",
       "4  9615387427846125395234796182953814761479568236...   4  "
      ]
     },
     "execution_count": 15,
     "metadata": {},
     "output_type": "execute_result"
    }
   ],
   "source": [
    "df.head()"
   ]
  },
  {
   "cell_type": "code",
   "execution_count": 16,
   "metadata": {},
   "outputs": [],
   "source": [
    "df = df[['Id', 'Level', 'Sudoku','Solution', 'People', 'Average-Time','Unit-Time','URL']]"
   ]
  },
  {
   "cell_type": "markdown",
   "metadata": {
    "colab_type": "text",
    "id": "R18LaoxTG4zH"
   },
   "source": [
    "# Function to visualize Sudoku"
   ]
  },
  {
   "cell_type": "code",
   "execution_count": 17,
   "metadata": {
    "colab": {},
    "colab_type": "code",
    "id": "DVss-SVUu_qU"
   },
   "outputs": [],
   "source": [
    "def split(element): \n",
    "    return [char for char in element]  \n",
    "\n",
    "def transform_matrix(element):\n",
    "  return np.reshape(split(element), (-1, 9))"
   ]
  },
  {
   "cell_type": "code",
   "execution_count": 18,
   "metadata": {
    "colab": {
     "base_uri": "https://localhost:8080/",
     "height": 170
    },
    "colab_type": "code",
    "id": "D38eCqXJOrJ1",
    "outputId": "96bb6d53-bedf-4881-b175-3354bd93a06a"
   },
   "outputs": [
    {
     "data": {
      "text/plain": [
       "array([['9', '6', '1', '5', '3', '8', '7', '4', '2'],\n",
       "       ['7', '8', '4', '6', '1', '2', '5', '3', '9'],\n",
       "       ['5', '2', '3', '4', '7', '9', '6', '1', '8'],\n",
       "       ['2', '9', '5', '3', '8', '1', '4', '7', '6'],\n",
       "       ['1', '4', '7', '9', '5', '6', '8', '2', '3'],\n",
       "       ['6', '3', '8', '2', '4', '7', '9', '5', '1'],\n",
       "       ['4', '5', '6', '1', '9', '3', '2', '8', '7'],\n",
       "       ['3', '7', '2', '8', '6', '4', '1', '9', '5'],\n",
       "       ['8', '1', '9', '7', '2', '5', '3', '6', '4']], dtype='<U1')"
      ]
     },
     "execution_count": 18,
     "metadata": {},
     "output_type": "execute_result"
    }
   ],
   "source": [
    "transform_matrix(df.Solution[4])"
   ]
  },
  {
   "cell_type": "code",
   "execution_count": 19,
   "metadata": {
    "colab": {
     "base_uri": "https://localhost:8080/",
     "height": 170
    },
    "colab_type": "code",
    "id": "L4MusQFO_tbJ",
    "outputId": "54ffb853-4a58-4950-dc13-b235199b333c"
   },
   "outputs": [
    {
     "data": {
      "text/plain": [
       "array([['9', '.', '.', '.', '.', '.', '.', '.', '2'],\n",
       "       ['7', '8', '4', '.', '1', '.', '5', '.', '.'],\n",
       "       ['.', '.', '.', '4', '.', '.', '.', '.', '.'],\n",
       "       ['2', '.', '5', '3', '.', '1', '.', '7', '.'],\n",
       "       ['.', '.', '7', '.', '.', '.', '8', '.', '.'],\n",
       "       ['.', '3', '.', '2', '.', '7', '9', '.', '1'],\n",
       "       ['.', '.', '.', '.', '.', '3', '.', '.', '.'],\n",
       "       ['.', '.', '2', '.', '6', '.', '1', '9', '5'],\n",
       "       ['8', '.', '.', '.', '.', '.', '.', '.', '4']], dtype='<U1')"
      ]
     },
     "execution_count": 19,
     "metadata": {},
     "output_type": "execute_result"
    }
   ],
   "source": [
    "transform_matrix(df.Sudoku[4])"
   ]
  },
  {
   "cell_type": "markdown",
   "metadata": {
    "colab_type": "text",
    "id": "so9CjnefG9EH"
   },
   "source": [
    "# Export Data Frame"
   ]
  },
  {
   "cell_type": "code",
   "execution_count": 21,
   "metadata": {
    "colab": {},
    "colab_type": "code",
    "id": "4XgPA2gD_wpx"
   },
   "outputs": [],
   "source": [
    "df.to_csv('data/data.csv')"
   ]
  },
  {
   "cell_type": "code",
   "execution_count": 9,
   "metadata": {},
   "outputs": [],
   "source": [
    "df = pd.read_csv('data/data.csv')"
   ]
  },
  {
   "cell_type": "markdown",
   "metadata": {},
   "source": [
    "## Create the Dataframe to use with the structure of the Database"
   ]
  },
  {
   "cell_type": "code",
   "execution_count": 10,
   "metadata": {},
   "outputs": [],
   "source": [
    "df = df[['Id','Sudoku','Solution','Level','People','Average-Time']]"
   ]
  },
  {
   "cell_type": "code",
   "execution_count": 11,
   "metadata": {},
   "outputs": [],
   "source": [
    "df.to_csv('data/dataset.csv')"
   ]
  },
  {
   "cell_type": "code",
   "execution_count": null,
   "metadata": {},
   "outputs": [],
   "source": []
  }
 ],
 "metadata": {
  "colab": {
   "name": "Final_Scraping_UK.ipynb",
   "provenance": [],
   "toc_visible": true
  },
  "kernelspec": {
   "display_name": "conda_python3",
   "language": "python",
   "name": "conda_python3"
  },
  "language_info": {
   "codemirror_mode": {
    "name": "ipython",
    "version": 3
   },
   "file_extension": ".py",
   "mimetype": "text/x-python",
   "name": "python",
   "nbconvert_exporter": "python",
   "pygments_lexer": "ipython3",
   "version": "3.6.5"
  }
 },
 "nbformat": 4,
 "nbformat_minor": 4
}
