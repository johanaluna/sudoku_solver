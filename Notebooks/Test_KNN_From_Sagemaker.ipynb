{
 "cells": [
  {
   "cell_type": "code",
   "execution_count": 40,
   "metadata": {},
   "outputs": [],
   "source": [
    "import pandas as pd\n",
    "from PIL import Image\n",
    "import requests\n",
    "from io import BytesIO\n",
    "import numpy as np\n",
    "import cv2"
   ]
  },
  {
   "cell_type": "code",
   "execution_count": 2,
   "metadata": {},
   "outputs": [],
   "source": [
    "df = pd.read_csv('final_df.csv')"
   ]
  },
  {
   "cell_type": "code",
   "execution_count": 99,
   "metadata": {},
   "outputs": [
    {
     "data": {
      "text/html": [
       "<div>\n",
       "<style scoped>\n",
       "    .dataframe tbody tr th:only-of-type {\n",
       "        vertical-align: middle;\n",
       "    }\n",
       "\n",
       "    .dataframe tbody tr th {\n",
       "        vertical-align: top;\n",
       "    }\n",
       "\n",
       "    .dataframe thead th {\n",
       "        text-align: right;\n",
       "    }\n",
       "</style>\n",
       "<table border=\"1\" class=\"dataframe\">\n",
       "  <thead>\n",
       "    <tr style=\"text-align: right;\">\n",
       "      <th></th>\n",
       "      <th>link</th>\n",
       "      <th>class</th>\n",
       "    </tr>\n",
       "  </thead>\n",
       "  <tbody>\n",
       "    <tr>\n",
       "      <th>0</th>\n",
       "      <td>https://omega2020.s3.amazonaws.com/raw_data_gr...</td>\n",
       "      <td>6</td>\n",
       "    </tr>\n",
       "    <tr>\n",
       "      <th>1</th>\n",
       "      <td>https://omega2020.s3.amazonaws.com/raw_data_gr...</td>\n",
       "      <td>9</td>\n",
       "    </tr>\n",
       "    <tr>\n",
       "      <th>2</th>\n",
       "      <td>https://omega2020.s3.amazonaws.com/raw_data_gr...</td>\n",
       "      <td>1</td>\n",
       "    </tr>\n",
       "    <tr>\n",
       "      <th>3</th>\n",
       "      <td>https://omega2020.s3.amazonaws.com/raw_data_gr...</td>\n",
       "      <td>4</td>\n",
       "    </tr>\n",
       "    <tr>\n",
       "      <th>4</th>\n",
       "      <td>https://omega2020.s3.amazonaws.com/raw_data_gr...</td>\n",
       "      <td>8</td>\n",
       "    </tr>\n",
       "  </tbody>\n",
       "</table>\n",
       "</div>"
      ],
      "text/plain": [
       "                                                link class\n",
       "0  https://omega2020.s3.amazonaws.com/raw_data_gr...     6\n",
       "1  https://omega2020.s3.amazonaws.com/raw_data_gr...     9\n",
       "2  https://omega2020.s3.amazonaws.com/raw_data_gr...     1\n",
       "3  https://omega2020.s3.amazonaws.com/raw_data_gr...     4\n",
       "4  https://omega2020.s3.amazonaws.com/raw_data_gr...     8"
      ]
     },
     "execution_count": 99,
     "metadata": {},
     "output_type": "execute_result"
    }
   ],
   "source": [
    "df.head()"
   ]
  },
  {
   "cell_type": "code",
   "execution_count": 27,
   "metadata": {},
   "outputs": [],
   "source": [
    "urls = []\n",
    "for link in df['link']:\n",
    "    link = link.replace('s3://omega2020','https://omega2020.s3.amazonaws.com')\n",
    "    urls.append(link)"
   ]
  },
  {
   "cell_type": "code",
   "execution_count": 29,
   "metadata": {},
   "outputs": [],
   "source": [
    "df['link'] = urls"
   ]
  },
  {
   "cell_type": "code",
   "execution_count": 67,
   "metadata": {},
   "outputs": [],
   "source": [
    "pic_arrays = np.zeros((784,))\n",
    "for link in df['link']:\n",
    "    response = requests.get(link)\n",
    "    img = Image.open(BytesIO(response.content))\n",
    "    pix = np.array(img)\n",
    "    gray = cv2.cvtColor(pix, cv2.COLOR_BGR2GRAY)\n",
    "    gray = gray.flatten()\n",
    "    pic_arrays = np.concatenate((pic_arrays, gray), axis=0)\n",
    "pixels = pic_arrays.shape[0]\n",
    "pic_arrays = pic_arrays.reshape(int((pixels/784)),784)\n",
    "pic_arrays = np.delete(pic_arrays, 0, axis=0)"
   ]
  },
  {
   "cell_type": "code",
   "execution_count": 106,
   "metadata": {},
   "outputs": [],
   "source": [
    "class_array = df['class'].values"
   ]
  },
  {
   "cell_type": "code",
   "execution_count": 108,
   "metadata": {},
   "outputs": [],
   "source": [
    "np.save('sagemaker_class_array.npy', class_array,allow_pickle=True)\n",
    "np.save('sagemaker_pic_array.npy', pic_arrays,allow_pickle=True)"
   ]
  },
  {
   "cell_type": "code",
   "execution_count": null,
   "metadata": {},
   "outputs": [],
   "source": []
  }
 ],
 "metadata": {
  "kernelspec": {
   "display_name": "Omega 2020",
   "language": "python",
   "name": "omega2020"
  },
  "language_info": {
   "codemirror_mode": {
    "name": "ipython",
    "version": 3
   },
   "file_extension": ".py",
   "mimetype": "text/x-python",
   "name": "python",
   "nbconvert_exporter": "python",
   "pygments_lexer": "ipython3",
   "version": "3.7.4"
  }
 },
 "nbformat": 4,
 "nbformat_minor": 4
}
