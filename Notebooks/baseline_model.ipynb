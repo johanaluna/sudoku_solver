{
 "cells": [
  {
   "cell_type": "code",
   "execution_count": 2,
   "metadata": {
    "colab": {},
    "colab_type": "code",
    "id": "Kyxq3J-zGlzY"
   },
   "outputs": [],
   "source": [
    "import torch\n",
    "import torch.nn as nn\n",
    "import torchvision\n",
    "import torch.nn.functional as F\n",
    "import torch.optim as optim\n",
    "from torch.utils.data import DataLoader\n",
    "from torchvision import datasets, transforms\n",
    "from torchvision.utils import make_grid\n",
    "import cv2\n",
    "import numpy as np\n",
    "import pandas as pd\n",
    "from sklearn.metrics import confusion_matrix\n",
    "import matplotlib.pyplot as plt\n",
    "%matplotlib inline"
   ]
  },
  {
   "cell_type": "code",
   "execution_count": 3,
   "metadata": {
    "colab": {
     "base_uri": "https://localhost:8080/",
     "height": 34
    },
    "colab_type": "code",
    "id": "RxzsdacXGlze",
    "outputId": "52872e33-70a7-4774-9fef-d112368ccd7b"
   },
   "outputs": [
    {
     "data": {
      "text/plain": [
       "<torch._C.Generator at 0x7fd8bb3a35b0>"
      ]
     },
     "execution_count": 3,
     "metadata": {},
     "output_type": "execute_result"
    }
   ],
   "source": [
    "n_epochs = 40\n",
    "batch_size_train = 64\n",
    "batch_size_test = 1000\n",
    "learning_rate = 0.01\n",
    "momentum = 0.5\n",
    "log_interval = 10\n",
    "\n",
    "random_seed = 42\n",
    "torch.backends.cudnn.enabled = True\n",
    "torch.manual_seed(random_seed)"
   ]
  },
  {
   "cell_type": "code",
   "execution_count": 4,
   "metadata": {
    "colab": {
     "base_uri": "https://localhost:8080/",
     "height": 255
    },
    "colab_type": "code",
    "id": "FWUzyDuaGlzi",
    "outputId": "f60b6e9d-7752-4a82-8dd7-6485523a985c"
   },
   "outputs": [],
   "source": [
    "train_loader = torch.utils.data.DataLoader(\n",
    "    torchvision.datasets.MNIST('./mnist_files/', train=True, download=True,\n",
    "                               transform=torchvision.transforms.Compose([\n",
    "                                    torchvision.transforms.ToTensor(),\n",
    "                                    torchvision.transforms.Normalize(\n",
    "                                        (0.1307,), (0.3081,))\n",
    "                                ])),\n",
    "    batch_size=batch_size_train, shuffle=True)\n",
    "    \n",
    "test_loader = torch.utils.data.DataLoader(\n",
    "    torchvision.datasets.MNIST('./mnist_files/', train=False, download=True,\n",
    "                               transform=torchvision.transforms.Compose([\n",
    "                                    torchvision.transforms.ToTensor(),\n",
    "                                    torchvision.transforms.Normalize(\n",
    "                                        (0.1307,), (0.3081,)) # global meaen and Sd for the MNIST dataset\n",
    "                                ])),\n",
    "    batch_size=batch_size_train, shuffle=True)"
   ]
  },
  {
   "cell_type": "code",
   "execution_count": 75,
   "metadata": {
    "colab": {},
    "colab_type": "code",
    "id": "E0YfoWKnGlzk"
   },
   "outputs": [],
   "source": [
    "# let's look at an example\n",
    "ex = enumerate(test_loader)\n",
    "\n",
    "batch_idx, (example_data, example_targets) = next(ex)"
   ]
  },
  {
   "cell_type": "code",
   "execution_count": 6,
   "metadata": {
    "colab": {
     "base_uri": "https://localhost:8080/",
     "height": 34
    },
    "colab_type": "code",
    "id": "5Z4ucRqRGlzo",
    "outputId": "6011ac45-386d-4844-87b6-7e9ae3e34420"
   },
   "outputs": [
    {
     "data": {
      "text/plain": [
       "tensor(0.0085)"
      ]
     },
     "execution_count": 6,
     "metadata": {},
     "output_type": "execute_result"
    }
   ],
   "source": [
    "example_data[0].mean()"
   ]
  },
  {
   "cell_type": "code",
   "execution_count": 7,
   "metadata": {
    "colab": {
     "base_uri": "https://localhost:8080/",
     "height": 34
    },
    "colab_type": "code",
    "id": "K00x5aBpGlzq",
    "outputId": "c6709e97-2bea-4409-c30a-cf81eec1b4fb"
   },
   "outputs": [
    {
     "data": {
      "text/plain": [
       "torch.Size([64, 1, 28, 28])"
      ]
     },
     "execution_count": 7,
     "metadata": {},
     "output_type": "execute_result"
    }
   ],
   "source": [
    "example_data.shape"
   ]
  },
  {
   "cell_type": "code",
   "execution_count": 8,
   "metadata": {
    "colab": {
     "base_uri": "https://localhost:8080/",
     "height": 284
    },
    "colab_type": "code",
    "id": "4YRMjDEMGlzs",
    "outputId": "70e90262-9353-4518-a253-0fbe28e87211"
   },
   "outputs": [
    {
     "data": {
      "image/png": "[encoded data removed]",
      "text/plain": [
       "<Figure size 432x288 with 6 Axes>"
      ]
     },
     "metadata": {},
     "output_type": "display_data"
    }
   ],
   "source": [
    "# let's plot some\n",
    "\n",
    "fig = plt.figure()\n",
    "for i in range(6):\n",
    "    plt.subplot(2,3,i+1)\n",
    "    plt.tight_layout()\n",
    "    plt.imshow(example_data[i][0], cmap='gray', interpolation='none')\n",
    "    plt.title(\"Ground truth: {}\".format(example_targets[i]))\n",
    "    plt.xticks([])\n",
    "    plt.yticks([])\n",
    "    \n",
    "#fig"
   ]
  },
  {
   "cell_type": "code",
   "execution_count": 76,
   "metadata": {
    "colab": {},
    "colab_type": "code",
    "id": "ygjbmcz8Glzu"
   },
   "outputs": [],
   "source": [
    "# Build the model\n",
    "\n",
    "class Net(nn.Module):\n",
    "    def __init__(self):\n",
    "        super(Net, self).__init__()\n",
    "        self.conv1 = nn.Conv2d(1, 10, kernel_size=5)\n",
    "        self.conv2 = nn.Conv2d(10, 20, kernel_size=5)\n",
    "        self.conv2_drop = nn.Dropout2d()\n",
    "        self.fc1 = nn.Linear(320, 50)\n",
    "        self.fc2 = nn.Linear(50, 10)\n",
    "    \n",
    "    def forward(self, x):\n",
    "        x = F.relu(F.max_pool2d(self.conv1(x), 2))\n",
    "        x = F.relu(F.max_pool2d(self.conv2_drop(self.conv2(x)), 2))\n",
    "        x = x.view(-1, 320)\n",
    "        x = F.relu(self.fc1(x))\n",
    "        x = F.dropout(x, training=self.training)\n",
    "        x = self.fc2(x)\n",
    "        return F.log_softmax(x)"
   ]
  },
  {
   "cell_type": "code",
   "execution_count": 77,
   "metadata": {
    "colab": {},
    "colab_type": "code",
    "id": "cJx5u5z3Glzv"
   },
   "outputs": [],
   "source": [
    "network = Net()\n",
    "optimizer = optim.SGD(network.parameters(), lr=learning_rate,\n",
    "                      momentum=momentum)"
   ]
  },
  {
   "cell_type": "code",
   "execution_count": 78,
   "metadata": {
    "colab": {},
    "colab_type": "code",
    "id": "Cz2dINPOGlzx"
   },
   "outputs": [],
   "source": [
    "train_losses = []\n",
    "train_counter = []\n",
    "test_losses = []\n",
    "test_counter = [i+len(train_loader.dataset) for i in range(n_epochs+1)]"
   ]
  },
  {
   "cell_type": "code",
   "execution_count": 79,
   "metadata": {
    "colab": {},
    "colab_type": "code",
    "id": "WKwfv4WwGlzz"
   },
   "outputs": [],
   "source": [
    "def train(epoch):\n",
    "    network.train()\n",
    "    for batch_idx, (data, target) in enumerate(train_loader):\n",
    "        optimizer.zero_grad()\n",
    "        output = network(data)\n",
    "        loss = F.nll_loss(output, target)\n",
    "        loss.backward()\n",
    "        optimizer.step()\n",
    "        if batch_idx % log_interval ==0:\n",
    "            print('Train Epoch: {} [{}/{} ({:.0f}%)]\\tLoss: {:.6f}'.format(\n",
    "                epoch, batch_idx * len(data), len(train_loader.dataset),\n",
    "                100. * batch_idx / len(train_loader), loss.item()))\n",
    "            train_losses.append(loss.item())\n",
    "            train_counter.append(\n",
    "                (batch_idx*64) + ((epoch-1)*len(train_loader.dataset)))\n",
    "            torch.save(network.state_dict(), './model.pth')\n",
    "            torch.save(optimizer.state_dict(), './optimizer.pth')"
   ]
  },
  {
   "cell_type": "code",
   "execution_count": 80,
   "metadata": {
    "colab": {},
    "colab_type": "code",
    "id": "i-G9o9QEGlz0"
   },
   "outputs": [],
   "source": [
    "def test():\n",
    "    network.eval()\n",
    "    test_loss = 0\n",
    "    correct = 0\n",
    "    with torch.no_grad():\n",
    "        for data, target in test_loader:\n",
    "            output = network(data)\n",
    "            test_loss += F.nll_loss(output, target, size_average=False).item()\n",
    "            pred = output.data.max(1, keepdim=True)[1]\n",
    "            correct += pred.eq(target.data.view_as(pred)).sum()\n",
    "        test_loss /= len(test_loader.dataset)\n",
    "        test_losses.append(test_loss)\n",
    "        \n",
    "        print('\\nTest set: Avg. loss: {:.4f}, Accuracy: {}/{} ({:.0f}%)\\n'.format(\n",
    "        test_loss, correct, len(test_loader.dataset),\n",
    "        100. * correct /len(test_loader.dataset)))"
   ]
  },
  {
   "cell_type": "code",
   "execution_count": 81,
   "metadata": {
    "colab": {
     "base_uri": "https://localhost:8080/",
     "height": 1000
    },
    "colab_type": "code",
    "id": "7JxHmxxQGlz2",
    "outputId": "299ddf7e-9999-4e4d-d085-eb64621e3537"
   },
   "outputs": [
    {
     "name": "stderr",
     "output_type": "stream",
     "text": [
      "/home/rob/anaconda3/envs/omega2020/lib/python3.7/site-packages/ipykernel_launcher.py:19: UserWarning: Implicit dimension choice for log_softmax has been deprecated. Change the call to include dim=X as an argument.\n"
     ]
    },
    {
     "name": "stdout",
     "output_type": "stream",
     "text": [
      "\n",
      "Test set: Avg. loss: 2.3078, Accuracy: 722/10000 (7%)\n",
      "\n",
      "Train Epoch: 1 [0/60000 (0%)]\tLoss: 2.319053\n",
      "Train Epoch: 1 [640/60000 (1%)]\tLoss: 2.315167\n",
      "Train Epoch: 1 [1280/60000 (2%)]\tLoss: 2.293813\n",
      "Train Epoch: 1 [1920/60000 (3%)]\tLoss: 2.272953\n",
      "Train Epoch: 1 [2560/60000 (4%)]\tLoss: 2.256619\n",
      "Train Epoch: 1 [3200/60000 (5%)]\tLoss: 2.269554\n",
      "Train Epoch: 1 [3840/60000 (6%)]\tLoss: 2.276610\n",
      "Train Epoch: 1 [4480/60000 (7%)]\tLoss: 2.241360\n",
      "Train Epoch: 1 [5120/60000 (9%)]\tLoss: 2.224388\n",
      "Train Epoch: 1 [5760/60000 (10%)]\tLoss: 2.212374\n",
      "Train Epoch: 1 [6400/60000 (11%)]\tLoss: 2.171557\n",
      "Train Epoch: 1 [7040/60000 (12%)]\tLoss: 2.120941\n",
      "Train Epoch: 1 [7680/60000 (13%)]\tLoss: 1.983746\n",
      "Train Epoch: 1 [8320/60000 (14%)]\tLoss: 2.005808\n",
      "Train Epoch: 1 [8960/60000 (15%)]\tLoss: 1.810069\n",
      "Train Epoch: 1 [9600/60000 (16%)]\tLoss: 1.791375\n",
      "Train Epoch: 1 [10240/60000 (17%)]\tLoss: 1.658796\n",
      "Train Epoch: 1 [10880/60000 (18%)]\tLoss: 1.689213\n",
      "Train Epoch: 1 [11520/60000 (19%)]\tLoss: 1.404018\n",
      "Train Epoch: 1 [12160/60000 (20%)]\tLoss: 1.325053\n",
      "Train Epoch: 1 [12800/60000 (21%)]\tLoss: 1.297954\n",
      "Train Epoch: 1 [13440/60000 (22%)]\tLoss: 1.026020\n",
      "Train Epoch: 1 [14080/60000 (23%)]\tLoss: 1.111688\n",
      "Train Epoch: 1 [14720/60000 (25%)]\tLoss: 1.009942\n",
      "Train Epoch: 1 [15360/60000 (26%)]\tLoss: 0.968467\n",
      "Train Epoch: 1 [16000/60000 (27%)]\tLoss: 0.947015\n",
      "Train Epoch: 1 [16640/60000 (28%)]\tLoss: 1.011310\n",
      "Train Epoch: 1 [17280/60000 (29%)]\tLoss: 0.972696\n",
      "Train Epoch: 1 [17920/60000 (30%)]\tLoss: 0.732213\n",
      "Train Epoch: 1 [18560/60000 (31%)]\tLoss: 0.858888\n",
      "Train Epoch: 1 [19200/60000 (32%)]\tLoss: 0.898531\n",
      "Train Epoch: 1 [19840/60000 (33%)]\tLoss: 0.811980\n",
      "Train Epoch: 1 [20480/60000 (34%)]\tLoss: 0.685136\n",
      "Train Epoch: 1 [21120/60000 (35%)]\tLoss: 0.784996\n",
      "Train Epoch: 1 [21760/60000 (36%)]\tLoss: 0.706199\n",
      "Train Epoch: 1 [22400/60000 (37%)]\tLoss: 0.923760\n",
      "Train Epoch: 1 [23040/60000 (38%)]\tLoss: 1.006942\n",
      "Train Epoch: 1 [23680/60000 (39%)]\tLoss: 0.653436\n",
      "Train Epoch: 1 [24320/60000 (41%)]\tLoss: 0.822345\n",
      "Train Epoch: 1 [24960/60000 (42%)]\tLoss: 0.538373\n",
      "Train Epoch: 1 [25600/60000 (43%)]\tLoss: 0.742238\n",
      "Train Epoch: 1 [26240/60000 (44%)]\tLoss: 0.637430\n",
      "Train Epoch: 1 [26880/60000 (45%)]\tLoss: 0.655574\n",
      "Train Epoch: 1 [27520/60000 (46%)]\tLoss: 0.805866\n",
      "Train Epoch: 1 [28160/60000 (47%)]\tLoss: 0.813978\n",
      "Train Epoch: 1 [28800/60000 (48%)]\tLoss: 0.579437\n",
      "Train Epoch: 1 [29440/60000 (49%)]\tLoss: 0.599719\n",
      "Train Epoch: 1 [30080/60000 (50%)]\tLoss: 0.450105\n",
      "Train Epoch: 1 [30720/60000 (51%)]\tLoss: 0.587200\n",
      "Train Epoch: 1 [31360/60000 (52%)]\tLoss: 0.542032\n",
      "Train Epoch: 1 [32000/60000 (53%)]\tLoss: 0.708977\n",
      "Train Epoch: 1 [32640/60000 (54%)]\tLoss: 0.422837\n",
      "Train Epoch: 1 [33280/60000 (55%)]\tLoss: 0.492940\n",
      "Train Epoch: 1 [33920/60000 (57%)]\tLoss: 0.481341\n",
      "Train Epoch: 1 [34560/60000 (58%)]\tLoss: 0.400888\n",
      "Train Epoch: 1 [35200/60000 (59%)]\tLoss: 0.551768\n",
      "Train Epoch: 1 [35840/60000 (60%)]\tLoss: 0.655519\n",
      "Train Epoch: 1 [36480/60000 (61%)]\tLoss: 0.509361\n",
      "Train Epoch: 1 [37120/60000 (62%)]\tLoss: 0.362918\n",
      "Train Epoch: 1 [37760/60000 (63%)]\tLoss: 0.351225\n",
      "Train Epoch: 1 [38400/60000 (64%)]\tLoss: 0.306403\n",
      "Train Epoch: 1 [39040/60000 (65%)]\tLoss: 0.464873\n",
      "Train Epoch: 1 [39680/60000 (66%)]\tLoss: 0.582115\n",
      "Train Epoch: 1 [40320/60000 (67%)]\tLoss: 0.383214\n",
      "Train Epoch: 1 [40960/60000 (68%)]\tLoss: 0.534414\n",
      "Train Epoch: 1 [41600/60000 (69%)]\tLoss: 0.459042\n",
      "Train Epoch: 1 [42240/60000 (70%)]\tLoss: 0.590549\n",
      "Train Epoch: 1 [42880/60000 (71%)]\tLoss: 0.531392\n",
      "Train Epoch: 1 [43520/60000 (72%)]\tLoss: 0.462466\n",
      "Train Epoch: 1 [44160/60000 (74%)]\tLoss: 0.346939\n",
      "Train Epoch: 1 [44800/60000 (75%)]\tLoss: 0.490288\n",
      "Train Epoch: 1 [45440/60000 (76%)]\tLoss: 0.517609\n",
      "Train Epoch: 1 [46080/60000 (77%)]\tLoss: 0.634360\n",
      "Train Epoch: 1 [46720/60000 (78%)]\tLoss: 0.475369\n",
      "Train Epoch: 1 [47360/60000 (79%)]\tLoss: 0.456928\n",
      "Train Epoch: 1 [48000/60000 (80%)]\tLoss: 0.751040\n",
      "Train Epoch: 1 [48640/60000 (81%)]\tLoss: 0.516495\n",
      "Train Epoch: 1 [49280/60000 (82%)]\tLoss: 0.327660\n",
      "Train Epoch: 1 [49920/60000 (83%)]\tLoss: 0.709997\n",
      "Train Epoch: 1 [50560/60000 (84%)]\tLoss: 0.313293\n",
      "Train Epoch: 1 [51200/60000 (85%)]\tLoss: 0.440057\n",
      "Train Epoch: 1 [51840/60000 (86%)]\tLoss: 0.293591\n",
      "Train Epoch: 1 [52480/60000 (87%)]\tLoss: 0.463800\n",
      "Train Epoch: 1 [53120/60000 (88%)]\tLoss: 0.454916\n",
      "Train Epoch: 1 [53760/60000 (90%)]\tLoss: 0.544286\n",
      "Train Epoch: 1 [54400/60000 (91%)]\tLoss: 0.445578\n",
      "Train Epoch: 1 [55040/60000 (92%)]\tLoss: 0.335190\n",
      "Train Epoch: 1 [55680/60000 (93%)]\tLoss: 0.622521\n",
      "Train Epoch: 1 [56320/60000 (94%)]\tLoss: 0.733685\n",
      "Train Epoch: 1 [56960/60000 (95%)]\tLoss: 0.606473\n",
      "Train Epoch: 1 [57600/60000 (96%)]\tLoss: 0.328443\n",
      "Train Epoch: 1 [58240/60000 (97%)]\tLoss: 0.393159\n",
      "Train Epoch: 1 [58880/60000 (98%)]\tLoss: 0.468976\n",
      "Train Epoch: 1 [59520/60000 (99%)]\tLoss: 0.329781\n",
      "\n",
      "Test set: Avg. loss: 0.1660, Accuracy: 9498/10000 (95%)\n",
      "\n",
      "Train Epoch: 2 [0/60000 (0%)]\tLoss: 0.547773\n",
      "Train Epoch: 2 [640/60000 (1%)]\tLoss: 0.435572\n",
      "Train Epoch: 2 [1280/60000 (2%)]\tLoss: 0.399996\n",
      "Train Epoch: 2 [1920/60000 (3%)]\tLoss: 0.328182\n",
      "Train Epoch: 2 [2560/60000 (4%)]\tLoss: 0.285507\n",
      "Train Epoch: 2 [3200/60000 (5%)]\tLoss: 0.375971\n",
      "Train Epoch: 2 [3840/60000 (6%)]\tLoss: 0.479343\n",
      "Train Epoch: 2 [4480/60000 (7%)]\tLoss: 0.299464\n",
      "Train Epoch: 2 [5120/60000 (9%)]\tLoss: 0.209430\n",
      "Train Epoch: 2 [5760/60000 (10%)]\tLoss: 0.545426\n",
      "Train Epoch: 2 [6400/60000 (11%)]\tLoss: 0.594554\n",
      "Train Epoch: 2 [7040/60000 (12%)]\tLoss: 0.253555\n",
      "Train Epoch: 2 [7680/60000 (13%)]\tLoss: 0.283638\n",
      "Train Epoch: 2 [8320/60000 (14%)]\tLoss: 0.417921\n",
      "Train Epoch: 2 [8960/60000 (15%)]\tLoss: 0.580307\n",
      "Train Epoch: 2 [9600/60000 (16%)]\tLoss: 0.223157\n",
      "Train Epoch: 2 [10240/60000 (17%)]\tLoss: 0.355068\n",
      "Train Epoch: 2 [10880/60000 (18%)]\tLoss: 0.204054\n",
      "Train Epoch: 2 [11520/60000 (19%)]\tLoss: 0.409622\n",
      "Train Epoch: 2 [12160/60000 (20%)]\tLoss: 0.336590\n",
      "Train Epoch: 2 [12800/60000 (21%)]\tLoss: 0.428478\n",
      "Train Epoch: 2 [13440/60000 (22%)]\tLoss: 0.371349\n",
      "Train Epoch: 2 [14080/60000 (23%)]\tLoss: 0.482981\n",
      "Train Epoch: 2 [14720/60000 (25%)]\tLoss: 0.417920\n",
      "Train Epoch: 2 [15360/60000 (26%)]\tLoss: 0.494296\n",
      "Train Epoch: 2 [16000/60000 (27%)]\tLoss: 0.339580\n",
      "Train Epoch: 2 [16640/60000 (28%)]\tLoss: 0.538793\n",
      "Train Epoch: 2 [17280/60000 (29%)]\tLoss: 0.435675\n",
      "Train Epoch: 2 [17920/60000 (30%)]\tLoss: 0.584662\n",
      "Train Epoch: 2 [18560/60000 (31%)]\tLoss: 0.311426\n",
      "Train Epoch: 2 [19200/60000 (32%)]\tLoss: 0.429922\n",
      "Train Epoch: 2 [19840/60000 (33%)]\tLoss: 0.188550\n",
      "Train Epoch: 2 [20480/60000 (34%)]\tLoss: 0.559110\n",
      "Train Epoch: 2 [21120/60000 (35%)]\tLoss: 0.352961\n",
      "Train Epoch: 2 [21760/60000 (36%)]\tLoss: 0.237351\n",
      "Train Epoch: 2 [22400/60000 (37%)]\tLoss: 0.385477\n",
      "Train Epoch: 2 [23040/60000 (38%)]\tLoss: 0.339909\n",
      "Train Epoch: 2 [23680/60000 (39%)]\tLoss: 0.321106\n",
      "Train Epoch: 2 [24320/60000 (41%)]\tLoss: 0.447112\n",
      "Train Epoch: 2 [24960/60000 (42%)]\tLoss: 0.276824\n",
      "Train Epoch: 2 [25600/60000 (43%)]\tLoss: 0.400305\n",
      "Train Epoch: 2 [26240/60000 (44%)]\tLoss: 0.283838\n",
      "Train Epoch: 2 [26880/60000 (45%)]\tLoss: 0.421285\n",
      "Train Epoch: 2 [27520/60000 (46%)]\tLoss: 0.324826\n",
      "Train Epoch: 2 [28160/60000 (47%)]\tLoss: 0.267254\n",
      "Train Epoch: 2 [28800/60000 (48%)]\tLoss: 0.659342\n",
      "Train Epoch: 2 [29440/60000 (49%)]\tLoss: 0.357966\n",
      "Train Epoch: 2 [30080/60000 (50%)]\tLoss: 0.382688\n",
      "Train Epoch: 2 [30720/60000 (51%)]\tLoss: 0.361535\n",
      "Train Epoch: 2 [31360/60000 (52%)]\tLoss: 0.294540\n",
      "Train Epoch: 2 [32000/60000 (53%)]\tLoss: 0.308032\n",
      "Train Epoch: 2 [32640/60000 (54%)]\tLoss: 0.420802\n",
      "Train Epoch: 2 [33280/60000 (55%)]\tLoss: 0.287987\n",
      "Train Epoch: 2 [33920/60000 (57%)]\tLoss: 0.412365\n",
      "Train Epoch: 2 [34560/60000 (58%)]\tLoss: 0.359088\n",
      "Train Epoch: 2 [35200/60000 (59%)]\tLoss: 0.324871\n",
      "Train Epoch: 2 [35840/60000 (60%)]\tLoss: 0.232206\n",
      "Train Epoch: 2 [36480/60000 (61%)]\tLoss: 0.425680\n",
      "Train Epoch: 2 [37120/60000 (62%)]\tLoss: 0.295770\n",
      "Train Epoch: 2 [37760/60000 (63%)]\tLoss: 0.295343\n",
      "Train Epoch: 2 [38400/60000 (64%)]\tLoss: 0.224161\n",
      "Train Epoch: 2 [39040/60000 (65%)]\tLoss: 0.223357\n",
      "Train Epoch: 2 [39680/60000 (66%)]\tLoss: 0.494155\n",
      "Train Epoch: 2 [40320/60000 (67%)]\tLoss: 0.301962\n",
      "Train Epoch: 2 [40960/60000 (68%)]\tLoss: 0.293615\n",
      "Train Epoch: 2 [41600/60000 (69%)]\tLoss: 0.498990\n",
      "Train Epoch: 2 [42240/60000 (70%)]\tLoss: 0.255185\n",
      "Train Epoch: 2 [42880/60000 (71%)]\tLoss: 0.310597\n",
      "Train Epoch: 2 [43520/60000 (72%)]\tLoss: 0.088559\n",
      "Train Epoch: 2 [44160/60000 (74%)]\tLoss: 0.343677\n",
      "Train Epoch: 2 [44800/60000 (75%)]\tLoss: 0.579690\n",
      "Train Epoch: 2 [45440/60000 (76%)]\tLoss: 0.266729\n",
      "Train Epoch: 2 [46080/60000 (77%)]\tLoss: 0.284152\n",
      "Train Epoch: 2 [46720/60000 (78%)]\tLoss: 0.238491\n",
      "Train Epoch: 2 [47360/60000 (79%)]\tLoss: 0.205941\n",
      "Train Epoch: 2 [48000/60000 (80%)]\tLoss: 0.326163\n",
      "Train Epoch: 2 [48640/60000 (81%)]\tLoss: 0.351695\n",
      "Train Epoch: 2 [49280/60000 (82%)]\tLoss: 0.189637\n",
      "Train Epoch: 2 [49920/60000 (83%)]\tLoss: 0.451933\n",
      "Train Epoch: 2 [50560/60000 (84%)]\tLoss: 0.442168\n",
      "Train Epoch: 2 [51200/60000 (85%)]\tLoss: 0.258028\n",
      "Train Epoch: 2 [51840/60000 (86%)]\tLoss: 0.215111\n",
      "Train Epoch: 2 [52480/60000 (87%)]\tLoss: 0.298857\n",
      "Train Epoch: 2 [53120/60000 (88%)]\tLoss: 0.344934\n",
      "Train Epoch: 2 [53760/60000 (90%)]\tLoss: 0.375723\n",
      "Train Epoch: 2 [54400/60000 (91%)]\tLoss: 0.240021\n",
      "Train Epoch: 2 [55040/60000 (92%)]\tLoss: 0.357094\n",
      "Train Epoch: 2 [55680/60000 (93%)]\tLoss: 0.601491\n",
      "Train Epoch: 2 [56320/60000 (94%)]\tLoss: 0.121156\n",
      "Train Epoch: 2 [56960/60000 (95%)]\tLoss: 0.382739\n",
      "Train Epoch: 2 [57600/60000 (96%)]\tLoss: 0.311527\n",
      "Train Epoch: 2 [58240/60000 (97%)]\tLoss: 0.439542\n",
      "Train Epoch: 2 [58880/60000 (98%)]\tLoss: 0.338605\n",
      "Train Epoch: 2 [59520/60000 (99%)]\tLoss: 0.559548\n",
      "\n",
      "Test set: Avg. loss: 0.1072, Accuracy: 9665/10000 (97%)\n",
      "\n",
      "Train Epoch: 3 [0/60000 (0%)]\tLoss: 0.305211\n",
      "Train Epoch: 3 [640/60000 (1%)]\tLoss: 0.316036\n",
      "Train Epoch: 3 [1280/60000 (2%)]\tLoss: 0.186634\n",
      "Train Epoch: 3 [1920/60000 (3%)]\tLoss: 0.472387\n",
      "Train Epoch: 3 [2560/60000 (4%)]\tLoss: 0.339263\n",
      "Train Epoch: 3 [3200/60000 (5%)]\tLoss: 0.513156\n",
      "Train Epoch: 3 [3840/60000 (6%)]\tLoss: 0.247860\n",
      "Train Epoch: 3 [4480/60000 (7%)]\tLoss: 0.368691\n",
      "Train Epoch: 3 [5120/60000 (9%)]\tLoss: 0.160520\n",
      "Train Epoch: 3 [5760/60000 (10%)]\tLoss: 0.283542\n",
      "Train Epoch: 3 [6400/60000 (11%)]\tLoss: 0.220619\n",
      "Train Epoch: 3 [7040/60000 (12%)]\tLoss: 0.466017\n",
      "Train Epoch: 3 [7680/60000 (13%)]\tLoss: 0.299140\n",
      "Train Epoch: 3 [8320/60000 (14%)]\tLoss: 0.444142\n",
      "Train Epoch: 3 [8960/60000 (15%)]\tLoss: 0.370531\n",
      "Train Epoch: 3 [9600/60000 (16%)]\tLoss: 0.259877\n",
      "Train Epoch: 3 [10240/60000 (17%)]\tLoss: 0.212787\n",
      "Train Epoch: 3 [10880/60000 (18%)]\tLoss: 0.305067\n",
      "Train Epoch: 3 [11520/60000 (19%)]\tLoss: 0.424540\n",
      "Train Epoch: 3 [12160/60000 (20%)]\tLoss: 0.129527\n",
      "Train Epoch: 3 [12800/60000 (21%)]\tLoss: 0.322474\n",
      "Train Epoch: 3 [13440/60000 (22%)]\tLoss: 0.193391\n",
      "Train Epoch: 3 [14080/60000 (23%)]\tLoss: 0.233823\n",
      "Train Epoch: 3 [14720/60000 (25%)]\tLoss: 0.266896\n",
      "Train Epoch: 3 [15360/60000 (26%)]\tLoss: 0.141286\n",
      "Train Epoch: 3 [16000/60000 (27%)]\tLoss: 0.258100\n",
      "Train Epoch: 3 [16640/60000 (28%)]\tLoss: 0.199996\n",
      "Train Epoch: 3 [17280/60000 (29%)]\tLoss: 0.090397\n",
      "Train Epoch: 3 [17920/60000 (30%)]\tLoss: 0.310555\n",
      "Train Epoch: 3 [18560/60000 (31%)]\tLoss: 0.298560\n",
      "Train Epoch: 3 [19200/60000 (32%)]\tLoss: 0.266643\n",
      "Train Epoch: 3 [19840/60000 (33%)]\tLoss: 0.185822\n",
      "Train Epoch: 3 [20480/60000 (34%)]\tLoss: 0.241306\n",
      "Train Epoch: 3 [21120/60000 (35%)]\tLoss: 0.301236\n",
      "Train Epoch: 3 [21760/60000 (36%)]\tLoss: 0.318451\n",
      "Train Epoch: 3 [22400/60000 (37%)]\tLoss: 0.435878\n",
      "Train Epoch: 3 [23040/60000 (38%)]\tLoss: 0.365233\n",
      "Train Epoch: 3 [23680/60000 (39%)]\tLoss: 0.234708\n",
      "Train Epoch: 3 [24320/60000 (41%)]\tLoss: 0.235382\n",
      "Train Epoch: 3 [24960/60000 (42%)]\tLoss: 0.368651\n",
      "Train Epoch: 3 [25600/60000 (43%)]\tLoss: 0.363311\n",
      "Train Epoch: 3 [26240/60000 (44%)]\tLoss: 0.155476\n",
      "Train Epoch: 3 [26880/60000 (45%)]\tLoss: 0.147719\n",
      "Train Epoch: 3 [27520/60000 (46%)]\tLoss: 0.179201\n",
      "Train Epoch: 3 [28160/60000 (47%)]\tLoss: 0.225847\n",
      "Train Epoch: 3 [28800/60000 (48%)]\tLoss: 0.274357\n",
      "Train Epoch: 3 [29440/60000 (49%)]\tLoss: 0.138410\n",
      "Train Epoch: 3 [30080/60000 (50%)]\tLoss: 0.265811\n",
      "Train Epoch: 3 [30720/60000 (51%)]\tLoss: 0.222262\n",
      "Train Epoch: 3 [31360/60000 (52%)]\tLoss: 0.345579\n",
      "Train Epoch: 3 [32000/60000 (53%)]\tLoss: 0.237742\n",
      "Train Epoch: 3 [32640/60000 (54%)]\tLoss: 0.312629\n",
      "Train Epoch: 3 [33280/60000 (55%)]\tLoss: 0.455599\n",
      "Train Epoch: 3 [33920/60000 (57%)]\tLoss: 0.266353\n",
      "Train Epoch: 3 [34560/60000 (58%)]\tLoss: 0.236568\n",
      "Train Epoch: 3 [35200/60000 (59%)]\tLoss: 0.312803\n",
      "Train Epoch: 3 [35840/60000 (60%)]\tLoss: 0.276817\n",
      "Train Epoch: 3 [36480/60000 (61%)]\tLoss: 0.174490\n",
      "Train Epoch: 3 [37120/60000 (62%)]\tLoss: 0.234040\n",
      "Train Epoch: 3 [37760/60000 (63%)]\tLoss: 0.219865\n",
      "Train Epoch: 3 [38400/60000 (64%)]\tLoss: 0.290195\n",
      "Train Epoch: 3 [39040/60000 (65%)]\tLoss: 0.219966\n",
      "Train Epoch: 3 [39680/60000 (66%)]\tLoss: 0.140788\n",
      "Train Epoch: 3 [40320/60000 (67%)]\tLoss: 0.386810\n",
      "Train Epoch: 3 [40960/60000 (68%)]\tLoss: 0.178704\n",
      "Train Epoch: 3 [41600/60000 (69%)]\tLoss: 0.204905\n",
      "Train Epoch: 3 [42240/60000 (70%)]\tLoss: 0.269496\n",
      "Train Epoch: 3 [42880/60000 (71%)]\tLoss: 0.294515\n",
      "Train Epoch: 3 [43520/60000 (72%)]\tLoss: 0.254944\n",
      "Train Epoch: 3 [44160/60000 (74%)]\tLoss: 0.305535\n",
      "Train Epoch: 3 [44800/60000 (75%)]\tLoss: 0.164465\n",
      "Train Epoch: 3 [45440/60000 (76%)]\tLoss: 0.241988\n",
      "Train Epoch: 3 [46080/60000 (77%)]\tLoss: 0.256570\n",
      "Train Epoch: 3 [46720/60000 (78%)]\tLoss: 0.127816\n",
      "Train Epoch: 3 [47360/60000 (79%)]\tLoss: 0.424815\n",
      "Train Epoch: 3 [48000/60000 (80%)]\tLoss: 0.199873\n",
      "Train Epoch: 3 [48640/60000 (81%)]\tLoss: 0.215628\n",
      "Train Epoch: 3 [49280/60000 (82%)]\tLoss: 0.219442\n",
      "Train Epoch: 3 [49920/60000 (83%)]\tLoss: 0.213405\n",
      "Train Epoch: 3 [50560/60000 (84%)]\tLoss: 0.329119\n",
      "Train Epoch: 3 [51200/60000 (85%)]\tLoss: 0.231030\n",
      "Train Epoch: 3 [51840/60000 (86%)]\tLoss: 0.428628\n",
      "Train Epoch: 3 [52480/60000 (87%)]\tLoss: 0.137407\n",
      "Train Epoch: 3 [53120/60000 (88%)]\tLoss: 0.479991\n",
      "Train Epoch: 3 [53760/60000 (90%)]\tLoss: 0.257472\n",
      "Train Epoch: 3 [54400/60000 (91%)]\tLoss: 0.154104\n",
      "Train Epoch: 3 [55040/60000 (92%)]\tLoss: 0.153856\n",
      "Train Epoch: 3 [55680/60000 (93%)]\tLoss: 0.245425\n",
      "Train Epoch: 3 [56320/60000 (94%)]\tLoss: 0.178955\n",
      "Train Epoch: 3 [56960/60000 (95%)]\tLoss: 0.272190\n",
      "Train Epoch: 3 [57600/60000 (96%)]\tLoss: 0.225522\n",
      "Train Epoch: 3 [58240/60000 (97%)]\tLoss: 0.399831\n",
      "Train Epoch: 3 [58880/60000 (98%)]\tLoss: 0.174034\n",
      "Train Epoch: 3 [59520/60000 (99%)]\tLoss: 0.260750\n",
      "\n",
      "Test set: Avg. loss: 0.0896, Accuracy: 9727/10000 (97%)\n",
      "\n",
      "Train Epoch: 4 [0/60000 (0%)]\tLoss: 0.306037\n",
      "Train Epoch: 4 [640/60000 (1%)]\tLoss: 0.170951\n",
      "Train Epoch: 4 [1280/60000 (2%)]\tLoss: 0.317291\n",
      "Train Epoch: 4 [1920/60000 (3%)]\tLoss: 0.188374\n",
      "Train Epoch: 4 [2560/60000 (4%)]\tLoss: 0.226231\n",
      "Train Epoch: 4 [3200/60000 (5%)]\tLoss: 0.278923\n",
      "Train Epoch: 4 [3840/60000 (6%)]\tLoss: 0.216488\n",
      "Train Epoch: 4 [4480/60000 (7%)]\tLoss: 0.283023\n",
      "Train Epoch: 4 [5120/60000 (9%)]\tLoss: 0.652510\n",
      "Train Epoch: 4 [5760/60000 (10%)]\tLoss: 0.133731\n",
      "Train Epoch: 4 [6400/60000 (11%)]\tLoss: 0.179812\n",
      "Train Epoch: 4 [7040/60000 (12%)]\tLoss: 0.183060\n",
      "Train Epoch: 4 [7680/60000 (13%)]\tLoss: 0.380408\n",
      "Train Epoch: 4 [8320/60000 (14%)]\tLoss: 0.170218\n",
      "Train Epoch: 4 [8960/60000 (15%)]\tLoss: 0.486055\n",
      "Train Epoch: 4 [9600/60000 (16%)]\tLoss: 0.187914\n",
      "Train Epoch: 4 [10240/60000 (17%)]\tLoss: 0.500074\n",
      "Train Epoch: 4 [10880/60000 (18%)]\tLoss: 0.146555\n",
      "Train Epoch: 4 [11520/60000 (19%)]\tLoss: 0.294844\n",
      "Train Epoch: 4 [12160/60000 (20%)]\tLoss: 0.241175\n",
      "Train Epoch: 4 [12800/60000 (21%)]\tLoss: 0.162879\n",
      "Train Epoch: 4 [13440/60000 (22%)]\tLoss: 0.203236\n",
      "Train Epoch: 4 [14080/60000 (23%)]\tLoss: 0.420351\n",
      "Train Epoch: 4 [14720/60000 (25%)]\tLoss: 0.221537\n",
      "Train Epoch: 4 [15360/60000 (26%)]\tLoss: 0.222871\n",
      "Train Epoch: 4 [16000/60000 (27%)]\tLoss: 0.231405\n",
      "Train Epoch: 4 [16640/60000 (28%)]\tLoss: 0.281693\n",
      "Train Epoch: 4 [17280/60000 (29%)]\tLoss: 0.395850\n",
      "Train Epoch: 4 [17920/60000 (30%)]\tLoss: 0.203112\n",
      "Train Epoch: 4 [18560/60000 (31%)]\tLoss: 0.217496\n",
      "Train Epoch: 4 [19200/60000 (32%)]\tLoss: 0.282719\n",
      "Train Epoch: 4 [19840/60000 (33%)]\tLoss: 0.262706\n",
      "Train Epoch: 4 [20480/60000 (34%)]\tLoss: 0.261079\n",
      "Train Epoch: 4 [21120/60000 (35%)]\tLoss: 0.296609\n",
      "Train Epoch: 4 [21760/60000 (36%)]\tLoss: 0.258480\n",
      "Train Epoch: 4 [22400/60000 (37%)]\tLoss: 0.115986\n",
      "Train Epoch: 4 [23040/60000 (38%)]\tLoss: 0.461988\n",
      "Train Epoch: 4 [23680/60000 (39%)]\tLoss: 0.188931\n",
      "Train Epoch: 4 [24320/60000 (41%)]\tLoss: 0.134804\n",
      "Train Epoch: 4 [24960/60000 (42%)]\tLoss: 0.342656\n",
      "Train Epoch: 4 [25600/60000 (43%)]\tLoss: 0.196075\n",
      "Train Epoch: 4 [26240/60000 (44%)]\tLoss: 0.247779\n",
      "Train Epoch: 4 [26880/60000 (45%)]\tLoss: 0.254324\n",
      "Train Epoch: 4 [27520/60000 (46%)]\tLoss: 0.088553\n",
      "Train Epoch: 4 [28160/60000 (47%)]\tLoss: 0.225771\n",
      "Train Epoch: 4 [28800/60000 (48%)]\tLoss: 0.250047\n",
      "Train Epoch: 4 [29440/60000 (49%)]\tLoss: 0.219793\n",
      "Train Epoch: 4 [30080/60000 (50%)]\tLoss: 0.181976\n",
      "Train Epoch: 4 [30720/60000 (51%)]\tLoss: 0.178759\n",
      "Train Epoch: 4 [31360/60000 (52%)]\tLoss: 0.205750\n",
      "Train Epoch: 4 [32000/60000 (53%)]\tLoss: 0.369614\n",
      "Train Epoch: 4 [32640/60000 (54%)]\tLoss: 0.322974\n",
      "Train Epoch: 4 [33280/60000 (55%)]\tLoss: 0.258528\n",
      "Train Epoch: 4 [33920/60000 (57%)]\tLoss: 0.335217\n",
      "Train Epoch: 4 [34560/60000 (58%)]\tLoss: 0.271120\n",
      "Train Epoch: 4 [35200/60000 (59%)]\tLoss: 0.177609\n",
      "Train Epoch: 4 [35840/60000 (60%)]\tLoss: 0.301520\n",
      "Train Epoch: 4 [36480/60000 (61%)]\tLoss: 0.221465\n",
      "Train Epoch: 4 [37120/60000 (62%)]\tLoss: 0.107351\n",
      "Train Epoch: 4 [37760/60000 (63%)]\tLoss: 0.236376\n",
      "Train Epoch: 4 [38400/60000 (64%)]\tLoss: 0.181083\n",
      "Train Epoch: 4 [39040/60000 (65%)]\tLoss: 0.344110\n",
      "Train Epoch: 4 [39680/60000 (66%)]\tLoss: 0.196857\n",
      "Train Epoch: 4 [40320/60000 (67%)]\tLoss: 0.241859\n",
      "Train Epoch: 4 [40960/60000 (68%)]\tLoss: 0.234765\n",
      "Train Epoch: 4 [41600/60000 (69%)]\tLoss: 0.170415\n",
      "Train Epoch: 4 [42240/60000 (70%)]\tLoss: 0.190895\n",
      "Train Epoch: 4 [42880/60000 (71%)]\tLoss: 0.194288\n",
      "Train Epoch: 4 [43520/60000 (72%)]\tLoss: 0.203658\n",
      "Train Epoch: 4 [44160/60000 (74%)]\tLoss: 0.481958\n",
      "Train Epoch: 4 [44800/60000 (75%)]\tLoss: 0.255894\n",
      "Train Epoch: 4 [45440/60000 (76%)]\tLoss: 0.555321\n",
      "Train Epoch: 4 [46080/60000 (77%)]\tLoss: 0.160066\n",
      "Train Epoch: 4 [46720/60000 (78%)]\tLoss: 0.198669\n",
      "Train Epoch: 4 [47360/60000 (79%)]\tLoss: 0.139136\n",
      "Train Epoch: 4 [48000/60000 (80%)]\tLoss: 0.154938\n",
      "Train Epoch: 4 [48640/60000 (81%)]\tLoss: 0.275219\n",
      "Train Epoch: 4 [49280/60000 (82%)]\tLoss: 0.120737\n",
      "Train Epoch: 4 [49920/60000 (83%)]\tLoss: 0.158906\n",
      "Train Epoch: 4 [50560/60000 (84%)]\tLoss: 0.221008\n",
      "Train Epoch: 4 [51200/60000 (85%)]\tLoss: 0.239061\n",
      "Train Epoch: 4 [51840/60000 (86%)]\tLoss: 0.164079\n",
      "Train Epoch: 4 [52480/60000 (87%)]\tLoss: 0.214715\n",
      "Train Epoch: 4 [53120/60000 (88%)]\tLoss: 0.330416\n",
      "Train Epoch: 4 [53760/60000 (90%)]\tLoss: 0.341888\n",
      "Train Epoch: 4 [54400/60000 (91%)]\tLoss: 0.192404\n",
      "Train Epoch: 4 [55040/60000 (92%)]\tLoss: 0.200236\n",
      "Train Epoch: 4 [55680/60000 (93%)]\tLoss: 0.581872\n",
      "Train Epoch: 4 [56320/60000 (94%)]\tLoss: 0.171652\n",
      "Train Epoch: 4 [56960/60000 (95%)]\tLoss: 0.204554\n",
      "Train Epoch: 4 [57600/60000 (96%)]\tLoss: 0.248149\n",
      "Train Epoch: 4 [58240/60000 (97%)]\tLoss: 0.277959\n",
      "Train Epoch: 4 [58880/60000 (98%)]\tLoss: 0.179131\n",
      "Train Epoch: 4 [59520/60000 (99%)]\tLoss: 0.148574\n",
      "\n",
      "Test set: Avg. loss: 0.0776, Accuracy: 9757/10000 (98%)\n",
      "\n",
      "Train Epoch: 5 [0/60000 (0%)]\tLoss: 0.148109\n",
      "Train Epoch: 5 [640/60000 (1%)]\tLoss: 0.245821\n",
      "Train Epoch: 5 [1280/60000 (2%)]\tLoss: 0.196936\n",
      "Train Epoch: 5 [1920/60000 (3%)]\tLoss: 0.227220\n",
      "Train Epoch: 5 [2560/60000 (4%)]\tLoss: 0.267787\n",
      "Train Epoch: 5 [3200/60000 (5%)]\tLoss: 0.142919\n",
      "Train Epoch: 5 [3840/60000 (6%)]\tLoss: 0.448759\n",
      "Train Epoch: 5 [4480/60000 (7%)]\tLoss: 0.320942\n",
      "Train Epoch: 5 [5120/60000 (9%)]\tLoss: 0.139861\n",
      "Train Epoch: 5 [5760/60000 (10%)]\tLoss: 0.421405\n",
      "Train Epoch: 5 [6400/60000 (11%)]\tLoss: 0.230151\n",
      "Train Epoch: 5 [7040/60000 (12%)]\tLoss: 0.165294\n",
      "Train Epoch: 5 [7680/60000 (13%)]\tLoss: 0.208058\n",
      "Train Epoch: 5 [8320/60000 (14%)]\tLoss: 0.163641\n",
      "Train Epoch: 5 [8960/60000 (15%)]\tLoss: 0.252447\n",
      "Train Epoch: 5 [9600/60000 (16%)]\tLoss: 0.227978\n",
      "Train Epoch: 5 [10240/60000 (17%)]\tLoss: 0.248293\n",
      "Train Epoch: 5 [10880/60000 (18%)]\tLoss: 0.074038\n",
      "Train Epoch: 5 [11520/60000 (19%)]\tLoss: 0.461397\n",
      "Train Epoch: 5 [12160/60000 (20%)]\tLoss: 0.179126\n",
      "Train Epoch: 5 [12800/60000 (21%)]\tLoss: 0.294468\n",
      "Train Epoch: 5 [13440/60000 (22%)]\tLoss: 0.211664\n",
      "Train Epoch: 5 [14080/60000 (23%)]\tLoss: 0.043338\n",
      "Train Epoch: 5 [14720/60000 (25%)]\tLoss: 0.210535\n",
      "Train Epoch: 5 [15360/60000 (26%)]\tLoss: 0.213368\n",
      "Train Epoch: 5 [16000/60000 (27%)]\tLoss: 0.359791\n",
      "Train Epoch: 5 [16640/60000 (28%)]\tLoss: 0.134086\n",
      "Train Epoch: 5 [17280/60000 (29%)]\tLoss: 0.186765\n"
     ]
    },
    {
     "ename": "KeyboardInterrupt",
     "evalue": "",
     "output_type": "error",
     "traceback": [
      "\u001b[0;31m---------------------------------------------------------------------------\u001b[0m",
      "\u001b[0;31mKeyboardInterrupt\u001b[0m                         Traceback (most recent call last)",
      "\u001b[0;32m<ipython-input-81-26b4aad1314a>\u001b[0m in \u001b[0;36m<module>\u001b[0;34m\u001b[0m\n\u001b[1;32m      1\u001b[0m \u001b[0mtest\u001b[0m\u001b[0;34m(\u001b[0m\u001b[0;34m)\u001b[0m\u001b[0;34m\u001b[0m\u001b[0;34m\u001b[0m\u001b[0m\n\u001b[1;32m      2\u001b[0m \u001b[0;32mfor\u001b[0m \u001b[0mepoch\u001b[0m \u001b[0;32min\u001b[0m \u001b[0mrange\u001b[0m\u001b[0;34m(\u001b[0m\u001b[0;36m1\u001b[0m\u001b[0;34m,\u001b[0m \u001b[0mn_epochs\u001b[0m \u001b[0;34m+\u001b[0m \u001b[0;36m1\u001b[0m\u001b[0;34m)\u001b[0m\u001b[0;34m:\u001b[0m\u001b[0;34m\u001b[0m\u001b[0;34m\u001b[0m\u001b[0m\n\u001b[0;32m----> 3\u001b[0;31m     \u001b[0mtrain\u001b[0m\u001b[0;34m(\u001b[0m\u001b[0mepoch\u001b[0m\u001b[0;34m)\u001b[0m\u001b[0;34m\u001b[0m\u001b[0;34m\u001b[0m\u001b[0m\n\u001b[0m\u001b[1;32m      4\u001b[0m     \u001b[0mtest\u001b[0m\u001b[0;34m(\u001b[0m\u001b[0;34m)\u001b[0m\u001b[0;34m\u001b[0m\u001b[0;34m\u001b[0m\u001b[0m\n",
      "\u001b[0;32m<ipython-input-79-be6e98f4f940>\u001b[0m in \u001b[0;36mtrain\u001b[0;34m(epoch)\u001b[0m\n\u001b[1;32m      5\u001b[0m         \u001b[0moutput\u001b[0m \u001b[0;34m=\u001b[0m \u001b[0mnetwork\u001b[0m\u001b[0;34m(\u001b[0m\u001b[0mdata\u001b[0m\u001b[0;34m)\u001b[0m\u001b[0;34m\u001b[0m\u001b[0;34m\u001b[0m\u001b[0m\n\u001b[1;32m      6\u001b[0m         \u001b[0mloss\u001b[0m \u001b[0;34m=\u001b[0m \u001b[0mF\u001b[0m\u001b[0;34m.\u001b[0m\u001b[0mnll_loss\u001b[0m\u001b[0;34m(\u001b[0m\u001b[0moutput\u001b[0m\u001b[0;34m,\u001b[0m \u001b[0mtarget\u001b[0m\u001b[0;34m)\u001b[0m\u001b[0;34m\u001b[0m\u001b[0;34m\u001b[0m\u001b[0m\n\u001b[0;32m----> 7\u001b[0;31m         \u001b[0mloss\u001b[0m\u001b[0;34m.\u001b[0m\u001b[0mbackward\u001b[0m\u001b[0;34m(\u001b[0m\u001b[0;34m)\u001b[0m\u001b[0;34m\u001b[0m\u001b[0;34m\u001b[0m\u001b[0m\n\u001b[0m\u001b[1;32m      8\u001b[0m         \u001b[0moptimizer\u001b[0m\u001b[0;34m.\u001b[0m\u001b[0mstep\u001b[0m\u001b[0;34m(\u001b[0m\u001b[0;34m)\u001b[0m\u001b[0;34m\u001b[0m\u001b[0;34m\u001b[0m\u001b[0m\n\u001b[1;32m      9\u001b[0m         \u001b[0;32mif\u001b[0m \u001b[0mbatch_idx\u001b[0m \u001b[0;34m%\u001b[0m \u001b[0mlog_interval\u001b[0m \u001b[0;34m==\u001b[0m\u001b[0;36m0\u001b[0m\u001b[0;34m:\u001b[0m\u001b[0;34m\u001b[0m\u001b[0;34m\u001b[0m\u001b[0m\n",
      "\u001b[0;32m~/anaconda3/envs/omega2020/lib/python3.7/site-packages/torch/tensor.py\u001b[0m in \u001b[0;36mbackward\u001b[0;34m(self, gradient, retain_graph, create_graph)\u001b[0m\n\u001b[1;32m    164\u001b[0m                 \u001b[0mproducts\u001b[0m\u001b[0;34m.\u001b[0m \u001b[0mDefaults\u001b[0m \u001b[0mto\u001b[0m\u001b[0;31m \u001b[0m\u001b[0;31m`\u001b[0m\u001b[0;31m`\u001b[0m\u001b[0;32mFalse\u001b[0m\u001b[0;31m`\u001b[0m\u001b[0;31m`\u001b[0m\u001b[0;34m.\u001b[0m\u001b[0;34m\u001b[0m\u001b[0;34m\u001b[0m\u001b[0m\n\u001b[1;32m    165\u001b[0m         \"\"\"\n\u001b[0;32m--> 166\u001b[0;31m         \u001b[0mtorch\u001b[0m\u001b[0;34m.\u001b[0m\u001b[0mautograd\u001b[0m\u001b[0;34m.\u001b[0m\u001b[0mbackward\u001b[0m\u001b[0;34m(\u001b[0m\u001b[0mself\u001b[0m\u001b[0;34m,\u001b[0m \u001b[0mgradient\u001b[0m\u001b[0;34m,\u001b[0m \u001b[0mretain_graph\u001b[0m\u001b[0;34m,\u001b[0m \u001b[0mcreate_graph\u001b[0m\u001b[0;34m)\u001b[0m\u001b[0;34m\u001b[0m\u001b[0;34m\u001b[0m\u001b[0m\n\u001b[0m\u001b[1;32m    167\u001b[0m \u001b[0;34m\u001b[0m\u001b[0m\n\u001b[1;32m    168\u001b[0m     \u001b[0;32mdef\u001b[0m \u001b[0mregister_hook\u001b[0m\u001b[0;34m(\u001b[0m\u001b[0mself\u001b[0m\u001b[0;34m,\u001b[0m \u001b[0mhook\u001b[0m\u001b[0;34m)\u001b[0m\u001b[0;34m:\u001b[0m\u001b[0;34m\u001b[0m\u001b[0;34m\u001b[0m\u001b[0m\n",
      "\u001b[0;32m~/anaconda3/envs/omega2020/lib/python3.7/site-packages/torch/autograd/__init__.py\u001b[0m in \u001b[0;36mbackward\u001b[0;34m(tensors, grad_tensors, retain_graph, create_graph, grad_variables)\u001b[0m\n\u001b[1;32m     97\u001b[0m     Variable._execution_engine.run_backward(\n\u001b[1;32m     98\u001b[0m         \u001b[0mtensors\u001b[0m\u001b[0;34m,\u001b[0m \u001b[0mgrad_tensors\u001b[0m\u001b[0;34m,\u001b[0m \u001b[0mretain_graph\u001b[0m\u001b[0;34m,\u001b[0m \u001b[0mcreate_graph\u001b[0m\u001b[0;34m,\u001b[0m\u001b[0;34m\u001b[0m\u001b[0;34m\u001b[0m\u001b[0m\n\u001b[0;32m---> 99\u001b[0;31m         allow_unreachable=True)  # allow_unreachable flag\n\u001b[0m\u001b[1;32m    100\u001b[0m \u001b[0;34m\u001b[0m\u001b[0m\n\u001b[1;32m    101\u001b[0m \u001b[0;34m\u001b[0m\u001b[0m\n",
      "\u001b[0;31mKeyboardInterrupt\u001b[0m: "
     ]
    }
   ],
   "source": [
    "test()\n",
    "for epoch in range(1, n_epochs + 1):\n",
    "    train(epoch)\n",
    "    test()"
   ]
  },
  {
   "cell_type": "markdown",
   "metadata": {
    "colab_type": "text",
    "id": "ejPSrgYgGlz4"
   },
   "source": [
    "## Let's Check the plots"
   ]
  },
  {
   "cell_type": "code",
   "execution_count": 15,
   "metadata": {
    "colab": {
     "base_uri": "https://localhost:8080/",
     "height": 622
    },
    "colab_type": "code",
    "id": "soju63TWGlz5",
    "outputId": "0b910bdd-6997-4fab-eced-05246b491ccf"
   },
   "outputs": [
    {
     "data": {
      "image/png": "[encoded data removed]",
      "text/plain": [
       "<Figure size 432x288 with 1 Axes>"
      ]
     },
     "execution_count": 15,
     "metadata": {},
     "output_type": "execute_result"
    },
    {
     "data": {
      "image/png": "[encoded data removed]",
      "text/plain": [
       "<Figure size 432x288 with 1 Axes>"
      ]
     },
     "metadata": {
      "needs_background": "light"
     },
     "output_type": "display_data"
    }
   ],
   "source": [
    "fig = plt.figure()\n",
    "plt.plot(train_counter, train_losses, color='blue')\n",
    "plt.scatter(test_counter, test_losses, color='red')\n",
    "plt.legend(['Train Loss', 'Test Loss'], loc='upper right')\n",
    "plt.xlabel('number of training examples seen')\n",
    "plt.ylabel('negative log likelihood loss')\n",
    "fig"
   ]
  },
  {
   "cell_type": "code",
   "execution_count": 16,
   "metadata": {
    "colab": {
     "base_uri": "https://localhost:8080/",
     "height": 34
    },
    "colab_type": "code",
    "id": "KdEwezHmGlz6",
    "outputId": "77320c83-9b2b-4ad5-f8a1-ebf9e1047c25"
   },
   "outputs": [
    {
     "name": "stderr",
     "output_type": "stream",
     "text": [
      "/home/rob/anaconda3/envs/omega2020/lib/python3.7/site-packages/ipykernel_launcher.py:19: UserWarning: Implicit dimension choice for log_softmax has been deprecated. Change the call to include dim=X as an argument.\n"
     ]
    }
   ],
   "source": [
    "# looking at the figure, it seems that we can continue training.\n",
    "# let's take a look at example data:\n",
    "\n",
    "with torch.no_grad():\n",
    "    output = network(example_data)"
   ]
  },
  {
   "cell_type": "code",
   "execution_count": 17,
   "metadata": {
    "colab": {
     "base_uri": "https://localhost:8080/",
     "height": 284
    },
    "colab_type": "code",
    "id": "yRcmhzBAGlz8",
    "outputId": "63a9cdd3-d6d5-4eb3-e044-07699e9a9cc4"
   },
   "outputs": [
    {
     "data": {
      "image/png": "[encoded data removed]",
      "text/plain": [
       "<Figure size 432x288 with 5 Axes>"
      ]
     },
     "metadata": {},
     "output_type": "display_data"
    }
   ],
   "source": [
    "fig = plt.figure()\n",
    "for i in range(5):\n",
    "    plt.subplot(2,3,i+1)\n",
    "    plt.tight_layout()\n",
    "    plt.imshow(example_data[i][0], cmap='gray', interpolation='none')\n",
    "    plt.title(\"Prediction: {}\".format(\n",
    "        output.data.max(1, keepdim=True)[1][i].item()))\n",
    "    plt.xticks([])\n",
    "    plt.yticks([])\n",
    "    "
   ]
  },
  {
   "cell_type": "markdown",
   "metadata": {
    "colab_type": "text",
    "id": "iwoBWxg0Glz-"
   },
   "source": [
    "### Continuing training from previous checkpoints"
   ]
  },
  {
   "cell_type": "code",
   "execution_count": 18,
   "metadata": {
    "colab": {},
    "colab_type": "code",
    "id": "rEx57YO5Glz-"
   },
   "outputs": [],
   "source": [
    "continued_network = Net()\n",
    "continued_optimizer = optim.SGD(network.parameters(), lr=learning_rate,\n",
    "                                momentum=momentum)"
   ]
  },
  {
   "cell_type": "code",
   "execution_count": 19,
   "metadata": {
    "colab": {},
    "colab_type": "code",
    "id": "3E6dleNxGl0A"
   },
   "outputs": [],
   "source": [
    "network_state_dict = torch.load('./model.pth')\n",
    "continued_network.load_state_dict(network_state_dict)\n",
    "optimizer_state_dict = torch.load('./optimizer.pth')\n",
    "continued_optimizer.load_state_dict(optimizer_state_dict)"
   ]
  },
  {
   "cell_type": "code",
   "execution_count": null,
   "metadata": {},
   "outputs": [],
   "source": []
  },
  {
   "cell_type": "code",
   "execution_count": 20,
   "metadata": {
    "colab": {},
    "colab_type": "code",
    "id": "_x-PgGBzGl0B",
    "outputId": "779d3112-fb62-4fe4-dd55-7dec7a591199"
   },
   "outputs": [
    {
     "name": "stderr",
     "output_type": "stream",
     "text": [
      "/home/rob/anaconda3/envs/omega2020/lib/python3.7/site-packages/ipykernel_launcher.py:19: UserWarning: Implicit dimension choice for log_softmax has been deprecated. Change the call to include dim=X as an argument.\n"
     ]
    },
    {
     "name": "stdout",
     "output_type": "stream",
     "text": [
      "Train Epoch: 4 [0/60000 (0%)]\tLoss: 0.123594\n",
      "Train Epoch: 4 [640/60000 (1%)]\tLoss: 0.064832\n",
      "Train Epoch: 4 [1280/60000 (2%)]\tLoss: 0.092221\n",
      "Train Epoch: 4 [1920/60000 (3%)]\tLoss: 0.240627\n",
      "Train Epoch: 4 [2560/60000 (4%)]\tLoss: 0.076920\n",
      "Train Epoch: 4 [3200/60000 (5%)]\tLoss: 0.153653\n",
      "Train Epoch: 4 [3840/60000 (6%)]\tLoss: 0.106262\n",
      "Train Epoch: 4 [4480/60000 (7%)]\tLoss: 0.118602\n",
      "Train Epoch: 4 [5120/60000 (9%)]\tLoss: 0.093042\n",
      "Train Epoch: 4 [5760/60000 (10%)]\tLoss: 0.603664\n",
      "Train Epoch: 4 [6400/60000 (11%)]\tLoss: 0.218952\n",
      "Train Epoch: 4 [7040/60000 (12%)]\tLoss: 0.088270\n",
      "Train Epoch: 4 [7680/60000 (13%)]\tLoss: 0.353808\n",
      "Train Epoch: 4 [8320/60000 (14%)]\tLoss: 0.150993\n",
      "Train Epoch: 4 [8960/60000 (15%)]\tLoss: 0.406424\n",
      "Train Epoch: 4 [9600/60000 (16%)]\tLoss: 0.170067\n",
      "Train Epoch: 4 [10240/60000 (17%)]\tLoss: 0.187422\n",
      "Train Epoch: 4 [10880/60000 (18%)]\tLoss: 0.132953\n",
      "Train Epoch: 4 [11520/60000 (19%)]\tLoss: 0.297266\n",
      "Train Epoch: 4 [12160/60000 (20%)]\tLoss: 0.222857\n",
      "Train Epoch: 4 [12800/60000 (21%)]\tLoss: 0.226920\n",
      "Train Epoch: 4 [13440/60000 (22%)]\tLoss: 0.190368\n",
      "Train Epoch: 4 [14080/60000 (23%)]\tLoss: 0.062957\n",
      "Train Epoch: 4 [14720/60000 (25%)]\tLoss: 0.089783\n",
      "Train Epoch: 4 [15360/60000 (26%)]\tLoss: 0.204971\n",
      "Train Epoch: 4 [16000/60000 (27%)]\tLoss: 0.167529\n",
      "Train Epoch: 4 [16640/60000 (28%)]\tLoss: 0.183361\n",
      "Train Epoch: 4 [17280/60000 (29%)]\tLoss: 0.057294\n",
      "Train Epoch: 4 [17920/60000 (30%)]\tLoss: 0.105424\n",
      "Train Epoch: 4 [18560/60000 (31%)]\tLoss: 0.075494\n",
      "Train Epoch: 4 [19200/60000 (32%)]\tLoss: 0.054036\n",
      "Train Epoch: 4 [19840/60000 (33%)]\tLoss: 0.139298\n",
      "Train Epoch: 4 [20480/60000 (34%)]\tLoss: 0.106237\n",
      "Train Epoch: 4 [21120/60000 (35%)]\tLoss: 0.165022\n",
      "Train Epoch: 4 [21760/60000 (36%)]\tLoss: 0.096823\n",
      "Train Epoch: 4 [22400/60000 (37%)]\tLoss: 0.107562\n",
      "Train Epoch: 4 [23040/60000 (38%)]\tLoss: 0.177481\n",
      "Train Epoch: 4 [23680/60000 (39%)]\tLoss: 0.104802\n",
      "Train Epoch: 4 [24320/60000 (41%)]\tLoss: 0.235105\n",
      "Train Epoch: 4 [24960/60000 (42%)]\tLoss: 0.220359\n",
      "Train Epoch: 4 [25600/60000 (43%)]\tLoss: 0.163874\n",
      "Train Epoch: 4 [26240/60000 (44%)]\tLoss: 0.129024\n",
      "Train Epoch: 4 [26880/60000 (45%)]\tLoss: 0.237331\n",
      "Train Epoch: 4 [27520/60000 (46%)]\tLoss: 0.064641\n",
      "Train Epoch: 4 [28160/60000 (47%)]\tLoss: 0.171537\n",
      "Train Epoch: 4 [28800/60000 (48%)]\tLoss: 0.154313\n",
      "Train Epoch: 4 [29440/60000 (49%)]\tLoss: 0.329352\n",
      "Train Epoch: 4 [30080/60000 (50%)]\tLoss: 0.203888\n",
      "Train Epoch: 4 [30720/60000 (51%)]\tLoss: 0.206665\n",
      "Train Epoch: 4 [31360/60000 (52%)]\tLoss: 0.197095\n",
      "Train Epoch: 4 [32000/60000 (53%)]\tLoss: 0.103033\n",
      "Train Epoch: 4 [32640/60000 (54%)]\tLoss: 0.119299\n",
      "Train Epoch: 4 [33280/60000 (55%)]\tLoss: 0.224733\n",
      "Train Epoch: 4 [33920/60000 (57%)]\tLoss: 0.267848\n",
      "Train Epoch: 4 [34560/60000 (58%)]\tLoss: 0.076048\n",
      "Train Epoch: 4 [35200/60000 (59%)]\tLoss: 0.101855\n",
      "Train Epoch: 4 [35840/60000 (60%)]\tLoss: 0.174689\n",
      "Train Epoch: 4 [36480/60000 (61%)]\tLoss: 0.202304\n",
      "Train Epoch: 4 [37120/60000 (62%)]\tLoss: 0.125101\n",
      "Train Epoch: 4 [37760/60000 (63%)]\tLoss: 0.038591\n",
      "Train Epoch: 4 [38400/60000 (64%)]\tLoss: 0.076138\n",
      "Train Epoch: 4 [39040/60000 (65%)]\tLoss: 0.218349\n",
      "Train Epoch: 4 [39680/60000 (66%)]\tLoss: 0.060267\n",
      "Train Epoch: 4 [40320/60000 (67%)]\tLoss: 0.139227\n",
      "Train Epoch: 4 [40960/60000 (68%)]\tLoss: 0.139467\n",
      "Train Epoch: 4 [41600/60000 (69%)]\tLoss: 0.187054\n",
      "Train Epoch: 4 [42240/60000 (70%)]\tLoss: 0.085266\n",
      "Train Epoch: 4 [42880/60000 (71%)]\tLoss: 0.181879\n",
      "Train Epoch: 4 [43520/60000 (72%)]\tLoss: 0.167389\n",
      "Train Epoch: 4 [44160/60000 (74%)]\tLoss: 0.114830\n",
      "Train Epoch: 4 [44800/60000 (75%)]\tLoss: 0.181044\n",
      "Train Epoch: 4 [45440/60000 (76%)]\tLoss: 0.143871\n",
      "Train Epoch: 4 [46080/60000 (77%)]\tLoss: 0.152134\n",
      "Train Epoch: 4 [46720/60000 (78%)]\tLoss: 0.084647\n",
      "Train Epoch: 4 [47360/60000 (79%)]\tLoss: 0.065804\n",
      "Train Epoch: 4 [48000/60000 (80%)]\tLoss: 0.198922\n",
      "Train Epoch: 4 [48640/60000 (81%)]\tLoss: 0.165944\n",
      "Train Epoch: 4 [49280/60000 (82%)]\tLoss: 0.227786\n",
      "Train Epoch: 4 [49920/60000 (83%)]\tLoss: 0.081454\n",
      "Train Epoch: 4 [50560/60000 (84%)]\tLoss: 0.169709\n",
      "Train Epoch: 4 [51200/60000 (85%)]\tLoss: 0.107488\n",
      "Train Epoch: 4 [51840/60000 (86%)]\tLoss: 0.065470\n",
      "Train Epoch: 4 [52480/60000 (87%)]\tLoss: 0.095900\n",
      "Train Epoch: 4 [53120/60000 (88%)]\tLoss: 0.163941\n",
      "Train Epoch: 4 [53760/60000 (90%)]\tLoss: 0.195985\n",
      "Train Epoch: 4 [54400/60000 (91%)]\tLoss: 0.140725\n",
      "Train Epoch: 4 [55040/60000 (92%)]\tLoss: 0.085827\n",
      "Train Epoch: 4 [55680/60000 (93%)]\tLoss: 0.111199\n",
      "Train Epoch: 4 [56320/60000 (94%)]\tLoss: 0.156468\n",
      "Train Epoch: 4 [56960/60000 (95%)]\tLoss: 0.329241\n",
      "Train Epoch: 4 [57600/60000 (96%)]\tLoss: 0.180011\n",
      "Train Epoch: 4 [58240/60000 (97%)]\tLoss: 0.038360\n",
      "Train Epoch: 4 [58880/60000 (98%)]\tLoss: 0.097261\n",
      "Train Epoch: 4 [59520/60000 (99%)]\tLoss: 0.245766\n",
      "\n",
      "Test set: Avg. loss: 0.0496, Accuracy: 9842/10000 (98%)\n",
      "\n",
      "Train Epoch: 5 [0/60000 (0%)]\tLoss: 0.217547\n",
      "Train Epoch: 5 [640/60000 (1%)]\tLoss: 0.116280\n",
      "Train Epoch: 5 [1280/60000 (2%)]\tLoss: 0.041841\n",
      "Train Epoch: 5 [1920/60000 (3%)]\tLoss: 0.136389\n",
      "Train Epoch: 5 [2560/60000 (4%)]\tLoss: 0.427015\n",
      "Train Epoch: 5 [3200/60000 (5%)]\tLoss: 0.139936\n",
      "Train Epoch: 5 [3840/60000 (6%)]\tLoss: 0.326394\n",
      "Train Epoch: 5 [4480/60000 (7%)]\tLoss: 0.097999\n",
      "Train Epoch: 5 [5120/60000 (9%)]\tLoss: 0.083857\n",
      "Train Epoch: 5 [5760/60000 (10%)]\tLoss: 0.074516\n",
      "Train Epoch: 5 [6400/60000 (11%)]\tLoss: 0.157244\n",
      "Train Epoch: 5 [7040/60000 (12%)]\tLoss: 0.084186\n",
      "Train Epoch: 5 [7680/60000 (13%)]\tLoss: 0.273886\n",
      "Train Epoch: 5 [8320/60000 (14%)]\tLoss: 0.258417\n",
      "Train Epoch: 5 [8960/60000 (15%)]\tLoss: 0.111698\n",
      "Train Epoch: 5 [9600/60000 (16%)]\tLoss: 0.123323\n",
      "Train Epoch: 5 [10240/60000 (17%)]\tLoss: 0.206449\n",
      "Train Epoch: 5 [10880/60000 (18%)]\tLoss: 0.183928\n",
      "Train Epoch: 5 [11520/60000 (19%)]\tLoss: 0.185967\n",
      "Train Epoch: 5 [12160/60000 (20%)]\tLoss: 0.075070\n",
      "Train Epoch: 5 [12800/60000 (21%)]\tLoss: 0.136619\n",
      "Train Epoch: 5 [13440/60000 (22%)]\tLoss: 0.093676\n",
      "Train Epoch: 5 [14080/60000 (23%)]\tLoss: 0.097640\n",
      "Train Epoch: 5 [14720/60000 (25%)]\tLoss: 0.092011\n",
      "Train Epoch: 5 [15360/60000 (26%)]\tLoss: 0.097377\n",
      "Train Epoch: 5 [16000/60000 (27%)]\tLoss: 0.071640\n",
      "Train Epoch: 5 [16640/60000 (28%)]\tLoss: 0.120571\n",
      "Train Epoch: 5 [17280/60000 (29%)]\tLoss: 0.239837\n",
      "Train Epoch: 5 [17920/60000 (30%)]\tLoss: 0.220161\n",
      "Train Epoch: 5 [18560/60000 (31%)]\tLoss: 0.082938\n",
      "Train Epoch: 5 [19200/60000 (32%)]\tLoss: 0.194914\n",
      "Train Epoch: 5 [19840/60000 (33%)]\tLoss: 0.061894\n",
      "Train Epoch: 5 [20480/60000 (34%)]\tLoss: 0.295136\n",
      "Train Epoch: 5 [21120/60000 (35%)]\tLoss: 0.098096\n",
      "Train Epoch: 5 [21760/60000 (36%)]\tLoss: 0.274894\n",
      "Train Epoch: 5 [22400/60000 (37%)]\tLoss: 0.074616\n",
      "Train Epoch: 5 [23040/60000 (38%)]\tLoss: 0.273694\n",
      "Train Epoch: 5 [23680/60000 (39%)]\tLoss: 0.149214\n",
      "Train Epoch: 5 [24320/60000 (41%)]\tLoss: 0.095220\n",
      "Train Epoch: 5 [24960/60000 (42%)]\tLoss: 0.188431\n",
      "Train Epoch: 5 [25600/60000 (43%)]\tLoss: 0.175830\n",
      "Train Epoch: 5 [26240/60000 (44%)]\tLoss: 0.391495\n",
      "Train Epoch: 5 [26880/60000 (45%)]\tLoss: 0.126209\n",
      "Train Epoch: 5 [27520/60000 (46%)]\tLoss: 0.191802\n",
      "Train Epoch: 5 [28160/60000 (47%)]\tLoss: 0.209032\n",
      "Train Epoch: 5 [28800/60000 (48%)]\tLoss: 0.108873\n",
      "Train Epoch: 5 [29440/60000 (49%)]\tLoss: 0.139420\n",
      "Train Epoch: 5 [30080/60000 (50%)]\tLoss: 0.050159\n",
      "Train Epoch: 5 [30720/60000 (51%)]\tLoss: 0.140914\n",
      "Train Epoch: 5 [31360/60000 (52%)]\tLoss: 0.117044\n",
      "Train Epoch: 5 [32000/60000 (53%)]\tLoss: 0.198205\n",
      "Train Epoch: 5 [32640/60000 (54%)]\tLoss: 0.081247\n",
      "Train Epoch: 5 [33280/60000 (55%)]\tLoss: 0.117465\n",
      "Train Epoch: 5 [33920/60000 (57%)]\tLoss: 0.330241\n",
      "Train Epoch: 5 [34560/60000 (58%)]\tLoss: 0.208358\n",
      "Train Epoch: 5 [35200/60000 (59%)]\tLoss: 0.136838\n",
      "Train Epoch: 5 [35840/60000 (60%)]\tLoss: 0.202768\n",
      "Train Epoch: 5 [36480/60000 (61%)]\tLoss: 0.324374\n",
      "Train Epoch: 5 [37120/60000 (62%)]\tLoss: 0.217021\n",
      "Train Epoch: 5 [37760/60000 (63%)]\tLoss: 0.073039\n",
      "Train Epoch: 5 [38400/60000 (64%)]\tLoss: 0.184573\n",
      "Train Epoch: 5 [39040/60000 (65%)]\tLoss: 0.247647\n",
      "Train Epoch: 5 [39680/60000 (66%)]\tLoss: 0.173138\n",
      "Train Epoch: 5 [40320/60000 (67%)]\tLoss: 0.131579\n",
      "Train Epoch: 5 [40960/60000 (68%)]\tLoss: 0.163771\n",
      "Train Epoch: 5 [41600/60000 (69%)]\tLoss: 0.125972\n",
      "Train Epoch: 5 [42240/60000 (70%)]\tLoss: 0.209852\n",
      "Train Epoch: 5 [42880/60000 (71%)]\tLoss: 0.100813\n",
      "Train Epoch: 5 [43520/60000 (72%)]\tLoss: 0.172842\n",
      "Train Epoch: 5 [44160/60000 (74%)]\tLoss: 0.303660\n",
      "Train Epoch: 5 [44800/60000 (75%)]\tLoss: 0.120653\n",
      "Train Epoch: 5 [45440/60000 (76%)]\tLoss: 0.306862\n",
      "Train Epoch: 5 [46080/60000 (77%)]\tLoss: 0.276346\n",
      "Train Epoch: 5 [46720/60000 (78%)]\tLoss: 0.065044\n",
      "Train Epoch: 5 [47360/60000 (79%)]\tLoss: 0.127340\n",
      "Train Epoch: 5 [48000/60000 (80%)]\tLoss: 0.159622\n",
      "Train Epoch: 5 [48640/60000 (81%)]\tLoss: 0.302481\n",
      "Train Epoch: 5 [49280/60000 (82%)]\tLoss: 0.295118\n",
      "Train Epoch: 5 [49920/60000 (83%)]\tLoss: 0.239363\n",
      "Train Epoch: 5 [50560/60000 (84%)]\tLoss: 0.071571\n",
      "Train Epoch: 5 [51200/60000 (85%)]\tLoss: 0.277507\n",
      "Train Epoch: 5 [51840/60000 (86%)]\tLoss: 0.350872\n",
      "Train Epoch: 5 [52480/60000 (87%)]\tLoss: 0.112559\n",
      "Train Epoch: 5 [53120/60000 (88%)]\tLoss: 0.294780\n",
      "Train Epoch: 5 [53760/60000 (90%)]\tLoss: 0.053603\n",
      "Train Epoch: 5 [54400/60000 (91%)]\tLoss: 0.116009\n",
      "Train Epoch: 5 [55040/60000 (92%)]\tLoss: 0.341523\n",
      "Train Epoch: 5 [55680/60000 (93%)]\tLoss: 0.117711\n",
      "Train Epoch: 5 [56320/60000 (94%)]\tLoss: 0.141726\n",
      "Train Epoch: 5 [56960/60000 (95%)]\tLoss: 0.396068\n",
      "Train Epoch: 5 [57600/60000 (96%)]\tLoss: 0.177821\n",
      "Train Epoch: 5 [58240/60000 (97%)]\tLoss: 0.172533\n",
      "Train Epoch: 5 [58880/60000 (98%)]\tLoss: 0.119435\n",
      "Train Epoch: 5 [59520/60000 (99%)]\tLoss: 0.211175\n",
      "\n",
      "Test set: Avg. loss: 0.0458, Accuracy: 9854/10000 (99%)\n",
      "\n",
      "Train Epoch: 6 [0/60000 (0%)]\tLoss: 0.051978\n",
      "Train Epoch: 6 [640/60000 (1%)]\tLoss: 0.102555\n",
      "Train Epoch: 6 [1280/60000 (2%)]\tLoss: 0.335140\n",
      "Train Epoch: 6 [1920/60000 (3%)]\tLoss: 0.161951\n",
      "Train Epoch: 6 [2560/60000 (4%)]\tLoss: 0.045577\n",
      "Train Epoch: 6 [3200/60000 (5%)]\tLoss: 0.310078\n",
      "Train Epoch: 6 [3840/60000 (6%)]\tLoss: 0.132194\n",
      "Train Epoch: 6 [4480/60000 (7%)]\tLoss: 0.099355\n",
      "Train Epoch: 6 [5120/60000 (9%)]\tLoss: 0.145903\n",
      "Train Epoch: 6 [5760/60000 (10%)]\tLoss: 0.085646\n",
      "Train Epoch: 6 [6400/60000 (11%)]\tLoss: 0.305584\n",
      "Train Epoch: 6 [7040/60000 (12%)]\tLoss: 0.193476\n",
      "Train Epoch: 6 [7680/60000 (13%)]\tLoss: 0.056276\n",
      "Train Epoch: 6 [8320/60000 (14%)]\tLoss: 0.155189\n",
      "Train Epoch: 6 [8960/60000 (15%)]\tLoss: 0.067714\n",
      "Train Epoch: 6 [9600/60000 (16%)]\tLoss: 0.137016\n",
      "Train Epoch: 6 [10240/60000 (17%)]\tLoss: 0.112645\n",
      "Train Epoch: 6 [10880/60000 (18%)]\tLoss: 0.229512\n",
      "Train Epoch: 6 [11520/60000 (19%)]\tLoss: 0.120981\n",
      "Train Epoch: 6 [12160/60000 (20%)]\tLoss: 0.071367\n",
      "Train Epoch: 6 [12800/60000 (21%)]\tLoss: 0.114438\n",
      "Train Epoch: 6 [13440/60000 (22%)]\tLoss: 0.097336\n",
      "Train Epoch: 6 [14080/60000 (23%)]\tLoss: 0.110147\n",
      "Train Epoch: 6 [14720/60000 (25%)]\tLoss: 0.151180\n",
      "Train Epoch: 6 [15360/60000 (26%)]\tLoss: 0.161034\n",
      "Train Epoch: 6 [16000/60000 (27%)]\tLoss: 0.042694\n",
      "Train Epoch: 6 [16640/60000 (28%)]\tLoss: 0.174891\n",
      "Train Epoch: 6 [17280/60000 (29%)]\tLoss: 0.242005\n",
      "Train Epoch: 6 [17920/60000 (30%)]\tLoss: 0.198269\n",
      "Train Epoch: 6 [18560/60000 (31%)]\tLoss: 0.178971\n",
      "Train Epoch: 6 [19200/60000 (32%)]\tLoss: 0.236295\n",
      "Train Epoch: 6 [19840/60000 (33%)]\tLoss: 0.120804\n",
      "Train Epoch: 6 [20480/60000 (34%)]\tLoss: 0.091674\n",
      "Train Epoch: 6 [21120/60000 (35%)]\tLoss: 0.103771\n",
      "Train Epoch: 6 [21760/60000 (36%)]\tLoss: 0.045196\n",
      "Train Epoch: 6 [22400/60000 (37%)]\tLoss: 0.011636\n",
      "Train Epoch: 6 [23040/60000 (38%)]\tLoss: 0.132400\n",
      "Train Epoch: 6 [23680/60000 (39%)]\tLoss: 0.208961\n",
      "Train Epoch: 6 [24320/60000 (41%)]\tLoss: 0.222224\n",
      "Train Epoch: 6 [24960/60000 (42%)]\tLoss: 0.129217\n",
      "Train Epoch: 6 [25600/60000 (43%)]\tLoss: 0.129199\n",
      "Train Epoch: 6 [26240/60000 (44%)]\tLoss: 0.140077\n",
      "Train Epoch: 6 [26880/60000 (45%)]\tLoss: 0.113022\n",
      "Train Epoch: 6 [27520/60000 (46%)]\tLoss: 0.106145\n",
      "Train Epoch: 6 [28160/60000 (47%)]\tLoss: 0.309417\n",
      "Train Epoch: 6 [28800/60000 (48%)]\tLoss: 0.018274\n",
      "Train Epoch: 6 [29440/60000 (49%)]\tLoss: 0.114967\n",
      "Train Epoch: 6 [30080/60000 (50%)]\tLoss: 0.033282\n",
      "Train Epoch: 6 [30720/60000 (51%)]\tLoss: 0.201515\n",
      "Train Epoch: 6 [31360/60000 (52%)]\tLoss: 0.226602\n",
      "Train Epoch: 6 [32000/60000 (53%)]\tLoss: 0.135928\n",
      "Train Epoch: 6 [32640/60000 (54%)]\tLoss: 0.191623\n",
      "Train Epoch: 6 [33280/60000 (55%)]\tLoss: 0.060277\n",
      "Train Epoch: 6 [33920/60000 (57%)]\tLoss: 0.127225\n",
      "Train Epoch: 6 [34560/60000 (58%)]\tLoss: 0.073378\n",
      "Train Epoch: 6 [35200/60000 (59%)]\tLoss: 0.208887\n",
      "Train Epoch: 6 [35840/60000 (60%)]\tLoss: 0.099583\n",
      "Train Epoch: 6 [36480/60000 (61%)]\tLoss: 0.085336\n",
      "Train Epoch: 6 [37120/60000 (62%)]\tLoss: 0.114091\n",
      "Train Epoch: 6 [37760/60000 (63%)]\tLoss: 0.055464\n",
      "Train Epoch: 6 [38400/60000 (64%)]\tLoss: 0.078601\n",
      "Train Epoch: 6 [39040/60000 (65%)]\tLoss: 0.234995\n",
      "Train Epoch: 6 [39680/60000 (66%)]\tLoss: 0.067247\n",
      "Train Epoch: 6 [40320/60000 (67%)]\tLoss: 0.175657\n",
      "Train Epoch: 6 [40960/60000 (68%)]\tLoss: 0.138706\n",
      "Train Epoch: 6 [41600/60000 (69%)]\tLoss: 0.100943\n",
      "Train Epoch: 6 [42240/60000 (70%)]\tLoss: 0.110384\n",
      "Train Epoch: 6 [42880/60000 (71%)]\tLoss: 0.095963\n",
      "Train Epoch: 6 [43520/60000 (72%)]\tLoss: 0.129638\n",
      "Train Epoch: 6 [44160/60000 (74%)]\tLoss: 0.209638\n",
      "Train Epoch: 6 [44800/60000 (75%)]\tLoss: 0.185343\n",
      "Train Epoch: 6 [45440/60000 (76%)]\tLoss: 0.118532\n",
      "Train Epoch: 6 [46080/60000 (77%)]\tLoss: 0.092360\n",
      "Train Epoch: 6 [46720/60000 (78%)]\tLoss: 0.093616\n",
      "Train Epoch: 6 [47360/60000 (79%)]\tLoss: 0.153537\n",
      "Train Epoch: 6 [48000/60000 (80%)]\tLoss: 0.123795\n",
      "Train Epoch: 6 [48640/60000 (81%)]\tLoss: 0.195287\n",
      "Train Epoch: 6 [49280/60000 (82%)]\tLoss: 0.031293\n",
      "Train Epoch: 6 [49920/60000 (83%)]\tLoss: 0.332004\n",
      "Train Epoch: 6 [50560/60000 (84%)]\tLoss: 0.072307\n",
      "Train Epoch: 6 [51200/60000 (85%)]\tLoss: 0.256448\n",
      "Train Epoch: 6 [51840/60000 (86%)]\tLoss: 0.065172\n",
      "Train Epoch: 6 [52480/60000 (87%)]\tLoss: 0.100515\n",
      "Train Epoch: 6 [53120/60000 (88%)]\tLoss: 0.229959\n",
      "Train Epoch: 6 [53760/60000 (90%)]\tLoss: 0.218567\n",
      "Train Epoch: 6 [54400/60000 (91%)]\tLoss: 0.070275\n",
      "Train Epoch: 6 [55040/60000 (92%)]\tLoss: 0.105761\n",
      "Train Epoch: 6 [55680/60000 (93%)]\tLoss: 0.106771\n",
      "Train Epoch: 6 [56320/60000 (94%)]\tLoss: 0.181174\n",
      "Train Epoch: 6 [56960/60000 (95%)]\tLoss: 0.117338\n",
      "Train Epoch: 6 [57600/60000 (96%)]\tLoss: 0.231181\n",
      "Train Epoch: 6 [58240/60000 (97%)]\tLoss: 0.087304\n",
      "Train Epoch: 6 [58880/60000 (98%)]\tLoss: 0.127256\n",
      "Train Epoch: 6 [59520/60000 (99%)]\tLoss: 0.086962\n",
      "\n",
      "Test set: Avg. loss: 0.0408, Accuracy: 9865/10000 (99%)\n",
      "\n",
      "Train Epoch: 7 [0/60000 (0%)]\tLoss: 0.040746\n",
      "Train Epoch: 7 [640/60000 (1%)]\tLoss: 0.152271\n",
      "Train Epoch: 7 [1280/60000 (2%)]\tLoss: 0.128840\n",
      "Train Epoch: 7 [1920/60000 (3%)]\tLoss: 0.193135\n",
      "Train Epoch: 7 [2560/60000 (4%)]\tLoss: 0.085046\n",
      "Train Epoch: 7 [3200/60000 (5%)]\tLoss: 0.066398\n",
      "Train Epoch: 7 [3840/60000 (6%)]\tLoss: 0.118888\n",
      "Train Epoch: 7 [4480/60000 (7%)]\tLoss: 0.118013\n",
      "Train Epoch: 7 [5120/60000 (9%)]\tLoss: 0.087888\n",
      "Train Epoch: 7 [5760/60000 (10%)]\tLoss: 0.109448\n",
      "Train Epoch: 7 [6400/60000 (11%)]\tLoss: 0.153926\n",
      "Train Epoch: 7 [7040/60000 (12%)]\tLoss: 0.148499\n",
      "Train Epoch: 7 [7680/60000 (13%)]\tLoss: 0.188480\n",
      "Train Epoch: 7 [8320/60000 (14%)]\tLoss: 0.190134\n",
      "Train Epoch: 7 [8960/60000 (15%)]\tLoss: 0.232294\n",
      "Train Epoch: 7 [9600/60000 (16%)]\tLoss: 0.072911\n",
      "Train Epoch: 7 [10240/60000 (17%)]\tLoss: 0.102743\n",
      "Train Epoch: 7 [10880/60000 (18%)]\tLoss: 0.168160\n",
      "Train Epoch: 7 [11520/60000 (19%)]\tLoss: 0.088725\n",
      "Train Epoch: 7 [12160/60000 (20%)]\tLoss: 0.046834\n",
      "Train Epoch: 7 [12800/60000 (21%)]\tLoss: 0.118080\n",
      "Train Epoch: 7 [13440/60000 (22%)]\tLoss: 0.077692\n",
      "Train Epoch: 7 [14080/60000 (23%)]\tLoss: 0.171116\n",
      "Train Epoch: 7 [14720/60000 (25%)]\tLoss: 0.120411\n",
      "Train Epoch: 7 [15360/60000 (26%)]\tLoss: 0.460979\n",
      "Train Epoch: 7 [16000/60000 (27%)]\tLoss: 0.087264\n",
      "Train Epoch: 7 [16640/60000 (28%)]\tLoss: 0.212443\n",
      "Train Epoch: 7 [17280/60000 (29%)]\tLoss: 0.085275\n",
      "Train Epoch: 7 [17920/60000 (30%)]\tLoss: 0.051918\n",
      "Train Epoch: 7 [18560/60000 (31%)]\tLoss: 0.241487\n",
      "Train Epoch: 7 [19200/60000 (32%)]\tLoss: 0.218781\n",
      "Train Epoch: 7 [19840/60000 (33%)]\tLoss: 0.241776\n",
      "Train Epoch: 7 [20480/60000 (34%)]\tLoss: 0.063180\n",
      "Train Epoch: 7 [21120/60000 (35%)]\tLoss: 0.252616\n",
      "Train Epoch: 7 [21760/60000 (36%)]\tLoss: 0.090376\n",
      "Train Epoch: 7 [22400/60000 (37%)]\tLoss: 0.088963\n",
      "Train Epoch: 7 [23040/60000 (38%)]\tLoss: 0.075231\n",
      "Train Epoch: 7 [23680/60000 (39%)]\tLoss: 0.167629\n",
      "Train Epoch: 7 [24320/60000 (41%)]\tLoss: 0.047028\n",
      "Train Epoch: 7 [24960/60000 (42%)]\tLoss: 0.079076\n",
      "Train Epoch: 7 [25600/60000 (43%)]\tLoss: 0.329548\n",
      "Train Epoch: 7 [26240/60000 (44%)]\tLoss: 0.098191\n",
      "Train Epoch: 7 [26880/60000 (45%)]\tLoss: 0.091005\n",
      "Train Epoch: 7 [27520/60000 (46%)]\tLoss: 0.177499\n",
      "Train Epoch: 7 [28160/60000 (47%)]\tLoss: 0.134830\n",
      "Train Epoch: 7 [28800/60000 (48%)]\tLoss: 0.154153\n",
      "Train Epoch: 7 [29440/60000 (49%)]\tLoss: 0.153559\n",
      "Train Epoch: 7 [30080/60000 (50%)]\tLoss: 0.116310\n",
      "Train Epoch: 7 [30720/60000 (51%)]\tLoss: 0.095536\n",
      "Train Epoch: 7 [31360/60000 (52%)]\tLoss: 0.029717\n",
      "Train Epoch: 7 [32000/60000 (53%)]\tLoss: 0.088236\n",
      "Train Epoch: 7 [32640/60000 (54%)]\tLoss: 0.237065\n",
      "Train Epoch: 7 [33280/60000 (55%)]\tLoss: 0.156620\n",
      "Train Epoch: 7 [33920/60000 (57%)]\tLoss: 0.119579\n",
      "Train Epoch: 7 [34560/60000 (58%)]\tLoss: 0.134990\n",
      "Train Epoch: 7 [35200/60000 (59%)]\tLoss: 0.117704\n",
      "Train Epoch: 7 [35840/60000 (60%)]\tLoss: 0.093298\n",
      "Train Epoch: 7 [36480/60000 (61%)]\tLoss: 0.454759\n",
      "Train Epoch: 7 [37120/60000 (62%)]\tLoss: 0.052764\n",
      "Train Epoch: 7 [37760/60000 (63%)]\tLoss: 0.192271\n",
      "Train Epoch: 7 [38400/60000 (64%)]\tLoss: 0.252163\n",
      "Train Epoch: 7 [39040/60000 (65%)]\tLoss: 0.131582\n",
      "Train Epoch: 7 [39680/60000 (66%)]\tLoss: 0.111110\n",
      "Train Epoch: 7 [40320/60000 (67%)]\tLoss: 0.114967\n",
      "Train Epoch: 7 [40960/60000 (68%)]\tLoss: 0.122068\n",
      "Train Epoch: 7 [41600/60000 (69%)]\tLoss: 0.096757\n",
      "Train Epoch: 7 [42240/60000 (70%)]\tLoss: 0.184502\n",
      "Train Epoch: 7 [42880/60000 (71%)]\tLoss: 0.101595\n",
      "Train Epoch: 7 [43520/60000 (72%)]\tLoss: 0.149611\n",
      "Train Epoch: 7 [44160/60000 (74%)]\tLoss: 0.142891\n",
      "Train Epoch: 7 [44800/60000 (75%)]\tLoss: 0.219066\n",
      "Train Epoch: 7 [45440/60000 (76%)]\tLoss: 0.197831\n",
      "Train Epoch: 7 [46080/60000 (77%)]\tLoss: 0.031298\n",
      "Train Epoch: 7 [46720/60000 (78%)]\tLoss: 0.126612\n",
      "Train Epoch: 7 [47360/60000 (79%)]\tLoss: 0.091687\n",
      "Train Epoch: 7 [48000/60000 (80%)]\tLoss: 0.078679\n",
      "Train Epoch: 7 [48640/60000 (81%)]\tLoss: 0.112011\n",
      "Train Epoch: 7 [49280/60000 (82%)]\tLoss: 0.130215\n",
      "Train Epoch: 7 [49920/60000 (83%)]\tLoss: 0.238722\n",
      "Train Epoch: 7 [50560/60000 (84%)]\tLoss: 0.138749\n",
      "Train Epoch: 7 [51200/60000 (85%)]\tLoss: 0.158917\n",
      "Train Epoch: 7 [51840/60000 (86%)]\tLoss: 0.225296\n",
      "Train Epoch: 7 [52480/60000 (87%)]\tLoss: 0.175172\n",
      "Train Epoch: 7 [53120/60000 (88%)]\tLoss: 0.028792\n",
      "Train Epoch: 7 [53760/60000 (90%)]\tLoss: 0.043714\n",
      "Train Epoch: 7 [54400/60000 (91%)]\tLoss: 0.186690\n",
      "Train Epoch: 7 [55040/60000 (92%)]\tLoss: 0.036164\n",
      "Train Epoch: 7 [55680/60000 (93%)]\tLoss: 0.080571\n",
      "Train Epoch: 7 [56320/60000 (94%)]\tLoss: 0.396466\n",
      "Train Epoch: 7 [56960/60000 (95%)]\tLoss: 0.311831\n",
      "Train Epoch: 7 [57600/60000 (96%)]\tLoss: 0.206509\n",
      "Train Epoch: 7 [58240/60000 (97%)]\tLoss: 0.113918\n",
      "Train Epoch: 7 [58880/60000 (98%)]\tLoss: 0.183345\n",
      "Train Epoch: 7 [59520/60000 (99%)]\tLoss: 0.282213\n",
      "\n",
      "Test set: Avg. loss: 0.0411, Accuracy: 9861/10000 (99%)\n",
      "\n",
      "Train Epoch: 8 [0/60000 (0%)]\tLoss: 0.061103\n",
      "Train Epoch: 8 [640/60000 (1%)]\tLoss: 0.120655\n",
      "Train Epoch: 8 [1280/60000 (2%)]\tLoss: 0.118128\n",
      "Train Epoch: 8 [1920/60000 (3%)]\tLoss: 0.155936\n",
      "Train Epoch: 8 [2560/60000 (4%)]\tLoss: 0.173309\n",
      "Train Epoch: 8 [3200/60000 (5%)]\tLoss: 0.304759\n",
      "Train Epoch: 8 [3840/60000 (6%)]\tLoss: 0.185572\n",
      "Train Epoch: 8 [4480/60000 (7%)]\tLoss: 0.137321\n",
      "Train Epoch: 8 [5120/60000 (9%)]\tLoss: 0.285979\n",
      "Train Epoch: 8 [5760/60000 (10%)]\tLoss: 0.083682\n",
      "Train Epoch: 8 [6400/60000 (11%)]\tLoss: 0.070053\n",
      "Train Epoch: 8 [7040/60000 (12%)]\tLoss: 0.315107\n",
      "Train Epoch: 8 [7680/60000 (13%)]\tLoss: 0.112111\n",
      "Train Epoch: 8 [8320/60000 (14%)]\tLoss: 0.056671\n",
      "Train Epoch: 8 [8960/60000 (15%)]\tLoss: 0.064282\n",
      "Train Epoch: 8 [9600/60000 (16%)]\tLoss: 0.146255\n",
      "Train Epoch: 8 [10240/60000 (17%)]\tLoss: 0.218986\n",
      "Train Epoch: 8 [10880/60000 (18%)]\tLoss: 0.222865\n",
      "Train Epoch: 8 [11520/60000 (19%)]\tLoss: 0.175772\n",
      "Train Epoch: 8 [12160/60000 (20%)]\tLoss: 0.173034\n",
      "Train Epoch: 8 [12800/60000 (21%)]\tLoss: 0.199468\n",
      "Train Epoch: 8 [13440/60000 (22%)]\tLoss: 0.214821\n",
      "Train Epoch: 8 [14080/60000 (23%)]\tLoss: 0.094064\n",
      "Train Epoch: 8 [14720/60000 (25%)]\tLoss: 0.157754\n",
      "Train Epoch: 8 [15360/60000 (26%)]\tLoss: 0.241859\n",
      "Train Epoch: 8 [16000/60000 (27%)]\tLoss: 0.022799\n",
      "Train Epoch: 8 [16640/60000 (28%)]\tLoss: 0.128851\n",
      "Train Epoch: 8 [17280/60000 (29%)]\tLoss: 0.157504\n",
      "Train Epoch: 8 [17920/60000 (30%)]\tLoss: 0.430852\n",
      "Train Epoch: 8 [18560/60000 (31%)]\tLoss: 0.052153\n",
      "Train Epoch: 8 [19200/60000 (32%)]\tLoss: 0.215056\n",
      "Train Epoch: 8 [19840/60000 (33%)]\tLoss: 0.129359\n",
      "Train Epoch: 8 [20480/60000 (34%)]\tLoss: 0.072416\n",
      "Train Epoch: 8 [21120/60000 (35%)]\tLoss: 0.038680\n",
      "Train Epoch: 8 [21760/60000 (36%)]\tLoss: 0.343664\n",
      "Train Epoch: 8 [22400/60000 (37%)]\tLoss: 0.084311\n",
      "Train Epoch: 8 [23040/60000 (38%)]\tLoss: 0.203276\n",
      "Train Epoch: 8 [23680/60000 (39%)]\tLoss: 0.131630\n",
      "Train Epoch: 8 [24320/60000 (41%)]\tLoss: 0.066404\n",
      "Train Epoch: 8 [24960/60000 (42%)]\tLoss: 0.107550\n",
      "Train Epoch: 8 [25600/60000 (43%)]\tLoss: 0.189123\n",
      "Train Epoch: 8 [26240/60000 (44%)]\tLoss: 0.131329\n",
      "Train Epoch: 8 [26880/60000 (45%)]\tLoss: 0.164320\n",
      "Train Epoch: 8 [27520/60000 (46%)]\tLoss: 0.154150\n",
      "Train Epoch: 8 [28160/60000 (47%)]\tLoss: 0.129348\n",
      "Train Epoch: 8 [28800/60000 (48%)]\tLoss: 0.116942\n",
      "Train Epoch: 8 [29440/60000 (49%)]\tLoss: 0.134664\n",
      "Train Epoch: 8 [30080/60000 (50%)]\tLoss: 0.237654\n",
      "Train Epoch: 8 [30720/60000 (51%)]\tLoss: 0.327719\n",
      "Train Epoch: 8 [31360/60000 (52%)]\tLoss: 0.037880\n",
      "Train Epoch: 8 [32000/60000 (53%)]\tLoss: 0.077059\n",
      "Train Epoch: 8 [32640/60000 (54%)]\tLoss: 0.184452\n",
      "Train Epoch: 8 [33280/60000 (55%)]\tLoss: 0.190732\n",
      "Train Epoch: 8 [33920/60000 (57%)]\tLoss: 0.167679\n",
      "Train Epoch: 8 [34560/60000 (58%)]\tLoss: 0.260324\n",
      "Train Epoch: 8 [35200/60000 (59%)]\tLoss: 0.097790\n",
      "Train Epoch: 8 [35840/60000 (60%)]\tLoss: 0.062796\n",
      "Train Epoch: 8 [36480/60000 (61%)]\tLoss: 0.089955\n",
      "Train Epoch: 8 [37120/60000 (62%)]\tLoss: 0.229673\n",
      "Train Epoch: 8 [37760/60000 (63%)]\tLoss: 0.129432\n",
      "Train Epoch: 8 [38400/60000 (64%)]\tLoss: 0.171310\n",
      "Train Epoch: 8 [39040/60000 (65%)]\tLoss: 0.084920\n",
      "Train Epoch: 8 [39680/60000 (66%)]\tLoss: 0.047842\n",
      "Train Epoch: 8 [40320/60000 (67%)]\tLoss: 0.298038\n",
      "Train Epoch: 8 [40960/60000 (68%)]\tLoss: 0.078843\n",
      "Train Epoch: 8 [41600/60000 (69%)]\tLoss: 0.232383\n",
      "Train Epoch: 8 [42240/60000 (70%)]\tLoss: 0.253138\n",
      "Train Epoch: 8 [42880/60000 (71%)]\tLoss: 0.081790\n",
      "Train Epoch: 8 [43520/60000 (72%)]\tLoss: 0.100285\n",
      "Train Epoch: 8 [44160/60000 (74%)]\tLoss: 0.078143\n",
      "Train Epoch: 8 [44800/60000 (75%)]\tLoss: 0.246478\n",
      "Train Epoch: 8 [45440/60000 (76%)]\tLoss: 0.084969\n",
      "Train Epoch: 8 [46080/60000 (77%)]\tLoss: 0.078860\n",
      "Train Epoch: 8 [46720/60000 (78%)]\tLoss: 0.262152\n",
      "Train Epoch: 8 [47360/60000 (79%)]\tLoss: 0.272188\n",
      "Train Epoch: 8 [48000/60000 (80%)]\tLoss: 0.069414\n",
      "Train Epoch: 8 [48640/60000 (81%)]\tLoss: 0.080365\n",
      "Train Epoch: 8 [49280/60000 (82%)]\tLoss: 0.138555\n",
      "Train Epoch: 8 [49920/60000 (83%)]\tLoss: 0.090113\n",
      "Train Epoch: 8 [50560/60000 (84%)]\tLoss: 0.057887\n",
      "Train Epoch: 8 [51200/60000 (85%)]\tLoss: 0.284742\n",
      "Train Epoch: 8 [51840/60000 (86%)]\tLoss: 0.123357\n",
      "Train Epoch: 8 [52480/60000 (87%)]\tLoss: 0.133439\n",
      "Train Epoch: 8 [53120/60000 (88%)]\tLoss: 0.147280\n",
      "Train Epoch: 8 [53760/60000 (90%)]\tLoss: 0.094137\n",
      "Train Epoch: 8 [54400/60000 (91%)]\tLoss: 0.035670\n",
      "Train Epoch: 8 [55040/60000 (92%)]\tLoss: 0.149652\n",
      "Train Epoch: 8 [55680/60000 (93%)]\tLoss: 0.293940\n",
      "Train Epoch: 8 [56320/60000 (94%)]\tLoss: 0.132282\n",
      "Train Epoch: 8 [56960/60000 (95%)]\tLoss: 0.227456\n",
      "Train Epoch: 8 [57600/60000 (96%)]\tLoss: 0.124661\n",
      "Train Epoch: 8 [58240/60000 (97%)]\tLoss: 0.064479\n",
      "Train Epoch: 8 [58880/60000 (98%)]\tLoss: 0.132122\n",
      "Train Epoch: 8 [59520/60000 (99%)]\tLoss: 0.143904\n",
      "\n",
      "Test set: Avg. loss: 0.0399, Accuracy: 9873/10000 (99%)\n",
      "\n"
     ]
    }
   ],
   "source": [
    "for i in range(4,9):\n",
    "    test_counter.append(i*len(train_loader.dataset))\n",
    "    train(i)\n",
    "    test()"
   ]
  },
  {
   "cell_type": "code",
   "execution_count": 23,
   "metadata": {
    "colab": {},
    "colab_type": "code",
    "id": "NxYmh53EGl0D"
   },
   "outputs": [],
   "source": [
    "torch.save(network.state_dict(), './model.pth')\n",
    "torch.save(optimizer.state_dict(), './optimizer.pth')"
   ]
  },
  {
   "cell_type": "code",
   "execution_count": null,
   "metadata": {
    "colab": {},
    "colab_type": "code",
    "id": "IKAhlFLqGl0F"
   },
   "outputs": [],
   "source": []
  },
  {
   "cell_type": "code",
   "execution_count": null,
   "metadata": {
    "colab": {},
    "colab_type": "code",
    "id": "E1SXMq5HGl0H"
   },
   "outputs": [],
   "source": []
  },
  {
   "cell_type": "code",
   "execution_count": null,
   "metadata": {
    "colab": {},
    "colab_type": "code",
    "id": "TJQ8dxuFGl0J"
   },
   "outputs": [],
   "source": []
  },
  {
   "cell_type": "code",
   "execution_count": 21,
   "metadata": {
    "colab": {},
    "colab_type": "code",
    "id": "rqgpa4MXGl0K",
    "outputId": "ee5ca95d-9b42-44b1-9d04-e4c37ce31fdd"
   },
   "outputs": [
    {
     "data": {
      "image/png": "[encoded data removed]",
      "text/plain": [
       "<Figure size 432x288 with 1 Axes>"
      ]
     },
     "execution_count": 21,
     "metadata": {},
     "output_type": "execute_result"
    },
    {
     "data": {
      "image/png": "[encoded data removed]",
      "text/plain": [
       "<Figure size 432x288 with 1 Axes>"
      ]
     },
     "metadata": {
      "needs_background": "light"
     },
     "output_type": "display_data"
    }
   ],
   "source": [
    "fig = plt.figure()\n",
    "plt.plot(train_counter, train_losses, color='blue')\n",
    "plt.scatter(test_counter, test_losses, color = 'red')\n",
    "plt.legend(['Train Loss', 'Test Loss'], loc ='upper left')\n",
    "plt.xlabel('number of training examples seen')\n",
    "plt.ylabel('negative log likelihood loss')\n",
    "fig\n"
   ]
  },
  {
   "cell_type": "code",
   "execution_count": null,
   "metadata": {
    "colab": {},
    "colab_type": "code",
    "id": "G3UYxy6EGl0L"
   },
   "outputs": [],
   "source": []
  },
  {
   "cell_type": "code",
   "execution_count": null,
   "metadata": {
    "colab": {},
    "colab_type": "code",
    "id": "aKuk4DU8Gl0N"
   },
   "outputs": [],
   "source": [
    "# loading image for recognition\n"
   ]
  },
  {
   "cell_type": "code",
   "execution_count": 1,
   "metadata": {
    "colab": {},
    "colab_type": "code",
    "id": "Enz402QRGl0O"
   },
   "outputs": [],
   "source": [
    "import pandas as pd\n",
    "import numpy as np\n",
    "import matplotlib.pyplot as plt\n",
    "import matplotlib.image as mpimg\n",
    "from IPython.display import Image\n",
    "import cv2\n",
    "import os\n",
    "from torchvision import transforms\n",
    "import torch\n",
    "import pickle\n",
    "from random import shuffle"
   ]
  },
  {
   "cell_type": "code",
   "execution_count": 2,
   "metadata": {
    "colab": {},
    "colab_type": "code",
    "id": "p2YrxFT_Gl0Q"
   },
   "outputs": [],
   "source": [
    "import operator\n",
    "import cv2\n",
    "import numpy as np\n",
    "def pre_process_image(img, skip_dilate=False):\n",
    "    \"\"\"Uses a blurring function, adaptive thresholding and dilation to expose the main features of an image.\"\"\"\n",
    "    # Gaussian blur with a kernal size (height, width) of 9.\n",
    "    # Note that kernal sizes must be positive and odd and the kernel must be square.\n",
    "    proc = cv2.GaussianBlur(img.copy(), (9, 9), 0)\n",
    "    # Adaptive threshold using 11 nearest neighbour pixels\n",
    "    proc = cv2.adaptiveThreshold(proc, 255, cv2.ADAPTIVE_THRESH_GAUSSIAN_C, cv2.THRESH_BINARY, 11, 2)\n",
    "    # Invert colours, so gridlines have non-zero pixel values.\n",
    "    # Necessary to dilate the image, otherwise will look like erosion instead.\n",
    "    proc = cv2.bitwise_not(proc, proc)\n",
    "    #if not skip_dilate:\n",
    "    #    # Dilate the image to increase the size of the grid lines.\n",
    "    #    kernel = np.array([[0., 1., 0.], [1., 1., 1.], [0., 1., 0.]])\n",
    "    #    proc = cv2.dilate(proc, kernel)\n",
    "    return proc\n",
    "def find_corners_of_largest_polygon(img):\n",
    "    \"\"\"Finds the 4 extreme corners of the largest contour in the image.\"\"\"\n",
    "    contours, h = cv2.findContours(img.copy(), cv2.RETR_EXTERNAL, cv2.CHAIN_APPROX_SIMPLE)  # Find contours\n",
    "    contours = sorted(contours, key=cv2.contourArea, reverse=True)  # Sort by area, descending\n",
    "    polygon = contours[0]  # Largest image\n",
    "    # Use of `operator.itemgetter` with `max` and `min` allows us to get the index of the point\n",
    "    # Each point is an array of 1 coordinate, hence the [0] getter, then [0] or [1] used to get x and y respectively.\n",
    "    # Bottom-right point has the largest (x + y) value\n",
    "    # Top-left has point smallest (x + y) value\n",
    "    # Bottom-left point has smallest (x - y) value\n",
    "    # Top-right point has largest (x - y) value\n",
    "    bottom_right, _ = max(enumerate([pt[0][0] + pt[0][1] for pt in polygon]), key=operator.itemgetter(1))\n",
    "    top_left, _ = min(enumerate([pt[0][0] + pt[0][1] for pt in polygon]), key=operator.itemgetter(1))\n",
    "    bottom_left, _ = min(enumerate([pt[0][0] - pt[0][1] for pt in polygon]), key=operator.itemgetter(1))\n",
    "    top_right, _ = max(enumerate([pt[0][0] - pt[0][1] for pt in polygon]), key=operator.itemgetter(1))\n",
    "    # Return an array of all 4 points using the indices\n",
    "    # Each point is in its own array of one coordinate\n",
    "    return [polygon[top_left][0], polygon[top_right][0], polygon[bottom_right][0], polygon[bottom_left][0]]\n",
    "def display_points(in_img, points, radius=5, colour=(0, 0, 255)):\n",
    "    \"\"\"Draws circular points on an image.\"\"\"\n",
    "    img = in_img.copy()\n",
    "    # Dynamically change to a colour image if necessary\n",
    "    if len(colour) == 3:\n",
    "        if len(img.shape) == 2:\n",
    "            img = cv2.cvtColor(img, cv2.COLOR_GRAY2BGR)\n",
    "        elif img.shape[2] == 1:\n",
    "            img = find_corners_of_largest_polygon(img)\n",
    "    \"\"\"Finds the 4 extreme corners of the largest contour in the image.\"\"\"\n",
    "    contours, h = cv2.findContours(img.copy(), cv2.RETR_EXTERNAL, cv2.CHAIN_APPROX_SIMPLE)  # Find contours\n",
    "    contours = sorted(contours, key=cv2.contourArea, reverse=True)  # Sort by area, descending\n",
    "    polygon = contours[0]  # Largest image\n",
    "    # Use of `operator.itemgetter` with `max` and `min` allows us to get the index of the point\n",
    "    # Each point is an array of 1 coordinate, hence the [0] getter, then [0] or [1] used to get x and y respectively.\n",
    "    # Bottom-right point has the largest (x + y) value\n",
    "    # Top-left has point smallest (x + y) value\n",
    "    # Bottom-left point has smallest (x - y) value\n",
    "    # Top-right point has largest (x - y) value\n",
    "    bottom_right, _ = max(enumerate([pt[0][0] + pt[0][1] for pt in polygon]), key=operator.itemgetter(1))\n",
    "    top_left, _ = min(enumerate([pt[0][0] + pt[0][1] for pt in polygon]), key=operator.itemgetter(1))\n",
    "    bottom_left, _ = min(enumerate([pt[0][0] - pt[0][1] for pt in polygon]), key=operator.itemgetter(1))\n",
    "    top_right, _ = max(enumerate([pt[0][0] - pt[0][1] for pt in polygon]), key=operator.itemgetter(1))\n",
    "    for point in points:\n",
    "        img = cv2.circle(img, tuple(int(x) for x in point), radius, colour, -1)\n",
    "    #show_image(img)\n",
    "    return img\n",
    "def show_image(img):\n",
    "    \"\"\"Shows an image until any key is pressed.\"\"\"\n",
    "    cv2.imshow('image', img)  # Display the image\n",
    "    cv2.waitKey(0)  # Wait for any key to be pressed (with the image window active)\n",
    "    cv2.destroyAllWindows()  # Close all windows\n",
    "def crop_and_warp(img, crop_rect):\n",
    "\t\"\"\"Crops and warps a rectangular section from an image into a square of similar size.\"\"\"\n",
    "\t# Rectangle described by top left, top right, bottom right and bottom left points\n",
    "\ttop_left, top_right, bottom_right, bottom_left = crop_rect[0], crop_rect[1], crop_rect[2], crop_rect[3]\n",
    "\t# Explicitly set the data type to float32 or `getPerspectiveTransform` will throw an error\n",
    "\tsrc = np.array([top_left, top_right, bottom_right, bottom_left], dtype='float32')\n",
    "\t# Get the longest side in the rectangle\n",
    "\tside = max([\n",
    "\t\tdistance_between(bottom_right, top_right),\n",
    "\t\tdistance_between(top_left, bottom_left),\n",
    "\t\tdistance_between(bottom_right, bottom_left),\n",
    "\t\tdistance_between(top_left, top_right)\n",
    "\t])\n",
    "\t# Describe a square with side of the calculated length, this is the new perspective we want to warp to\n",
    "\tdst = np.array([[0, 0], [side - 1, 0], [side - 1, side - 1], [0, side - 1]], dtype='float32')\n",
    "\t# Gets the transformation matrix for skewing the image to fit a square by comparing the 4 before and after points\n",
    "\tm = cv2.getPerspectiveTransform(src, dst)\n",
    "\t# Performs the transformation on the original image\n",
    "\treturn cv2.warpPerspective(img, m, (int(side), int(side)))\n",
    "def distance_between(p1, p2):\n",
    "    \"\"\"Returns the scalar distance between two points\"\"\"\n",
    "    a = p2[0] - p1[0]\n",
    "    b = p2[1] - p1[1]\n",
    "    return np.sqrt((a ** 2) + (b ** 2))\n"
   ]
  },
  {
   "cell_type": "code",
   "execution_count": 3,
   "metadata": {
    "colab": {},
    "colab_type": "code",
    "id": "QYeVBG50Gl0R"
   },
   "outputs": [],
   "source": [
    "img = cv2.imread('/home/rob/Desktop/test.png', cv2.IMREAD_GRAYSCALE)\n",
    "processed = pre_process_image(img)\n",
    "corners = find_corners_of_largest_polygon(processed)\n",
    "cropped = crop_and_warp(img, corners)\n",
    "show_image(cropped)"
   ]
  },
  {
   "cell_type": "code",
   "execution_count": 4,
   "metadata": {
    "colab": {},
    "colab_type": "code",
    "id": "hAZIOEyFGl0S",
    "outputId": "3e05ca9a-382f-4e18-b82c-b4f4ac818618"
   },
   "outputs": [
    {
     "data": {
      "text/plain": [
       "True"
      ]
     },
     "execution_count": 4,
     "metadata": {},
     "output_type": "execute_result"
    }
   ],
   "source": [
    "cv2.imwrite( \"/home/rob/Desktop/test_cropped.jpg\", cropped)\n"
   ]
  },
  {
   "cell_type": "code",
   "execution_count": 5,
   "metadata": {
    "colab": {},
    "colab_type": "code",
    "id": "psArGrBAGl0U",
    "outputId": "6acae47d-b2d2-424a-c8be-d355d0ef9c5a"
   },
   "outputs": [
    {
     "data": {
      "image/jpeg": "[encoded data removed]",
      "text/plain": [
       "<IPython.core.display.Image object>"
      ]
     },
     "execution_count": 5,
     "metadata": {},
     "output_type": "execute_result"
    }
   ],
   "source": [
    "(Image(filename=\"/home/rob/Desktop/test_cropped.jpg\"))"
   ]
  },
  {
   "cell_type": "code",
   "execution_count": 6,
   "metadata": {
    "colab": {},
    "colab_type": "code",
    "id": "3YyYMQ6MGl0V"
   },
   "outputs": [],
   "source": [
    "filename=\"/home/rob/Desktop/test_cropped.jpg\"\n",
    "img = cv2.imread(filename)"
   ]
  },
  {
   "cell_type": "code",
   "execution_count": 7,
   "metadata": {
    "colab": {},
    "colab_type": "code",
    "id": "TvL3HI7tGl0X"
   },
   "outputs": [],
   "source": [
    "cv2.imshow(\"Image\", img)\n",
    "cv2.waitKey(0)\n",
    "cv2.destroyAllWindows()"
   ]
  },
  {
   "cell_type": "code",
   "execution_count": 8,
   "metadata": {
    "colab": {},
    "colab_type": "code",
    "id": "mOa6a-sRGl0Z",
    "outputId": "7bcd3aa5-1911-4174-f2f8-f7b65fbbb705"
   },
   "outputs": [
    {
     "data": {
      "text/plain": [
       "<matplotlib.image.AxesImage at 0x7ff7f14cea50>"
      ]
     },
     "execution_count": 8,
     "metadata": {},
     "output_type": "execute_result"
    },
    {
     "data": {
      "image/png": "[encoded data removed]",
      "text/plain": [
       "<Figure size 432x288 with 1 Axes>"
      ]
     },
     "metadata": {
      "needs_background": "light"
     },
     "output_type": "display_data"
    }
   ],
   "source": [
    "W = 1000\n",
    "heigh, width, depth = img.shape\n",
    "imgScale = W/width\n",
    "newX, newY = img.shape[1]*imgScale, img.shape[0]*imgScale\n",
    "new_img = cv2.resize(img, (int(newX), int(newY)))\n",
    "cv2.imshow(\"Show by CV2\", new_img)\n",
    "cv2.waitKey(0)\n",
    "cv2.imwrite('resize_white_img.png', new_img)\n",
    "plt.imshow(new_img) "
   ]
  },
  {
   "cell_type": "code",
   "execution_count": 9,
   "metadata": {
    "colab": {},
    "colab_type": "code",
    "id": "-UdpJt6rGl0a"
   },
   "outputs": [],
   "source": [
    "invert_img = cv2.bitwise_not(new_img)\n",
    "cv2.imshow(\"invert1\", invert_img)\n",
    "cv2.waitKey(0)\n",
    "cv2.destroyAllWindows()"
   ]
  },
  {
   "cell_type": "code",
   "execution_count": 10,
   "metadata": {
    "colab": {},
    "colab_type": "code",
    "id": "HhSvHFW6Gl0b"
   },
   "outputs": [],
   "source": [
    "threshold, invert_img = cv2.threshold(invert_img, 60, 255, cv2.THRESH_BINARY)"
   ]
  },
  {
   "cell_type": "code",
   "execution_count": 11,
   "metadata": {
    "colab": {},
    "colab_type": "code",
    "id": "5sSnNdzjGl0d",
    "outputId": "2eda557b-82f5-4e5c-d860-8f2bd0ec3e4c"
   },
   "outputs": [
    {
     "data": {
      "text/plain": [
       "<matplotlib.image.AxesImage at 0x7ff7f0044750>"
      ]
     },
     "execution_count": 11,
     "metadata": {},
     "output_type": "execute_result"
    },
    {
     "data": {
      "image/png": "[encoded data removed]",
      "text/plain": [
       "<Figure size 432x288 with 1 Axes>"
      ]
     },
     "metadata": {
      "needs_background": "light"
     },
     "output_type": "display_data"
    }
   ],
   "source": [
    "plt.imshow(invert_img)"
   ]
  },
  {
   "cell_type": "markdown",
   "metadata": {
    "colab_type": "text",
    "id": "JfXS89tVGl0f"
   },
   "source": [
    "#### invert_img = (cv2.threshold(invert_img, 100, 255, cv2.THRESH_BINARY))\n",
    "invert_img = cv2.threshold(invert_img, 10, b qgf10, cv2.THRESH_BINARY)"
   ]
  },
  {
   "cell_type": "code",
   "execution_count": 12,
   "metadata": {
    "colab": {},
    "colab_type": "code",
    "id": "dOtlmwNlGl0f"
   },
   "outputs": [],
   "source": [
    "kernel_sharpening = np.array([[-1,-1,-1], \n",
    "                              [-1, 9,-1],\n",
    "                              [-1,-1,-1]])\n",
    "# applying the sharpening kernel to the input image & displaying it.\n",
    "sharpened = cv2.filter2D(invert_img[1], -1, kernel_sharpening)\n",
    "cv2.imshow('Image Sharpening', sharpened)\n",
    "cv2.waitKey(0)\n",
    "cv2.destroyAllWindows()"
   ]
  },
  {
   "cell_type": "code",
   "execution_count": 13,
   "metadata": {
    "colab": {},
    "colab_type": "code",
    "id": "9hRSYg77Gl0g"
   },
   "outputs": [],
   "source": [
    "rows = [(30,110), (125,205), (235,315), (350,430), (455,535), (580,660), (680,760), (785,865), (890,970)]\n",
    "columns = [(30,110), (130,210), (240,320), (355,435), (455,535), (575,655), (680,760), (800,880),(890,970)]\n",
    "images_list = []\n",
    "for unit in rows:\n",
    "    for units in columns:\n",
    "        images_list.append(invert_img[unit[0]:unit[1], units[0]:units[1]])"
   ]
  },
  {
   "cell_type": "code",
   "execution_count": 14,
   "metadata": {
    "colab": {},
    "colab_type": "code",
    "id": "cXfp9yg6Gl0i",
    "outputId": "972ac832-9c99-479d-f188-22d47422ecf7"
   },
   "outputs": [
    {
     "data": {
      "text/plain": [
       "<matplotlib.image.AxesImage at 0x7ff7e986f410>"
      ]
     },
     "execution_count": 14,
     "metadata": {},
     "output_type": "execute_result"
    },
    {
     "data": {
      "image/png": "[encoded data removed]",
      "text/plain": [
       "<Figure size 432x288 with 1 Axes>"
      ]
     },
     "metadata": {
      "needs_background": "light"
     },
     "output_type": "display_data"
    }
   ],
   "source": [
    "plt.imshow(images_list[2])"
   ]
  },
  {
   "cell_type": "code",
   "execution_count": 24,
   "metadata": {
    "colab": {},
    "colab_type": "code",
    "id": "Ux1v1CnIGl0j"
   },
   "outputs": [],
   "source": [
    "final_images = []\n",
    "for i in range(len(images_list)):\n",
    "#    img_array = cv2.imread(os.path.join(IMG_DIR, images))\n",
    "    img_array = cv2.cvtColor(images_list[i], cv2.COLOR_BGR2GRAY)\n",
    "    resize_img = cv2.resize(img_array, (28,28))\n",
    "    #new_img = cv2.threshold(resize_img, 115, 255, cv2.THRESH_BINARY)\n",
    "    final_images.append(resize_img)"
   ]
  },
  {
   "cell_type": "code",
   "execution_count": 25,
   "metadata": {
    "colab": {},
    "colab_type": "code",
    "id": "G3DZgNVMGl0l"
   },
   "outputs": [],
   "source": [
    "# transform = transforms.ToTensor()\n",
    "# torchvision.transforms.Normalize(0.1307,), (0.3081,)\n",
    "tensor_images = []\n",
    "for images in final_images:\n",
    "    tensors = torch.tensor(images, dtype=torch.float)\n",
    "    tensor_images.append(tensors)"
   ]
  },
  {
   "cell_type": "code",
   "execution_count": 56,
   "metadata": {
    "colab": {},
    "colab_type": "code",
    "id": "ivZoD5-UGl0m"
   },
   "outputs": [],
   "source": [
    "network = Net()\n",
    "continued_optimizer = optim.SGD(network.parameters(), lr=learning_rate,\n",
    "                                momentum=momentum)\n",
    "network_state_dict = torch.load('./model.pth')\n",
    "continued_network.load_state_dict(network_state_dict)\n",
    "optimizer_state_dict = torch.load('./optimizer.pth')\n",
    "continued_optimizer.load_state_dict(optimizer_state_dict)"
   ]
  },
  {
   "cell_type": "code",
   "execution_count": 41,
   "metadata": {
    "colab": {},
    "colab_type": "code",
    "id": "QJcde4NYGl0p",
    "outputId": "baea986c-9e9f-4433-970b-3eb53f89eb6f"
   },
   "outputs": [
    {
     "data": {
      "text/plain": [
       "(28.647959183673468, 222.87117346938774)"
      ]
     },
     "execution_count": 41,
     "metadata": {},
     "output_type": "execute_result"
    }
   ],
   "source": [
    "final_images[2].mean(), final_images[78].mean()"
   ]
  },
  {
   "cell_type": "code",
   "execution_count": 42,
   "metadata": {
    "colab": {},
    "colab_type": "code",
    "id": "B9UetxyOGl0r",
    "outputId": "ad8c692c-6345-44ab-861d-0d1e7c953a26"
   },
   "outputs": [
    {
     "name": "stdout",
     "output_type": "stream",
     "text": [
      "tensor(0.)\n",
      "tensor(0.)\n",
      "tensor(28.6480)\n",
      "tensor(0.)\n",
      "tensor(0.)\n",
      "tensor(31.6199)\n",
      "tensor(0.)\n",
      "tensor(0.)\n",
      "tensor(0.)\n",
      "tensor(0.)\n",
      "tensor(0.)\n",
      "tensor(14.0357)\n",
      "tensor(0.)\n",
      "tensor(23.6097)\n",
      "tensor(0.)\n",
      "tensor(28.4018)\n",
      "tensor(34.4056)\n",
      "tensor(36.4834)\n",
      "tensor(0.)\n",
      "tensor(0.)\n",
      "tensor(25.9885)\n",
      "tensor(16.0702)\n",
      "tensor(29.7245)\n",
      "tensor(0.)\n",
      "tensor(0.)\n",
      "tensor(0.)\n",
      "tensor(0.)\n",
      "tensor(26.5459)\n",
      "tensor(30.6531)\n",
      "tensor(0.)\n",
      "tensor(23.6913)\n",
      "tensor(0.)\n",
      "tensor(19.9298)\n",
      "tensor(0.)\n",
      "tensor(36.5408)\n",
      "tensor(18.5064)\n",
      "tensor(26.2309)\n",
      "tensor(0.)\n",
      "tensor(31.5689)\n",
      "tensor(0.)\n",
      "tensor(0.)\n",
      "tensor(0.)\n",
      "tensor(24.4936)\n",
      "tensor(0.0153)\n",
      "tensor(37.7258)\n",
      "tensor(50.1135)\n",
      "tensor(47.9860)\n",
      "tensor(21.3316)\n",
      "tensor(56.5676)\n",
      "tensor(20.7309)\n",
      "tensor(56.8520)\n",
      "tensor(17.6454)\n",
      "tensor(47.2423)\n",
      "tensor(50.4719)\n",
      "tensor(0.)\n",
      "tensor(0.)\n",
      "tensor(0.)\n",
      "tensor(0.9579)\n",
      "tensor(33.6339)\n",
      "tensor(24.8852)\n",
      "tensor(51.4209)\n",
      "tensor(64.2232)\n",
      "tensor(123.3189)\n",
      "tensor(18.4018)\n",
      "tensor(22.8776)\n",
      "tensor(37.9235)\n",
      "tensor(43.7487)\n",
      "tensor(122.1850)\n",
      "tensor(244.4171)\n",
      "tensor(228.8227)\n",
      "tensor(253.5179)\n",
      "tensor(253.5561)\n",
      "tensor(0.)\n",
      "tensor(0.)\n",
      "tensor(0.0179)\n",
      "tensor(32.6480)\n",
      "tensor(95.1722)\n",
      "tensor(182.2411)\n",
      "tensor(222.8712)\n",
      "tensor(253.9247)\n",
      "tensor(253.0829)\n"
     ]
    }
   ],
   "source": [
    "for i in range(len(tensor_images)):\n",
    "    print(tensor_images[i].mean())"
   ]
  },
  {
   "cell_type": "code",
   "execution_count": 43,
   "metadata": {
    "colab": {},
    "colab_type": "code",
    "id": "9K1wjBFTGl0s",
    "outputId": "8da86c70-50b0-47b6-af80-dc912afb732e"
   },
   "outputs": [
    {
     "data": {
      "text/plain": [
       "<matplotlib.image.AxesImage at 0x7fa1b3b08610>"
      ]
     },
     "execution_count": 43,
     "metadata": {},
     "output_type": "execute_result"
    },
    {
     "data": {
      "image/png": "[encoded data removed]",
      "text/plain": [
       "<Figure size 432x288 with 1 Axes>"
      ]
     },
     "metadata": {
      "needs_background": "light"
     },
     "output_type": "display_data"
    }
   ],
   "source": [
    "plt.imshow(images_list[6])"
   ]
  },
  {
   "cell_type": "code",
   "execution_count": 44,
   "metadata": {
    "colab": {},
    "colab_type": "code",
    "id": "PDQHlqbsGl0v",
    "outputId": "994cc843-5532-4e73-fb7e-ddb7ff5e4838"
   },
   "outputs": [
    {
     "data": {
      "text/plain": [
       "0.0"
      ]
     },
     "execution_count": 44,
     "metadata": {},
     "output_type": "execute_result"
    }
   ],
   "source": [
    "images_list[6].mean()"
   ]
  },
  {
   "cell_type": "code",
   "execution_count": 45,
   "metadata": {
    "colab": {},
    "colab_type": "code",
    "id": "HqUpUOBNGl0w"
   },
   "outputs": [],
   "source": [
    "def convert(tensor): # always be passing in an array\n",
    "    grid = []\n",
    "    for i in range(len(tensor)):\n",
    "        if tensor[i].mean().item() <= 10:\n",
    "            grid.append(\".\")\n",
    "        else:\n",
    "            grid.append(str(continued_network(tensor[i].view(1,1,28,28)).argmax().item()))\n",
    "    return grid"
   ]
  },
  {
   "cell_type": "code",
   "execution_count": 46,
   "metadata": {
    "colab": {},
    "colab_type": "code",
    "id": "RDTcKBfeGl0y",
    "outputId": "597f365b-4b06-4161-bf54-5c3f1d9ed924"
   },
   "outputs": [
    {
     "name": "stderr",
     "output_type": "stream",
     "text": [
      "/home/rob/anaconda3/envs/omega2020/lib/python3.7/site-packages/ipykernel_launcher.py:19: UserWarning: Implicit dimension choice for log_softmax has been deprecated. Change the call to include dim=X as an argument.\n"
     ]
    },
    {
     "data": {
      "text/plain": [
       "'5'"
      ]
     },
     "execution_count": 46,
     "metadata": {},
     "output_type": "execute_result"
    }
   ],
   "source": [
    "str(continued_network(tensor_images[9].view(1,1,28,28)).argmax().item())"
   ]
  },
  {
   "cell_type": "code",
   "execution_count": 47,
   "metadata": {
    "colab": {},
    "colab_type": "code",
    "id": "1PX66_TNGl0z",
    "outputId": "6f12ad43-9885-4fa9-8331-6c6808fbc840"
   },
   "outputs": [
    {
     "data": {
      "text/plain": [
       "<matplotlib.image.AxesImage at 0x7fa1b397db50>"
      ]
     },
     "execution_count": 47,
     "metadata": {},
     "output_type": "execute_result"
    },
    {
     "data": {
      "image/png": "[encoded data removed]",
      "text/plain": [
       "<Figure size 432x288 with 1 Axes>"
      ]
     },
     "metadata": {
      "needs_background": "light"
     },
     "output_type": "display_data"
    }
   ],
   "source": [
    "plt.imshow(final_images[3])"
   ]
  },
  {
   "cell_type": "code",
   "execution_count": 48,
   "metadata": {
    "colab": {},
    "colab_type": "code",
    "id": "OvAm6cWWGl00",
    "outputId": "f14b9a8e-98d1-49f9-bb5e-6288ae649eb5"
   },
   "outputs": [
    {
     "data": {
      "text/plain": [
       "<matplotlib.image.AxesImage at 0x7fa1b395fb10>"
      ]
     },
     "execution_count": 48,
     "metadata": {},
     "output_type": "execute_result"
    },
    {
     "data": {
      "image/png": "[encoded data removed]",
      "text/plain": [
       "<Figure size 432x288 with 1 Axes>"
      ]
     },
     "metadata": {
      "needs_background": "light"
     },
     "output_type": "display_data"
    }
   ],
   "source": [
    "plt.imshow(cropped)"
   ]
  },
  {
   "cell_type": "code",
   "execution_count": 49,
   "metadata": {
    "colab": {},
    "colab_type": "code",
    "id": "qUv1hj1XGl01",
    "outputId": "3b5e5919-9d61-4306-9d5d-c5963898ce01"
   },
   "outputs": [
    {
     "data": {
      "text/plain": [
       "<matplotlib.image.AxesImage at 0x7fa1b38cdc10>"
      ]
     },
     "execution_count": 49,
     "metadata": {},
     "output_type": "execute_result"
    },
    {
     "data": {
      "image/png": "[encoded data removed]",
      "text/plain": [
       "<Figure size 432x288 with 1 Axes>"
      ]
     },
     "metadata": {
      "needs_background": "light"
     },
     "output_type": "display_data"
    }
   ],
   "source": [
    "plt.imshow(final_images[2])"
   ]
  },
  {
   "cell_type": "code",
   "execution_count": 88,
   "metadata": {
    "colab": {},
    "colab_type": "code",
    "id": "l3y6Al7IGl03",
    "outputId": "a468eac1-1b5f-4c9a-df96-90ca583f41c6"
   },
   "outputs": [
    {
     "name": "stderr",
     "output_type": "stream",
     "text": [
      "/home/rob/anaconda3/envs/omega2020/lib/python3.7/site-packages/ipykernel_launcher.py:19: UserWarning: Implicit dimension choice for log_softmax has been deprecated. Change the call to include dim=X as an argument.\n"
     ]
    },
    {
     "data": {
      "text/plain": [
       "['.',\n",
       " '.',\n",
       " '8',\n",
       " '.',\n",
       " '.',\n",
       " '9',\n",
       " '.',\n",
       " '.',\n",
       " '.',\n",
       " '.',\n",
       " '.',\n",
       " '9',\n",
       " '.',\n",
       " '3',\n",
       " '.',\n",
       " '2',\n",
       " '8',\n",
       " '8',\n",
       " '.',\n",
       " '.',\n",
       " '5',\n",
       " '1',\n",
       " '6',\n",
       " '.',\n",
       " '.',\n",
       " '.',\n",
       " '.',\n",
       " '5',\n",
       " '8',\n",
       " '.',\n",
       " '4',\n",
       " '.',\n",
       " '7',\n",
       " '.',\n",
       " '2',\n",
       " '7',\n",
       " '4',\n",
       " '.',\n",
       " '6',\n",
       " '.',\n",
       " '.',\n",
       " '.',\n",
       " '7',\n",
       " '.',\n",
       " '0',\n",
       " '4',\n",
       " '4',\n",
       " '4',\n",
       " '4',\n",
       " '7',\n",
       " '9',\n",
       " '4',\n",
       " '9',\n",
       " '2',\n",
       " '.',\n",
       " '.',\n",
       " '.',\n",
       " '.',\n",
       " '4',\n",
       " '1',\n",
       " '5',\n",
       " '4',\n",
       " '6',\n",
       " '1',\n",
       " '2',\n",
       " '2',\n",
       " '4',\n",
       " '4',\n",
       " '1',\n",
       " '7',\n",
       " '8',\n",
       " '8',\n",
       " '.',\n",
       " '.',\n",
       " '.',\n",
       " '7',\n",
       " '8',\n",
       " '3',\n",
       " '7',\n",
       " '1',\n",
       " '3']"
      ]
     },
     "execution_count": 88,
     "metadata": {},
     "output_type": "execute_result"
    }
   ],
   "source": [
    "convert(tensor_images)"
   ]
  },
  {
   "cell_type": "code",
   "execution_count": null,
   "metadata": {
    "colab": {},
    "colab_type": "code",
    "id": "kVzMENTfGl04",
    "outputId": "24f26472-8f72-4507-fab6-0af10d8678df"
   },
   "outputs": [
    {
     "ename": "SyntaxError",
     "evalue": "unexpected EOF while parsing (<ipython-input-360-9c6170dfe46f>, line 1)",
     "output_type": "error",
     "traceback": [
      "\u001b[1;36m  File \u001b[1;32m\"<ipython-input-360-9c6170dfe46f>\"\u001b[1;36m, line \u001b[1;32m1\u001b[0m\n\u001b[1;33m    plt.imshow(\u001b[0m\n\u001b[1;37m               ^\u001b[0m\n\u001b[1;31mSyntaxError\u001b[0m\u001b[1;31m:\u001b[0m unexpected EOF while parsing\n"
     ]
    }
   ],
   "source": [
    "plt.imshow("
   ]
  },
  {
   "cell_type": "code",
   "execution_count": 89,
   "metadata": {
    "colab": {},
    "colab_type": "code",
    "id": "moKew7LnGl05",
    "outputId": "34f1b57b-baa0-43e3-b6ae-2958a484d858"
   },
   "outputs": [
    {
     "data": {
      "text/plain": [
       "<matplotlib.image.AxesImage at 0x7fa1b11e5610>"
      ]
     },
     "execution_count": 89,
     "metadata": {},
     "output_type": "execute_result"
    },
    {
     "data": {
      "image/png": "[encoded data removed]",
      "text/plain": [
       "<Figure size 432x288 with 1 Axes>"
      ]
     },
     "metadata": {
      "needs_background": "light"
     },
     "output_type": "display_data"
    }
   ],
   "source": [
    "plt.imshow(final_images[5])"
   ]
  },
  {
   "cell_type": "code",
   "execution_count": 90,
   "metadata": {
    "colab": {},
    "colab_type": "code",
    "id": "kcPeV-gqGl06",
    "outputId": "e63cb6d3-ce8c-442d-d7c7-d0742a7a47ee"
   },
   "outputs": [
    {
     "data": {
      "text/plain": [
       "31.619897959183675"
      ]
     },
     "execution_count": 90,
     "metadata": {},
     "output_type": "execute_result"
    }
   ],
   "source": [
    "final_images[5].mean()"
   ]
  },
  {
   "cell_type": "code",
   "execution_count": null,
   "metadata": {
    "colab": {},
    "colab_type": "code",
    "id": "VMOM2zgNGl07"
   },
   "outputs": [],
   "source": []
  }
 ],
 "metadata": {
  "colab": {
   "name": "baseline_model.ipynb",
   "provenance": []
  },
  "kernelspec": {
   "display_name": "Omega 2020",
   "language": "python",
   "name": "omega2020"
  },
  "language_info": {
   "codemirror_mode": {
    "name": "ipython",
    "version": 3
   },
   "file_extension": ".py",
   "mimetype": "text/x-python",
   "name": "python",
   "nbconvert_exporter": "python",
   "pygments_lexer": "ipython3",
   "version": "3.7.4"
  }
 },
 "nbformat": 4,
 "nbformat_minor": 4
}
